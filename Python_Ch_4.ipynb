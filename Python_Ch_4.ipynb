{
 "cells": [
  {
   "cell_type": "markdown",
   "metadata": {},
   "source": [
    "# 🕮 4: 字典\n",
    "🖊本章介绍一种可通过名称来访问其各个值的数据结构。这种数据结构称为映射（mapping）。字典是Python中唯一 的内置映射类型，其中的值不按顺序排列，而是存储在键下。键可能是数、字符串或元组。 \n",
    "\n",
    "+ 4.1 [字典的用途](#4.1-字典的用途)\n",
    "+ 4.2 [创建和使用字典](#4.2-创建和使用字典)\n",
    "    + 4.2.1 [函数dict](#4.2.1-函数-dict)\n",
    "    + 4.2.2 [字典的基本操作](#4.2.2-字典的基本操作)\n",
    "    + 4.2.3 [ 将字符串格式设置功能用于字典](#4.2.3-将字符串格式设置功能用于字典)\n",
    "    + 4.2.4 [ 字典方法](#4.2.4-字典方法)\n",
    "+ 4.3 [总结](#4.3-小结)"
   ]
  },
  {
   "cell_type": "markdown",
   "metadata": {},
   "source": [
    "## 4.1 字典的用途"
   ]
  },
  {
   "cell_type": "markdown",
   "metadata": {},
   "source": [
    "* `键值对` `:`分隔\n",
    "* `键-值`对称为项（item) `,`分隔\n",
    "* 键需不同（其他映射类型亦如此，Python内置只此一种）\n",
    "* 函数`dict`创建**字典**\n",
    "* 从映射创建**字典**使用`copy`字典方法"
   ]
  },
  {
   "cell_type": "code",
   "execution_count": 4,
   "metadata": {
    "collapsed": true
   },
   "outputs": [
    {
     "data": {
      "text/plain": [
       "'3258'"
      ]
     },
     "execution_count": 4,
     "metadata": {},
     "output_type": "execute_result"
    }
   ],
   "source": [
    "names = ['Alice', 'Beth', 'Cecil', 'Dee-Dee', 'Earl'] \n",
    "numbers = ['2341', '9102', '3158', '0142', '5551'] \n",
    "#numbers[names.index('Cecil')] \n",
    "#####\n",
    "phonebook = {'Alice': '2341', 'Beth': '9102', 'Cecil': '3258'} \n",
    "phonebook['Cecil'] "
   ]
  },
  {
   "cell_type": "markdown",
   "metadata": {},
   "source": [
    "## 4.2 创建和使用字典\n"
   ]
  },
  {
   "cell_type": "markdown",
   "metadata": {},
   "source": [
    "### 4.2.1 函数 dict\n",
    "不提供实参时创建一个空字典（实质上是个类）"
   ]
  },
  {
   "cell_type": "code",
   "execution_count": 7,
   "metadata": {},
   "outputs": [
    {
     "data": {
      "text/plain": [
       "{'name': 'Gumby', 'age': 42}"
      ]
     },
     "execution_count": 7,
     "metadata": {},
     "output_type": "execute_result"
    }
   ],
   "source": [
    "#items = [('name', 'Gumby'), ('age', 42)] \n",
    "d = dict(name='Gumby', age=42) \n",
    "d = dict(items)\n",
    "d\n",
    "#d['name'] "
   ]
  },
  {
   "cell_type": "markdown",
   "metadata": {},
   "source": [
    "### 4.2.2 字典的基本操作"
   ]
  },
  {
   "cell_type": "markdown",
   "metadata": {},
   "source": [
    "* `len(d)` 返回字典d包含的项（键-值对）数。\n",
    "* `d[k]` 返回与键k相关联的值。 \n",
    "* `d[k] = v` 将值v关联到键k。\n",
    "* `del d[k]` 删除键为k的项。 \n",
    "* `k in d` 检查字典d是否包含键为k的项"
   ]
  },
  {
   "cell_type": "markdown",
   "metadata": {},
   "source": [
    "* 键的**类型**：任何不可变类型（字典的主要优点）\n",
    "* **自动添加**：可以给字典中没有的键赋值，不需要像列表使用`append`或其他方法\n",
    "* `k in d` 判断键k是否在字典d中，`v in l` 对于列表来说查找的是值而不是索引。前者效率更高"
   ]
  },
  {
   "cell_type": "code",
   "execution_count": 8,
   "metadata": {
    "collapsed": true
   },
   "outputs": [
    {
     "data": {
      "text/plain": [
       "{42: 'Foobar'}"
      ]
     },
     "execution_count": 8,
     "metadata": {},
     "output_type": "execute_result"
    }
   ],
   "source": [
    "x = [] \n",
    "#x = [None]* 43\n",
    "#x[42] = 'Foobar' \n",
    "##\n",
    "y = {}\n",
    "y[42] = 'Foobar' \n",
    "y"
   ]
  },
  {
   "cell_type": "code",
   "execution_count": 9,
   "metadata": {
    "collapsed": true
   },
   "outputs": [
    {
     "name": "stdout",
     "output_type": "stream",
     "text": [
      "Name: Alice\n",
      "Phone number (p) or address (a)? p\n",
      "Alice's phone number is 2341.\n"
     ]
    }
   ],
   "source": [
    "# A simple database\n",
    "\n",
    "# A dictionary with person names as keys. Each person is represented as\n",
    "# another dictionary with the keys 'phone' and 'addr' referring to their phone\n",
    "# number and address, respectively.\n",
    "people = {\n",
    "\n",
    "    'Alice': {\n",
    "        'phone': '2341',\n",
    "        'addr': 'Foo drive 23'\n",
    "    },\n",
    "\n",
    "    'Beth': {\n",
    "        'phone': '9102',\n",
    "        'addr': 'Bar street 42'\n",
    "    },\n",
    "\n",
    "    'Cecil': {\n",
    "        'phone': '3158',\n",
    "        'addr': 'Baz avenue 90'\n",
    "    }\n",
    "\n",
    "}\n",
    "\n",
    "# Descriptive labels for the phone number and address. These will be used\n",
    "# when printing the output.\n",
    "labels = {\n",
    "    'phone': 'phone number',\n",
    "    'addr': 'address'\n",
    "}\n",
    "\n",
    "name = input('Name: ')\n",
    "\n",
    "# Are we looking for a phone number or an address?\n",
    "request = input('Phone number (p) or address (a)? ')\n",
    "\n",
    "# Use the correct key:\n",
    "if request == 'p': key = 'phone'\n",
    "if request == 'a': key = 'addr'\n",
    "\n",
    "# Only try to print information if the name is a valid key in\n",
    "# our dictionary:\n",
    "if name in people: print(\"{}'s {} is {}.\".format(name, labels[key], people[name][key]))"
   ]
  },
  {
   "cell_type": "markdown",
   "metadata": {},
   "source": [
    "### 4.2.3 将字符串格式设置功能用于字典 \n",
    "使用`format_map`格式化成字符串形式"
   ]
  },
  {
   "cell_type": "code",
   "execution_count": 10,
   "metadata": {
    "collapsed": true
   },
   "outputs": [
    {
     "data": {
      "text/plain": [
       "\"Cecil's phone number is 3258.\""
      ]
     },
     "execution_count": 10,
     "metadata": {},
     "output_type": "execute_result"
    }
   ],
   "source": [
    "phonebook = {'Beth': '9102', 'Alice': '2341', 'Cecil': '3258'} \n",
    "\"Cecil's phone number is {Cecil}.\".format_map(phonebook) "
   ]
  },
  {
   "cell_type": "code",
   "execution_count": 11,
   "metadata": {
    "collapsed": true
   },
   "outputs": [
    {
     "name": "stdout",
     "output_type": "stream",
     "text": [
      "<html> \n",
      " <head><title>My Home Page</title></head> \n",
      " <body>\n",
      "     <h1>My Home Page</h1>\n",
      "         <p>Welcome to my home page!</p>  \n",
      " </body>\n",
      "</html>\n"
     ]
    }
   ],
   "source": [
    "template = '''<html> \n",
    " <head><title>{title}</title></head> \n",
    " <body>\n",
    "     <h1>{title}</h1>\n",
    "         <p>{text}</p>  \n",
    " </body>\n",
    "</html>''' \n",
    "data = {'title': 'My Home Page', 'text': 'Welcome to my home page!'} \n",
    "print(template.format_map(data)) "
   ]
  },
  {
   "cell_type": "markdown",
   "metadata": {},
   "source": [
    "### 4.2.4 字典方法\n",
    "1. **`clear`** 清空原有项 item\n",
    "2. **`copy`** 浅复制（项与原来字典相同）\n",
    "3. **`fromkeys`** 创建一个新字典\n",
    "4. **`get`** 返回指定键的值\n",
    "5. **`items`** 返回一个包含所有字典项的列\n",
    "6. **`keys`** 返回一个字典视图，其中包含指定字典中的键\n",
    "7. **`pop`**  获取与指定键相关联的值，并将该键值对从字典中删除\n",
    "8. **`popitem`** 类似于list.pop，而popitem随机弹出一个字典项。P.S.; 测试为弹出最后一个\n",
    "9. **`setdefault`** 获取与指定键相关联的值，若字典不包含指定的键时，在字典中添加指定的键值对\n",
    "10. **`update`**  使用一个字典中的项来更新另一个字典\n",
    "11. **`values`**  返回一个由字典中的值组成的字典视图"
   ]
  },
  {
   "cell_type": "code",
   "execution_count": 13,
   "metadata": {
    "collapsed": true
   },
   "outputs": [
    {
     "data": {
      "text/plain": [
       "{}"
      ]
     },
     "execution_count": 13,
     "metadata": {},
     "output_type": "execute_result"
    }
   ],
   "source": [
    "#1. clear\n",
    "d = {}\n",
    "d['name'] = 'Gumby'\n",
    "d['age'] = 42\n",
    "#d\n",
    "returned_value = d.clear()\n",
    "d\n",
    "#print(returned_value)"
   ]
  },
  {
   "cell_type": "code",
   "execution_count": 15,
   "metadata": {
    "collapsed": true
   },
   "outputs": [
    {
     "data": {
      "text/plain": [
       "{}"
      ]
     },
     "execution_count": 15,
     "metadata": {},
     "output_type": "execute_result"
    }
   ],
   "source": [
    "#1. clear\n",
    "x = {}\n",
    "y = x\n",
    "x['key'] ='value'\n",
    "\n",
    "#x = {} ##清空x不清空y\n",
    "x.clear() #都清空\n",
    "y\n",
    "#x\n"
   ]
  },
  {
   "cell_type": "code",
   "execution_count": 18,
   "metadata": {
    "collapsed": true
   },
   "outputs": [
    {
     "data": {
      "text/plain": [
       "{'username': 'admin', 'machines': ['foo', 'baz']}"
      ]
     },
     "execution_count": 18,
     "metadata": {},
     "output_type": "execute_result"
    }
   ],
   "source": [
    "#2.copy  浅复制\n",
    "x = {'username': 'admin', 'machines': ['foo', 'bar', 'baz']} \n",
    "y = x.copy() \n",
    "y['username'] = 'mlh' \n",
    "y['machines'].remove('bar') \n",
    "#y\n",
    "x"
   ]
  },
  {
   "cell_type": "code",
   "execution_count": 21,
   "metadata": {
    "collapsed": true
   },
   "outputs": [
    {
     "data": {
      "text/plain": [
       "{'names': ['Alfred', 'Bertrand']}"
      ]
     },
     "execution_count": 21,
     "metadata": {},
     "output_type": "execute_result"
    }
   ],
   "source": [
    "#2.deepcopy  深复制\n",
    "from copy import deepcopy \n",
    "d = {} \n",
    "d['names'] = ['Alfred', 'Bertrand'] \n",
    "c = d.copy() \n",
    "dc = deepcopy(d) \n",
    "d['names'].append('Clive') \n",
    "#c\n",
    "dc"
   ]
  },
  {
   "cell_type": "code",
   "execution_count": 22,
   "metadata": {
    "collapsed": true
   },
   "outputs": [
    {
     "data": {
      "text/plain": [
       "{'name': '(unknown)', 'age': '(unknown)'}"
      ]
     },
     "execution_count": 22,
     "metadata": {},
     "output_type": "execute_result"
    }
   ],
   "source": [
    "#3. fromkeys\n",
    "{}.fromkeys(['name', 'age']) #先创建一个空字典再调用fromkeys创建另外一个字典\n",
    "dict.fromkeys(['name', 'age']) \n",
    "dict.fromkeys(['name', 'age'], '(unknown)') #提供默认值\n",
    "#dict.fromkeys('age', '(unknown)')"
   ]
  },
  {
   "cell_type": "code",
   "execution_count": 23,
   "metadata": {
    "collapsed": true
   },
   "outputs": [
    {
     "name": "stdout",
     "output_type": "stream",
     "text": [
      "None\n",
      "N/A\n"
     ]
    },
    {
     "data": {
      "text/plain": [
       "'Eric'"
      ]
     },
     "execution_count": 23,
     "metadata": {},
     "output_type": "execute_result"
    }
   ],
   "source": [
    "# 4.get\n",
    "d = {}\n",
    "#print(d['name'])\n",
    "print(d.get('name'))\n",
    "print(d.get('name','N/A')) #指定为None时的值\n",
    "d['name'] = 'Eric'\n",
    "d.get('name')\n",
    "#print(d.get('name','N/A'))"
   ]
  },
  {
   "cell_type": "code",
   "execution_count": 25,
   "metadata": {
    "collapsed": true
   },
   "outputs": [
    {
     "name": "stdout",
     "output_type": "stream",
     "text": [
      "Name: ls\n",
      "Phone number (p) or address (a)? a\n",
      "ls's address is not available.\n"
     ]
    }
   ],
   "source": [
    "# A simple database using get()\n",
    "\n",
    "# Insert database (people) from Listing 4-1 here.\n",
    "people = {\n",
    "\n",
    "    'Alice': {\n",
    "        'phone': '2341',\n",
    "        'addr': 'Foo drive 23'\n",
    "    },\n",
    "\n",
    "    'Beth': {\n",
    "        'phone': '9102',\n",
    "        'addr': 'Bar street 42'\n",
    "    },\n",
    "\n",
    "    'Cecil': {\n",
    "        'phone': '3158',\n",
    "        'addr': 'Baz avenue 90'\n",
    "    }\n",
    "\n",
    "}\n",
    "labels = {\n",
    "    'phone': 'phone number',\n",
    "    'addr': 'address'\n",
    "}\n",
    "\n",
    "name = input('Name: ')\n",
    "\n",
    "# Are we looking for a phone number or an address?\n",
    "request = input('Phone number (p) or address (a)? ')\n",
    "\n",
    "# Use the correct key:\n",
    "key = request # In case the request is neither 'p' nor 'a'\n",
    "if request == 'p': key = 'phone'\n",
    "if request == 'a': key = 'addr'\n",
    "\n",
    "# Use get to provide default values:\n",
    "person = people.get(name, {})\n",
    "label = labels.get(key, key)\n",
    "result = person.get(key, 'not available')\n",
    "\n",
    "print(\"{}'s {} is {}.\".format(name, label, result))"
   ]
  },
  {
   "cell_type": "code",
   "execution_count": 29,
   "metadata": {
    "collapsed": true
   },
   "outputs": [
    {
     "data": {
      "text/plain": [
       "True"
      ]
     },
     "execution_count": 29,
     "metadata": {},
     "output_type": "execute_result"
    }
   ],
   "source": [
    "# 5.items\n",
    "d = {'title': 'Python Web Site', 'url': 'http://www.python.org', 'spam': 0} \n",
    "d.items() #字典项排序不固定\n",
    "it = d.items() #返回值是一种名为字典视图的特殊类型，可用于迭代\n",
    "#len(it)\n",
    "#('spam',0) in it\n",
    "#-------------#\n",
    "d['spam'] = 1 #字典视图不复制\n",
    "('spam', 0) in it \n",
    "#d['spam']\n",
    "('spam', 1) in it \n",
    "list(d.items()) "
   ]
  },
  {
   "cell_type": "code",
   "execution_count": 30,
   "metadata": {
    "collapsed": true
   },
   "outputs": [
    {
     "data": {
      "text/plain": [
       "dict_keys(['title', 'url', 'spam'])"
      ]
     },
     "execution_count": 30,
     "metadata": {},
     "output_type": "execute_result"
    }
   ],
   "source": [
    "# 6. Keys\n",
    "#返回一个字典视图，其中包含指定字典中的键\n",
    "d = {'title': 'Python Web Site', 'url': 'http://www.python.org', 'spam': 0} \n",
    "d.keys()"
   ]
  },
  {
   "cell_type": "code",
   "execution_count": 32,
   "metadata": {
    "collapsed": true
   },
   "outputs": [
    {
     "data": {
      "text/plain": [
       "{'y': 2}"
      ]
     },
     "execution_count": 32,
     "metadata": {},
     "output_type": "execute_result"
    }
   ],
   "source": [
    "# 7.pop\n",
    "d = {'x': 1, 'y': 2} \n",
    "d.pop('x')\n",
    "d"
   ]
  },
  {
   "cell_type": "code",
   "execution_count": 34,
   "metadata": {},
   "outputs": [
    {
     "name": "stdout",
     "output_type": "stream",
     "text": [
      "('spam', 0)\n",
      "('url', 'http://www.python.org')\n",
      "('tag', 'Code')\n"
     ]
    }
   ],
   "source": [
    "# 8. popitem \n",
    "# 随机弹出一个字典项，字典项无序。PS.测试只弹出最后一个\n",
    "d = { 'tag': 'Code','url': 'http://www.python.org', 'spam': 0, 'title': 'Python Web Site'} \n",
    "d.popitem()\n",
    "#d\n",
    "while d:\n",
    "    print(d.popitem())"
   ]
  },
  {
   "cell_type": "code",
   "execution_count": 37,
   "metadata": {
    "collapsed": true
   },
   "outputs": [
    {
     "name": "stdout",
     "output_type": "stream",
     "text": [
      "N/A\n",
      "Gumby\n",
      "None\n"
     ]
    },
    {
     "data": {
      "text/plain": [
       "{'name': None}"
      ]
     },
     "execution_count": 37,
     "metadata": {},
     "output_type": "execute_result"
    }
   ],
   "source": [
    "# 9.sefdefault #添加键值对\n",
    "d = {}\n",
    "print(d.setdefault('name', 'N/A'))# 不指定默认值是值为None,类似get\n",
    "d\n",
    "d['name'] = 'Gumby'\n",
    "print(d.setdefault('name', 'N/A'))\n",
    "d\n",
    "##\n",
    "d1 = {}\n",
    "print(d1.setdefault('name'))\n",
    "d1"
   ]
  },
  {
   "cell_type": "code",
   "execution_count": 39,
   "metadata": {
    "collapsed": true
   },
   "outputs": [
    {
     "data": {
      "text/plain": [
       "{'title': 'Python Language Website',\n",
       " 'url': 'http://www.python.org',\n",
       " 'changed': 'Mar 14 22:09:15 MET 2018',\n",
       " 'tag': 'tag'}"
      ]
     },
     "execution_count": 39,
     "metadata": {},
     "output_type": "execute_result"
    }
   ],
   "source": [
    "# 10. update 使用一个字典中的项来更新另一个字典，如果如果当前字典包含键相同的项，就替换它，否则增加新字典项。\n",
    "d = {\n",
    "    'title': 'Python Web Site', \n",
    "    'url': 'http://www.python.org',\n",
    "    'changed': 'Mar 14 22:09:15 MET 2018'\n",
    "} \n",
    "x = {'title': 'Python Language Website','tag':'tag'} \n",
    "d.update(x) \n",
    "d"
   ]
  },
  {
   "cell_type": "code",
   "execution_count": 40,
   "metadata": {
    "collapsed": true
   },
   "outputs": [
    {
     "data": {
      "text/plain": [
       "dict_values([1, 3, 2, 1])"
      ]
     },
     "execution_count": 40,
     "metadata": {},
     "output_type": "execute_result"
    }
   ],
   "source": [
    "# 11. values 返回字典中值组成的字典视图，包含重复值\n",
    "d = {}\n",
    "d[1] = 1\n",
    "d[2] = 3\n",
    "d[3] = 2\n",
    "d[4] = 1\n",
    "d.values()"
   ]
  },
  {
   "cell_type": "markdown",
   "metadata": {},
   "source": [
    "## 4.3 小结\n",
    "+ **映射**： Python中唯一的映射类型即字典\n",
    "+ **将字符串格式设置功能用于字典**： 格式化字符串时使用`format_map`\n",
    "+ **字典方法**： 与列表和字符串方法类似\n",
    "\n",
    "函数**`dict(seq)`** 从键值对、映射或关键字参数创建字典 "
   ]
  }
 ],
 "metadata": {
  "kernelspec": {
   "display_name": "Python 3",
   "language": "python",
   "name": "python3"
  },
  "language_info": {
   "codemirror_mode": {
    "name": "ipython",
    "version": 3
   },
   "file_extension": ".py",
   "mimetype": "text/x-python",
   "name": "python",
   "nbconvert_exporter": "python",
   "pygments_lexer": "ipython3",
   "version": "3.6.6"
  }
 },
 "nbformat": 4,
 "nbformat_minor": 2
}
