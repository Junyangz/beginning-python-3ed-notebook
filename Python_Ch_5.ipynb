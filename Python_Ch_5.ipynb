{
 "cells": [
  {
   "cell_type": "markdown",
   "metadata": {},
   "source": [
    "# 🕮 5: 条件、循环及其他语句\n",
    "🖊本章深入探讨**条件语句**和**循环语句** 。然后介绍**列表推导**。最后，介绍pass、del和exec。"
   ]
  },
  {
   "cell_type": "markdown",
   "metadata": {},
   "source": [
    "+ 5.1 再谈print 和 import \n",
    "+ 5.2 赋值魔法\n",
    "+ 5.3 代码块：缩进的乐趣\n",
    "+ 5.4 条件和条件语句\n",
    "+ 5.5 循环\n",
    "+ 5.6 简单推导\n",
    "+ 5.7 三人行\n",
    "+ 5.8 小结"
   ]
  },
  {
   "cell_type": "markdown",
   "metadata": {},
   "source": [
    "## 5.6 再谈print 和 import "
   ]
  },
  {
   "cell_type": "markdown",
   "metadata": {},
   "source": [
    "### 5.1.1 打印多个参数 \n"
   ]
  },
  {
   "cell_type": "code",
   "execution_count": null,
   "metadata": {},
   "outputs": [],
   "source": [
    "name = 'Gumby'\n",
    "salutation = 'Mr.'\n",
    "greeting = 'Hello'\n",
    "print(greeting + ',' , salutation, name) \n",
    "print(\"I\", \"wish\", \"to\", \"register\", \"a\", \"complaint\", sep=\"_\") \n",
    "print('Hello,', end=' ') \n",
    "print('world!') "
   ]
  },
  {
   "cell_type": "markdown",
   "metadata": {},
   "source": [
    "### 5.1.2 导入时重命名\n",
    "\n",
    "    import somemodule \n",
    "    from somemodule import somefunction \n",
    "    from somemodule import somefunction, anotherfunction, yetanotherfunction \n",
    "    from somemodule import * \n",
    "    import somemodule as nickname\n",
    "    \n",
    "    from module1 import open as open1 \n",
    "    from module2 import open as open2"
   ]
  },
  {
   "cell_type": "code",
   "execution_count": 4,
   "metadata": {
    "collapsed": true
   },
   "outputs": [
    {
     "data": {
      "text/plain": [
       "2.0"
      ]
     },
     "execution_count": 4,
     "metadata": {},
     "output_type": "execute_result"
    }
   ],
   "source": [
    "import math as foobar \n",
    "foobar.sqrt(4)\n",
    "#from math import sqrt as foobar"
   ]
  },
  {
   "cell_type": "markdown",
   "metadata": {},
   "source": [
    "## 5.2 赋值魔法"
   ]
  },
  {
   "cell_type": "markdown",
   "metadata": {},
   "source": [
    "### 5.2.1 序列解包\n",
    "同时（并行）给多个变量赋值，生成序列可执行**序列解包**（或可迭代对象解包）"
   ]
  },
  {
   "cell_type": "code",
   "execution_count": 5,
   "metadata": {},
   "outputs": [
    {
     "name": "stdout",
     "output_type": "stream",
     "text": [
      "2 1 3\n"
     ]
    },
    {
     "data": {
      "text/plain": [
       "1"
      ]
     },
     "execution_count": 5,
     "metadata": {},
     "output_type": "execute_result"
    }
   ],
   "source": [
    "x, y, z = 1, 2, 3 \n",
    "x, y = y, x \n",
    "print(x, y, z) \n",
    "values = 1, 2, 3 \n",
    "a, b, c = values\n",
    "a"
   ]
  },
  {
   "cell_type": "markdown",
   "metadata": {},
   "source": [
    "返回元组或其他序列或可迭代对象的函数或方法很有用\n",
    "\n",
    "但要解包的序列包含的元素个数必须与你在等号左边列出的目标个数相同，否则Python将引发异常。"
   ]
  },
  {
   "cell_type": "code",
   "execution_count": 10,
   "metadata": {
    "collapsed": true
   },
   "outputs": [
    {
     "name": "stdout",
     "output_type": "stream",
     "text": [
      "girlfriend\n",
      "[3, 4]\n"
     ]
    }
   ],
   "source": [
    "scoundrel = {'name': 'Robin', 'girlfriend': 'Marion'} \n",
    "key, value = scoundrel.popitem() \n",
    "print(key)\n",
    "value\n",
    "#one,two,three = 1, 2\n",
    "#one ,two = 1, 2, 3\n",
    "one ,two, *rest = 1, 2, 3, 4 #用星号运算符（*）来收集多余的值，这样无需确保值和变量的个数相同\n",
    "print(rest)"
   ]
  },
  {
   "cell_type": "code",
   "execution_count": 11,
   "metadata": {},
   "outputs": [
    {
     "data": {
      "text/plain": [
       "['Percival', 'Wulfric', 'Brian']"
      ]
     },
     "execution_count": 11,
     "metadata": {},
     "output_type": "execute_result"
    }
   ],
   "source": [
    "name = \"Albus Percival Wulfric Brian Dumbledore\" \n",
    "first, *middle, last = name.split() #可将带星号的变量放在其他位置。 \n",
    "middle "
   ]
  },
  {
   "cell_type": "markdown",
   "metadata": {},
   "source": [
    "**赋值语句的右边可以是任何类型的序列**，这种收集方式也可用于函数参数列表中（参见第6章）。 "
   ]
  },
  {
   "cell_type": "code",
   "execution_count": 12,
   "metadata": {},
   "outputs": [
    {
     "data": {
      "text/plain": [
       "('a', ['b'], 'c')"
      ]
     },
     "execution_count": 12,
     "metadata": {},
     "output_type": "execute_result"
    }
   ],
   "source": [
    "a, *b, c = \"abc\"\n",
    "a, b, c "
   ]
  },
  {
   "cell_type": "markdown",
   "metadata": {},
   "source": [
    "### 5.2.2 链式赋值 \n",
    "链式赋值是一种快捷方式，用于将多个变量关联到同一个值。"
   ]
  },
  {
   "cell_type": "code",
   "execution_count": null,
   "metadata": {},
   "outputs": [],
   "source": [
    "x = y = somefunction() \n",
    "####\n",
    "y = somefunction() \n",
    "x = y \n",
    "## ！=\n",
    "x = somefunction() \n",
    "y = somefunction() "
   ]
  },
  {
   "cell_type": "markdown",
   "metadata": {},
   "source": [
    "### 5.2.3 增强赋值 \n",
    "`x = x + 1`\n",
    "写成`x += 1`。这称为**增强赋值**，适用于所有标准运算符，如`*、/、%`等。 \n",
    "也可用于其他数据类型（只要使用的双目运算符可用于这些数据类型）。 "
   ]
  },
  {
   "cell_type": "code",
   "execution_count": 13,
   "metadata": {},
   "outputs": [
    {
     "data": {
      "text/plain": [
       "'foobarfoobar'"
      ]
     },
     "execution_count": 13,
     "metadata": {},
     "output_type": "execute_result"
    }
   ],
   "source": [
    "fnord = 'foo' \n",
    "fnord += 'bar'    \n",
    "fnord *= 2 \n",
    "fnord"
   ]
  },
  {
   "cell_type": "markdown",
   "metadata": {},
   "source": [
    "通过使用增强赋值，可让代码更紧凑、更简洁，同时在很多情况下的可读性更强。 "
   ]
  },
  {
   "cell_type": "markdown",
   "metadata": {},
   "source": [
    "## 5.3 代码块：缩进的乐趣 \n",
    "   \n",
    "   代码块是一组语句，可在满足条件时执行（if语句），可执行多次（循环），等等。代码块是通过**缩进代码**来创建的。 \n",
    "   也可使用制表符来缩进代码块"
   ]
  },
  {
   "cell_type": "markdown",
   "metadata": {},
   "source": [
    "也可使用**制表符**来缩进代码块。Python将制表符解释为移到下一个制表位（相邻制表位 相距8个空格），但更佳的做法是只使用**空格**（而不使用制表符）来缩进， 且每级缩进`4`个空格。 "
   ]
  },
  {
   "cell_type": "code",
   "execution_count": null,
   "metadata": {},
   "outputs": [],
   "source": [
    "this is a line  \n",
    "this is another line:    \n",
    "    this is another block    \n",
    "    continuing the same block    \n",
    "    the last line of this block \n",
    "phew, there we escaped the inner block "
   ]
  },
  {
   "cell_type": "markdown",
   "metadata": {},
   "source": [
    "## 5.4 条件和条件语句 \n"
   ]
  },
  {
   "cell_type": "markdown",
   "metadata": {},
   "source": [
    "### 5.4.1 这正是布尔值的用武之地 \n",
    "\n",
    "+ 用作布尔表达式时 `False`   `None ` ` 0`   `\"\"`   `()`   `[] `  `{}`  均为假\n",
    "+ 其他各种值包括`True`等为真(任何Python值都可解释为真值)\n",
    "+ 标准真值为`True`和`False`, 是1和0的别名"
   ]
  },
  {
   "cell_type": "code",
   "execution_count": 14,
   "metadata": {},
   "outputs": [
    {
     "data": {
      "text/plain": [
       "43"
      ]
     },
     "execution_count": 14,
     "metadata": {},
     "output_type": "execute_result"
    }
   ],
   "source": [
    "True\n",
    "False #旧版本返回0或1\n",
    "#True == 1\n",
    "#False == 0\n",
    "True + False + 42"
   ]
  },
  {
   "cell_type": "code",
   "execution_count": 15,
   "metadata": {
    "collapsed": true
   },
   "outputs": [
    {
     "data": {
      "text/plain": [
       "False"
      ]
     },
     "execution_count": 15,
     "metadata": {},
     "output_type": "execute_result"
    }
   ],
   "source": [
    "bool('I think, therefore I am') \n",
    "bool('')\n",
    "bool(0)"
   ]
  },
  {
   "cell_type": "markdown",
   "metadata": {},
   "source": [
    "任何值都可用作布尔值，因此**不需要**显式地进行转换（Python会自动转换）"
   ]
  },
  {
   "cell_type": "code",
   "execution_count": 16,
   "metadata": {
    "collapsed": true
   },
   "outputs": [
    {
     "name": "stdout",
     "output_type": "stream",
     "text": [
      "True\n",
      "True\n",
      "False\n"
     ]
    }
   ],
   "source": [
    "print(bool([]) == bool(\"\") == False) # [] != \"\"\n",
    "print(() != False)\n",
    "print(bool(()) != False)"
   ]
  },
  {
   "cell_type": "markdown",
   "metadata": {},
   "source": [
    "### 5.4.2 有条件地执行和 if 语句 \n",
    "\n",
    "if语句能够有**条件地执行**代码"
   ]
  },
  {
   "cell_type": "code",
   "execution_count": 17,
   "metadata": {
    "collapsed": true
   },
   "outputs": [
    {
     "name": "stdout",
     "output_type": "stream",
     "text": [
      "What is your name? Gumby \n"
     ]
    }
   ],
   "source": [
    "name = input('What is your name? ') \n",
    "if name.endswith('Gumby'):     \n",
    "    print('Hello, Mr. Gumby') "
   ]
  },
  {
   "cell_type": "markdown",
   "metadata": {},
   "source": [
    "### 5.4.3 else 子句\n"
   ]
  },
  {
   "cell_type": "code",
   "execution_count": 22,
   "metadata": {
    "collapsed": true
   },
   "outputs": [
    {
     "name": "stdout",
     "output_type": "stream",
     "text": [
      "What is your name?junyang\n",
      "Hello, stranger\n"
     ]
    }
   ],
   "source": [
    "name = input('What is your name?') \n",
    "if name.endswith('Gumby'):     \n",
    "    print('Hello, Mr. Gumby') \n",
    "else:    \n",
    "    print('Hello, stranger') "
   ]
  },
  {
   "cell_type": "code",
   "execution_count": 18,
   "metadata": {
    "collapsed": true
   },
   "outputs": [
    {
     "name": "stdout",
     "output_type": "stream",
     "text": [
      "What is your name?1\n",
      "stranger\n"
     ]
    }
   ],
   "source": [
    "name = input('What is your name?') \n",
    "status = \"friend\" if name.endswith(\"Gumby\") else \"stranger\"  #条件表达式——C语言中三目运算符的Python版本 (a > b) ? a : b;\n",
    "print (status)"
   ]
  },
  {
   "cell_type": "markdown",
   "metadata": {},
   "source": [
    "### 5.4.4 elif 子句 \n",
    "\n",
    "要检查多个条件，可使用`elif`。`elif`是`else if`的缩写，是包含条件的else子句。 "
   ]
  },
  {
   "cell_type": "code",
   "execution_count": 26,
   "metadata": {
    "collapsed": true
   },
   "outputs": [
    {
     "name": "stdout",
     "output_type": "stream",
     "text": [
      "Enter a number: 1\n",
      "The number is positive\n"
     ]
    }
   ],
   "source": [
    "num = int(input('Enter a number: ')) \n",
    "if num > 0:      \n",
    "    print('The number is positive') \n",
    "elif num < 0:     \n",
    "    print('The number is negative') \n",
    "else:  print('The number is zero') "
   ]
  },
  {
   "cell_type": "markdown",
   "metadata": {},
   "source": [
    "### 5.4.5 代码块嵌套 \n",
    "\n",
    "`if`语句嵌套`if`语句"
   ]
  },
  {
   "cell_type": "code",
   "execution_count": 28,
   "metadata": {
    "collapsed": true
   },
   "outputs": [
    {
     "name": "stdout",
     "output_type": "stream",
     "text": [
      "What is your name? Mr. Gumby\n",
      "Hello, Mr. Gumby\n"
     ]
    }
   ],
   "source": [
    "name = input('What is your name? ') \n",
    "if name.endswith('Gumby'):   \n",
    "    if name.startswith('Mr.'):     \n",
    "        print('Hello, Mr. Gumby')    \n",
    "    elif name.startswith('Mrs.'):     \n",
    "        print('Hello, Mrs. Gumby')    \n",
    "    else:  \n",
    "        print('Hello, Gumby') \n",
    "else:    \n",
    "    print('Hello, stranger') "
   ]
  },
  {
   "cell_type": "markdown",
   "metadata": {},
   "source": [
    "### 5.4.6 更复杂的条件 \n",
    "\n",
    "1. 比较运算符 \n",
    "    + 相等运算符 \n",
    "    + `is`：相同运算符 \n",
    "    + `in`：成员资格运算符 \n",
    "    + 字符串和序列的比较 \n",
    "2. 布尔运算符\n",
    "    "
   ]
  },
  {
   "cell_type": "markdown",
   "metadata": {},
   "source": [
    "***表5-1 Python比较运算符***\n",
    "\n",
    "|表 达 式| 描  述|\n",
    "|:--  | :- |\n",
    "|x == y      |x 等于y |\n",
    "|x < y       |x小于y |\n",
    "|x > y       |x大于y |\n",
    "|x >= y      |x大于或等于y |\n",
    "|x <= y      |x小于或等于y |\n",
    "|x !=  y     |x不等于y |\n",
    "|x is y      |x和y是同一个对象 |\n",
    "|x is not y  |x和y是不同的对象 |\n",
    "|x in y      |x是容器（如序列）y的成员 |\n",
    "|x not in y  |x不是容器（如序列）y的成员 |"
   ]
  },
  {
   "cell_type": "markdown",
   "metadata": {},
   "source": [
    "* 与赋值一样，Python也支持链式比较：可同时使用多个比较运算符，如0 < age < 100"
   ]
  },
  {
   "cell_type": "markdown",
   "metadata": {},
   "source": [
    "* 相等运算符 "
   ]
  },
  {
   "cell_type": "code",
   "execution_count": 19,
   "metadata": {},
   "outputs": [
    {
     "name": "stdout",
     "output_type": "stream",
     "text": [
      "True\n",
      "False\n"
     ]
    }
   ],
   "source": [
    "print(\"foo\" == \"foo\" )\n",
    "print(\"foo\" == \"bar\")"
   ]
  },
  {
   "cell_type": "markdown",
   "metadata": {},
   "source": [
    "*  `is`：相同运算符 "
   ]
  },
  {
   "cell_type": "code",
   "execution_count": 26,
   "metadata": {},
   "outputs": [
    {
     "name": "stdout",
     "output_type": "stream",
     "text": [
      "True\n",
      "True\n",
      "True\n",
      "False\n"
     ]
    },
    {
     "data": {
      "text/plain": [
       "False"
      ]
     },
     "execution_count": 26,
     "metadata": {},
     "output_type": "execute_result"
    }
   ],
   "source": [
    "x = y = [1, 2, 3] \n",
    "z = [1, 2, 3] \n",
    "print(x == y)\n",
    "print(x == z)\n",
    "print(x is y)\n",
    "print(x is z)"
   ]
  },
  {
   "cell_type": "markdown",
   "metadata": {},
   "source": [
    "`is`检查两个对象是否**相同（而不是相等）**\n",
    "\n",
    "两个列表虽然相等，但并非同一个**对象**\n",
    "\n",
    ">  不要将is用于数和字符串等不可变的基本值，这样做的结果是不可预测的"
   ]
  },
  {
   "cell_type": "code",
   "execution_count": 34,
   "metadata": {
    "collapsed": true
   },
   "outputs": [
    {
     "name": "stdout",
     "output_type": "stream",
     "text": [
      "True\n",
      "True\n",
      "False\n"
     ]
    }
   ],
   "source": [
    "x = [1, 2, 3] \n",
    "y = [2, 4]\n",
    "print( x is not y )\n",
    "del x[2]\n",
    "y[1] = 1\n",
    "y.reverse()\n",
    "print(x == y)\n",
    "print(x is y) #两个列表相等但不相同"
   ]
  },
  {
   "cell_type": "markdown",
   "metadata": {},
   "source": [
    "* `in`：成员资格运算符 "
   ]
  },
  {
   "cell_type": "code",
   "execution_count": 28,
   "metadata": {
    "collapsed": true
   },
   "outputs": [
    {
     "name": "stdout",
     "output_type": "stream",
     "text": [
      "What is your name?ls\n",
      "Your name contains the letter \"s\".\n"
     ]
    }
   ],
   "source": [
    "name = input('What is your name?') \n",
    "if 's' in name:  \n",
    "    print('Your name contains the letter \"s\".') \n",
    "else:    \n",
    "    print('Your name does not contain the letter \"s\".') \n"
   ]
  },
  {
   "cell_type": "markdown",
   "metadata": {},
   "source": [
    "* 字符串和序列的比较\n",
    "    * 根据字符的顺序"
   ]
  },
  {
   "cell_type": "code",
   "execution_count": 36,
   "metadata": {
    "collapsed": true
   },
   "outputs": [
    {
     "name": "stdout",
     "output_type": "stream",
     "text": [
      "True\n",
      "True\n",
      "False\n"
     ]
    },
    {
     "data": {
      "text/plain": [
       "True"
      ]
     },
     "execution_count": 36,
     "metadata": {},
     "output_type": "execute_result"
    }
   ],
   "source": [
    "print(\"alpha\" < \"beta\" )\n",
    "print(\"😄☺\" > \"☺😄\" )\n",
    "ord(\"😄\")\n",
    "print(\"a\" < \"B\" )\n",
    "\"a\".lower() < \"B\".lower() \n",
    "[1, 2] < [2, 1] \n",
    "[2, [1, 4]] < [2, [1, 5]] "
   ]
  },
  {
   "cell_type": "markdown",
   "metadata": {},
   "source": [
    "2. 布尔运算符 \n",
    "\n",
    "`and`、`or`、`not`及其组合"
   ]
  },
  {
   "cell_type": "code",
   "execution_count": 37,
   "metadata": {
    "collapsed": true
   },
   "outputs": [
    {
     "name": "stdout",
     "output_type": "stream",
     "text": [
      "Enter a number between 1 and 10: 1\n",
      "Great!\n"
     ]
    }
   ],
   "source": [
    "number = int(input('Enter a number between 1 and 10: ')) \n",
    "if number <= 10 and number >= 1:\n",
    "    print('Great!') \n",
    "elif not number == -1 :    \n",
    "    print('Wrong!') \n",
    "else:\n",
    "    print('Exit!')"
   ]
  },
  {
   "cell_type": "markdown",
   "metadata": {},
   "source": [
    "短路逻辑（或者延迟求值）,布尔运算符的特性"
   ]
  },
  {
   "cell_type": "code",
   "execution_count": null,
   "metadata": {},
   "outputs": [],
   "source": [
    "name = input('Please enter your name: ') or '<unknown>' \n",
    "print(name)"
   ]
  },
  {
   "cell_type": "markdown",
   "metadata": {},
   "source": [
    "### 5.4.7 断言\n",
    "\n",
    "添加`assert`语句充当检查点,可在条件后面加一个说明字符串。"
   ]
  },
  {
   "cell_type": "code",
   "execution_count": 40,
   "metadata": {
    "collapsed": true
   },
   "outputs": [
    {
     "ename": "AssertionError",
     "evalue": "The age must be realistic",
     "output_type": "error",
     "traceback": [
      "\u001b[0;31m---------------------------------------------------------------------------\u001b[0m",
      "\u001b[0;31mAssertionError\u001b[0m                            Traceback (most recent call last)",
      "\u001b[0;32m<ipython-input-40-1db4e60afa9b>\u001b[0m in \u001b[0;36m<module>\u001b[0;34m()\u001b[0m\n\u001b[1;32m      2\u001b[0m \u001b[0;32massert\u001b[0m \u001b[0;36m0\u001b[0m \u001b[0;34m<\u001b[0m \u001b[0mage\u001b[0m \u001b[0;34m<\u001b[0m \u001b[0;36m100\u001b[0m\u001b[0;34m\u001b[0m\u001b[0m\n\u001b[1;32m      3\u001b[0m \u001b[0mage\u001b[0m \u001b[0;34m=\u001b[0m \u001b[0;34m-\u001b[0m\u001b[0;36m1\u001b[0m\u001b[0;34m\u001b[0m\u001b[0m\n\u001b[0;32m----> 4\u001b[0;31m \u001b[0;32massert\u001b[0m \u001b[0;36m0\u001b[0m \u001b[0;34m<\u001b[0m \u001b[0mage\u001b[0m \u001b[0;34m<\u001b[0m \u001b[0;36m100\u001b[0m\u001b[0;34m,\u001b[0m \u001b[0;34m'The age must be realistic'\u001b[0m\u001b[0;34m\u001b[0m\u001b[0m\n\u001b[0m",
      "\u001b[0;31mAssertionError\u001b[0m: The age must be realistic"
     ]
    }
   ],
   "source": [
    "age = 10 \n",
    "assert 0 < age < 100 \n",
    "age = -1\n",
    "assert 0 < age < 100, 'The age must be realistic'  "
   ]
  },
  {
   "cell_type": "markdown",
   "metadata": {},
   "source": [
    "## 5.5 循环\n",
    " \n",
    "重复执行多次"
   ]
  },
  {
   "cell_type": "markdown",
   "metadata": {},
   "source": [
    "### 5.5.1 while 循环 "
   ]
  },
  {
   "cell_type": "code",
   "execution_count": 6,
   "metadata": {
    "collapsed": true
   },
   "outputs": [
    {
     "name": "stdout",
     "output_type": "stream",
     "text": [
      "1\n",
      "2\n",
      "3\n",
      "4\n",
      "5\n",
      "6\n",
      "7\n",
      "8\n",
      "9\n",
      "10\n"
     ]
    }
   ],
   "source": [
    "x = 1 \n",
    "while x <= 10:     \n",
    "    print(x)    \n",
    "    x += 1 "
   ]
  },
  {
   "cell_type": "code",
   "execution_count": 44,
   "metadata": {
    "collapsed": true
   },
   "outputs": [
    {
     "name": "stdout",
     "output_type": "stream",
     "text": [
      "Please enter your name:  \n",
      "Please enter your name:     \n",
      "Please enter your name:     \n",
      "Please enter your name: 1\n",
      "Hello, 1!\n"
     ]
    }
   ],
   "source": [
    "name = '' \n",
    "while not name or name.isspace(): #while not name.strip()\n",
    "    name = input('Please enter your name: ') \n",
    "print('Hello, {}!'.format(name)) "
   ]
  },
  {
   "cell_type": "markdown",
   "metadata": {},
   "source": [
    "### 5.5.2 for 循环\n",
    "\n",
    "为**序列**（或其他可迭代对象）中每个**元素**执行代码块"
   ]
  },
  {
   "cell_type": "code",
   "execution_count": 46,
   "metadata": {
    "collapsed": true
   },
   "outputs": [
    {
     "name": "stdout",
     "output_type": "stream",
     "text": [
      "this\n",
      "is\n",
      "an\n",
      "ex\n",
      "parrot\n",
      "range(0, 10)\n",
      "1\n",
      "2\n",
      "3\n",
      "4\n",
      "5\n",
      "6\n",
      "7\n",
      "8\n",
      "9\n",
      "10\n"
     ]
    }
   ],
   "source": [
    "words = ['this', 'is', 'an', 'ex', 'parrot'] \n",
    "for word in words:     \n",
    "    print(word) \n",
    "\n",
    "print(range(0, 10))\n",
    "list(range(0, 10))\n",
    "for number in range(1,11): print(number)"
   ]
  },
  {
   "cell_type": "markdown",
   "metadata": {},
   "source": [
    "> **提示** 只要能够使用for循环，就不要使用while循环"
   ]
  },
  {
   "cell_type": "markdown",
   "metadata": {},
   "source": [
    "### 5.5.3 迭代字典 "
   ]
  },
  {
   "cell_type": "code",
   "execution_count": 52,
   "metadata": {
    "collapsed": true
   },
   "outputs": [
    {
     "name": "stdout",
     "output_type": "stream",
     "text": [
      "x corresponds to 1\n",
      "y corresponds to 2\n",
      "z corresponds to 3\n",
      "x corresponds to 1\n",
      "y corresponds to 2\n",
      "z corresponds to 3\n",
      "1\n",
      "2\n",
      "3\n"
     ]
    }
   ],
   "source": [
    "d = {'x': 1, 'y': 2, 'z': 3} \n",
    "for key in d:     \n",
    "    print(key, 'corresponds to', d[key]) \n",
    "\n",
    "for key,value in d.items():    \n",
    "    print(key, 'corresponds to', value)\n",
    "\n",
    "for value in d.values():\n",
    "    print(value)"
   ]
  },
  {
   "cell_type": "markdown",
   "metadata": {},
   "source": [
    "### 5.5.4 一些迭代工具\n",
    "   1. 并行迭代\n",
    "   2. 迭代时获取索引 \n",
    "   3. 反向迭代和排序后再迭代 "
   ]
  },
  {
   "cell_type": "code",
   "execution_count": 54,
   "metadata": {
    "collapsed": true
   },
   "outputs": [
    {
     "name": "stdout",
     "output_type": "stream",
     "text": [
      "[('anne', 12), ('beth', 45), ('george', 32), ('damon', 102)]\n",
      "anne is 12 years old\n",
      "beth is 45 years old\n",
      "george is 32 years old\n",
      "damon is 102 years old\n"
     ]
    }
   ],
   "source": [
    "#1. 并行迭代\n",
    "names = ['anne', 'beth', 'george', 'damon'] \n",
    "ages = [12, 45, 32, 102] \n",
    "print(list(zip(names, ages)) )\n",
    "for name, age in zip(names, ages):  \n",
    "    print(name, 'is', age, 'years old') "
   ]
  },
  {
   "cell_type": "markdown",
   "metadata": {},
   "source": [
    "函数zip可用于**“缝合”**任意数量的序列。当序列的长度不同时，函数zip将在短的序列用完后停止“缝合”"
   ]
  },
  {
   "cell_type": "code",
   "execution_count": 55,
   "metadata": {
    "collapsed": true
   },
   "outputs": [
    {
     "data": {
      "text/plain": [
       "[(0, 0), (1, 1), (2, 2), (3, 3), (4, 4)]"
      ]
     },
     "execution_count": 55,
     "metadata": {},
     "output_type": "execute_result"
    }
   ],
   "source": [
    "list(zip(range(5), range(100000000))) \n",
    "#list(zip(range(50000000), range(2))) "
   ]
  },
  {
   "cell_type": "code",
   "execution_count": 59,
   "metadata": {
    "collapsed": true
   },
   "outputs": [
    {
     "name": "stdout",
     "output_type": "stream",
     "text": [
      "stringsxxx\n",
      "xxx\n",
      "['[censored]', '[censored]']\n"
     ]
    }
   ],
   "source": [
    "#2. 迭代时获取索引\n",
    "strings=['stringsxxx','xxx']\n",
    "for string in strings:   \n",
    "    if 'xxx' in string:  \n",
    "        index = strings.index(string) \n",
    "        print(strings[index])# 在字符串列表中查找字符串  \n",
    "        strings[index] = '[censored]' \n",
    "print(strings)\n",
    "####\n",
    "for index, string in enumerate(strings): #迭代索引-值对，其中的索引是自动提供的\n",
    "    #print(index,string)\n",
    "    if 'xxx' in string:  \n",
    "        strings[index] = '[censored]' "
   ]
  },
  {
   "cell_type": "code",
   "execution_count": 65,
   "metadata": {
    "collapsed": true
   },
   "outputs": [
    {
     "name": "stdout",
     "output_type": "stream",
     "text": [
      "['!', 'd', 'l', 'r', 'o', 'w', ' ', ',', 'o', 'l', 'l', 'e', 'H']\n",
      "<reversed object at 0x7f2fbc1a2390>\n"
     ]
    },
    {
     "data": {
      "text/plain": [
       "'<1r1e1v1e1r1s1e1d1 1o1b1j1e1c1t1 1a1t1 101x171f121f1b1c111a12191b101>'"
      ]
     },
     "execution_count": 65,
     "metadata": {},
     "output_type": "execute_result"
    }
   ],
   "source": [
    "# 3. 反向迭代和排序后再迭代 reversed和sorted 不就地修改对象，返回反转和排序后的版本\n",
    "sorted([4, 3, 6, 8, 3]) #sorted(\"\",key=key), sorted(\"aBc\", key=str.lower)\n",
    "print(list(reversed('Hello, world!')))\n",
    "print(reversed('Hello, world!'))\n",
    "'1'.join(str(reversed('Hello, world!'))) "
   ]
  },
  {
   "cell_type": "markdown",
   "metadata": {},
   "source": [
    "`sorted`返回一个列表，而`reversed`像`zip`那样返回一个更神秘的可迭代对象。\n",
    "不能对它执行索引或切片操作，也不能直接对它调用列表的方法。要执行这些操作，可先使用`list`对返回的对象进行转换"
   ]
  },
  {
   "cell_type": "markdown",
   "metadata": {},
   "source": [
    "### 5.5.5 跳出循环 \n",
    "   1. break\n",
    "   2. continue \n",
    "   3. while True/break成例"
   ]
  },
  {
   "cell_type": "code",
   "execution_count": 66,
   "metadata": {},
   "outputs": [
    {
     "name": "stdout",
     "output_type": "stream",
     "text": [
      "81\n"
     ]
    }
   ],
   "source": [
    "from math import sqrt \n",
    "for n in range(99, 0, -1): \n",
    "    root = sqrt(n)    \n",
    "    if root == int(root):  \n",
    "        print(n)  \n",
    "        break "
   ]
  },
  {
   "cell_type": "code",
   "execution_count": 67,
   "metadata": {},
   "outputs": [
    {
     "name": "stdout",
     "output_type": "stream",
     "text": [
      "Please enter a word: 1\n",
      "The word was  1\n",
      "Please enter a word: \n"
     ]
    }
   ],
   "source": [
    "while True:     \n",
    "    word = input('Please enter a word: ')    \n",
    "    if not word: break    # 使用这个单词做些事情：    \n",
    "    print('The word was ', word) "
   ]
  },
  {
   "cell_type": "markdown",
   "metadata": {},
   "source": [
    "### 5.5.6 循环中的 else 子句 "
   ]
  },
  {
   "cell_type": "code",
   "execution_count": 20,
   "metadata": {
    "collapsed": true
   },
   "outputs": [
    {
     "name": "stdout",
     "output_type": "stream",
     "text": [
      "Didn't find it!\n"
     ]
    }
   ],
   "source": [
    "from math import sqrt \n",
    "for n in range(99, 81, -1):     \n",
    "    root = sqrt(n)    \n",
    "    if root == int(root):  \n",
    "        print(n)  \n",
    "        break \n",
    "    #else:    print(\"Didn't find it!\") \n",
    "else:    print(\"Didn't find it!\")  #它仅在没有调用break时才执行"
   ]
  },
  {
   "cell_type": "markdown",
   "metadata": {},
   "source": [
    "## 5.6 简单推导\n",
    "\n",
    "**列表推导**是一种从其他列表创建列表的方式"
   ]
  },
  {
   "cell_type": "code",
   "execution_count": 68,
   "metadata": {
    "collapsed": true
   },
   "outputs": [
    {
     "name": "stdout",
     "output_type": "stream",
     "text": [
      "[0, 9, 36, 81]\n"
     ]
    },
    {
     "data": {
      "text/plain": [
       "[(0, 0), (0, 1), (0, 2), (1, 0), (1, 1), (1, 2), (2, 0), (2, 1), (2, 2)]"
      ]
     },
     "execution_count": 68,
     "metadata": {},
     "output_type": "execute_result"
    }
   ],
   "source": [
    "[x * x for x in range(10)] \n",
    "print([x*x for x in range(10) if x%3 == 0])\n",
    "\n",
    "[(x, y) for x in range(3) for y in range(3)] "
   ]
  },
  {
   "cell_type": "code",
   "execution_count": 69,
   "metadata": {},
   "outputs": [
    {
     "data": {
      "text/plain": [
       "['chris+clarice', 'arnold+alice', 'bob+bernice']"
      ]
     },
     "execution_count": 69,
     "metadata": {},
     "output_type": "execute_result"
    }
   ],
   "source": [
    "girls = ['alice', 'bernice', 'clarice'] \n",
    "boys = ['chris', 'arnold', 'bob'] \n",
    "[b+'+'+g for b in boys for g in girls if b[0] == g[0]] "
   ]
  },
  {
   "cell_type": "code",
   "execution_count": 70,
   "metadata": {},
   "outputs": [
    {
     "name": "stdout",
     "output_type": "stream",
     "text": [
      "['chris+clarice', 'arnold+alice', 'bob+bernice']\n"
     ]
    }
   ],
   "source": [
    "girls = ['alice', 'bernice', 'clarice'] \n",
    "boys = ['chris', 'arnold', 'bob'] \n",
    "letterGirls = {} \n",
    "for girl in girls:     \n",
    "    letterGirls.setdefault(girl[0], []).append(girl) \n",
    "print([b+'+'+g for b in boys for g in letterGirls[b[0]]])"
   ]
  },
  {
   "cell_type": "code",
   "execution_count": 72,
   "metadata": {
    "collapsed": true
   },
   "outputs": [
    {
     "data": {
      "text/plain": [
       "'9 squared is 81'"
      ]
     },
     "execution_count": 72,
     "metadata": {},
     "output_type": "execute_result"
    }
   ],
   "source": [
    "#圆括号代替方括号并不能实现元组推导，而是将创建生成器，不过花括号可以来执行字典推导。 \n",
    "squares = {i:\"{} squared is {}\".format(i, i**2) for i in range(10)}\n",
    "squares[9] "
   ]
  },
  {
   "cell_type": "markdown",
   "metadata": {},
   "source": [
    "## 5.7 三人行\n",
    "三条语句：**`pass`、`del`和`exec`**\n",
    "\n",
    "+ pass\n",
    "    什么都不做\n",
    "+ del\n",
    "    不仅删除对象的引用，还会删除名称本身。但不删除引用对象的值。"
   ]
  },
  {
   "cell_type": "markdown",
   "metadata": {},
   "source": [
    "### 5.7.1 什么都不做 "
   ]
  },
  {
   "cell_type": "markdown",
   "metadata": {},
   "source": [
    "### 5.7.2 使用del 删除 "
   ]
  },
  {
   "cell_type": "code",
   "execution_count": 73,
   "metadata": {
    "collapsed": true
   },
   "outputs": [
    {
     "data": {
      "text/plain": [
       "['Hello', 'world']"
      ]
     },
     "execution_count": 73,
     "metadata": {},
     "output_type": "execute_result"
    }
   ],
   "source": [
    "y = x = [\"Hello\", \"world\"]\n",
    "del x \n",
    "y\n",
    "#对于你不再使用的值，Python解释器会立即将其删除"
   ]
  },
  {
   "cell_type": "markdown",
   "metadata": {},
   "source": [
    "### 5.7.3 使用exec 和 eval 执行字符串及计算其结果 \n",
    "1. `exec`:exec执行一系列Python语句 \n",
    "    \n",
    "2. `eval`:eval计算用字符串表示 的Python表达式的值"
   ]
  },
  {
   "cell_type": "code",
   "execution_count": 76,
   "metadata": {},
   "outputs": [
    {
     "name": "stdout",
     "output_type": "stream",
     "text": [
      "Hello, world!\n"
     ]
    }
   ],
   "source": [
    "#1. exec\n",
    "exec(\"print('Hello, world!')\") "
   ]
  },
  {
   "cell_type": "code",
   "execution_count": 80,
   "metadata": {},
   "outputs": [
    {
     "name": "stdout",
     "output_type": "stream",
     "text": [
      "Enter an arithmetic expression: 1**1\n"
     ]
    },
    {
     "data": {
      "text/plain": [
       "1"
      ]
     },
     "execution_count": 80,
     "metadata": {},
     "output_type": "execute_result"
    }
   ],
   "source": [
    "#2.eval\n",
    "eval(input(\"Enter an arithmetic expression: \")) "
   ]
  },
  {
   "cell_type": "markdown",
   "metadata": {},
   "source": [
    "## 5.8 小结\n",
    " "
   ]
  },
  {
   "cell_type": "markdown",
   "metadata": {},
   "source": [
    "### 5.8.1 本章介绍的新函数"
   ]
  },
  {
   "cell_type": "markdown",
   "metadata": {},
   "source": [
    "| 函数 |                                    描  述 |\n",
    "| :- | :- |\n",
    "| chr(n)                            | 返回一个字符串，其中只包含一个字符，这个字符对应于传入的顺序值n（0 ≤ n < 256） |        |\n",
    "| eval(source[,globals[,locals]])   | 计算并返回字符串表示的表达式的结果                           |        |\n",
    "| exec(source[, globals[, locals]]) | 将字符串作为语句执行                                         |        |\n",
    "| enumerate(seq)                    | 生成可迭代的索引值对 ord(c) 接受一个只包含一个字符的字符串，并返回这个字符的顺序值（一个整数） |        |\n",
    "| range([start,] stop[, step])      | 创建一个由整数组成的列表                                     |        |\n",
    "| reversed(seq)                     | 按相反的顺序返回seq中的值，以便用于迭代                      |        |\n",
    "| sorted(seq[,cmp][,key][,reverse]) | 返回一个列表，其中包含seq中的所有值且这些值是经过排序的      |        |\n",
    "| xrange([start,] stop[, step])     | 创建一个用于迭代的xrange对象                                 |        |\n",
    "| zip(seq1, seq2,...)               | 创建一个适合用于并行迭代的新序列   "
   ]
  }
 ],
 "metadata": {
  "kernelspec": {
   "display_name": "Python 3",
   "language": "python",
   "name": "python3"
  },
  "language_info": {
   "codemirror_mode": {
    "name": "ipython",
    "version": 3
   },
   "file_extension": ".py",
   "mimetype": "text/x-python",
   "name": "python",
   "nbconvert_exporter": "python",
   "pygments_lexer": "ipython3",
   "version": "3.6.6"
  }
 },
 "nbformat": 4,
 "nbformat_minor": 2
}
