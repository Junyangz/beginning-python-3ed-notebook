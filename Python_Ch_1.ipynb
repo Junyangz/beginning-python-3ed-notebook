{
 "cells": [
  {
   "cell_type": "markdown",
   "metadata": {},
   "source": [
    "# 🕮 1: 基础知识"
   ]
  },
  {
   "cell_type": "markdown",
   "metadata": {},
   "source": [
    "🖊 本章主要介绍python的相关基础知识。涉及到的知识点有：\n",
    "+ 1.1 [交互式解释器](#1.1-交互式解释器（略）)\n",
    "+ 1.2 [算法](#1.2-算法)\n",
    "+ 1.3 [数和表达式](#1.3-数和表达式)\n",
    "+ 1.4 [变量](#1.4-变量)\n",
    "+ 1.5 [语句](#1.5-语句)\n",
    "+ 1.6 [获取用户输入](#1.6-获取用户输入)\n",
    "+ 1.7 [函数](#1.7-函数)\n",
    "+ 1.8 [模块](#1.8-模块)\n",
    "+ 1.9 [保存并执行程序](#1.9-保存并执行程序)\n",
    "+ 1.10 [字符串](#1.10-字符串)"
   ]
  },
  {
   "cell_type": "markdown",
   "metadata": {},
   "source": [
    "### 1.1 交互式解释器（略）"
   ]
  },
  {
   "cell_type": "markdown",
   "metadata": {},
   "source": [
    "### 1.2 算法\n",
    "\n",
    "**算法**由 **`对象`** 和 **`语句`** 组成。"
   ]
  },
  {
   "cell_type": "markdown",
   "metadata": {},
   "source": [
    "### 1.3 数和表达式\n",
    "#### 1.3.1 除法运算：浮点数运算与整除运算"
   ]
  },
  {
   "cell_type": "markdown",
   "metadata": {},
   "source": [
    "+ ***浮点数运算***\n",
    "    - 🌟语法：`[number_1]` **/** `[number_2]`"
   ]
  },
  {
   "cell_type": "code",
   "execution_count": null,
   "metadata": {},
   "outputs": [],
   "source": [
    "1 / 2"
   ]
  },
  {
   "cell_type": "code",
   "execution_count": 2,
   "metadata": {
    "collapsed": true
   },
   "outputs": [
    {
     "data": {
      "text/plain": [
       "1.0"
      ]
     },
     "execution_count": 2,
     "metadata": {},
     "output_type": "execute_result"
    }
   ],
   "source": [
    "1 / 1"
   ]
  },
  {
   "cell_type": "markdown",
   "metadata": {},
   "source": [
    "+ ***整数运算***\n",
    "\n",
    "取整的除法运算，其取整的规则是**向下取整**。具体示例可见下面的代码。\n",
    "+ 🌟语法：`[number_1]` **//** `[number_2]`"
   ]
  },
  {
   "cell_type": "code",
   "execution_count": 3,
   "metadata": {
    "collapsed": true
   },
   "outputs": [
    {
     "data": {
      "text/plain": [
       "-4"
      ]
     },
     "execution_count": 3,
     "metadata": {},
     "output_type": "execute_result"
    }
   ],
   "source": [
    "1 // 2\n",
    "10 // -3"
   ]
  },
  {
   "cell_type": "code",
   "execution_count": 4,
   "metadata": {
    "collapsed": true
   },
   "outputs": [
    {
     "data": {
      "text/plain": [
       "2.0"
      ]
     },
     "execution_count": 4,
     "metadata": {},
     "output_type": "execute_result"
    }
   ],
   "source": [
    "5.0 // 2.4"
   ]
  },
  {
   "cell_type": "markdown",
   "metadata": {},
   "source": [
    "#### 1.3.2 取模运算\n",
    "\n",
    "+ 🌟语法：`[number_1]` **%** `[number_2]`\n",
    "取模运算与取整除法运算的关系如下：\n",
    "\n",
    "`[number_1]` **%** `[number_2]`\n",
    "\n",
    "等价于\n",
    "\n",
    "`[number_1]` **-** `[number_1]` __//__ `[number_2]` __*__ `[number_2]`"
   ]
  },
  {
   "cell_type": "code",
   "execution_count": 5,
   "metadata": {},
   "outputs": [
    {
     "data": {
      "text/plain": [
       "0"
      ]
     },
     "execution_count": 5,
     "metadata": {},
     "output_type": "execute_result"
    }
   ],
   "source": [
    "9 % 3"
   ]
  },
  {
   "cell_type": "code",
   "execution_count": 8,
   "metadata": {},
   "outputs": [
    {
     "data": {
      "text/plain": [
       "-4"
      ]
     },
     "execution_count": 8,
     "metadata": {},
     "output_type": "execute_result"
    }
   ],
   "source": [
    "-10 // 3"
   ]
  },
  {
   "cell_type": "code",
   "execution_count": 6,
   "metadata": {},
   "outputs": [
    {
     "data": {
      "text/plain": [
       "2"
      ]
     },
     "execution_count": 6,
     "metadata": {},
     "output_type": "execute_result"
    }
   ],
   "source": [
    "-10 % 3"
   ]
  },
  {
   "cell_type": "code",
   "execution_count": 9,
   "metadata": {},
   "outputs": [
    {
     "data": {
      "text/plain": [
       "-4"
      ]
     },
     "execution_count": 9,
     "metadata": {},
     "output_type": "execute_result"
    }
   ],
   "source": [
    "10 // -3"
   ]
  },
  {
   "cell_type": "code",
   "execution_count": 7,
   "metadata": {},
   "outputs": [
    {
     "data": {
      "text/plain": [
       "-2"
      ]
     },
     "execution_count": 7,
     "metadata": {},
     "output_type": "execute_result"
    }
   ],
   "source": [
    "10 % -3"
   ]
  },
  {
   "cell_type": "markdown",
   "metadata": {},
   "source": [
    "#### 1.3.3 十六进制、八进制和二进制\n",
    "\n",
    "+ 使用前缀来表示不同进制："
   ]
  },
  {
   "cell_type": "code",
   "execution_count": 10,
   "metadata": {},
   "outputs": [
    {
     "data": {
      "text/plain": [
       "175"
      ]
     },
     "execution_count": 10,
     "metadata": {},
     "output_type": "execute_result"
    }
   ],
   "source": [
    "0xAF"
   ]
  },
  {
   "cell_type": "code",
   "execution_count": 11,
   "metadata": {},
   "outputs": [
    {
     "data": {
      "text/plain": [
       "8"
      ]
     },
     "execution_count": 11,
     "metadata": {},
     "output_type": "execute_result"
    }
   ],
   "source": [
    "# 在python交互式命令行中，前缀为'0'，而写到python脚本里，前缀要改成'0o'\n",
    "0o10"
   ]
  },
  {
   "cell_type": "code",
   "execution_count": 12,
   "metadata": {},
   "outputs": [
    {
     "data": {
      "text/plain": [
       "722"
      ]
     },
     "execution_count": 12,
     "metadata": {},
     "output_type": "execute_result"
    }
   ],
   "source": [
    "0b1011010010"
   ]
  },
  {
   "cell_type": "markdown",
   "metadata": {},
   "source": [
    "### 1.4 变量\n",
    "\n",
    "+ 使用Python变量前必须给它赋值，因为Python变量没有默认值。"
   ]
  },
  {
   "cell_type": "markdown",
   "metadata": {},
   "source": [
    "### 1.5 语句\n",
    "\n",
    "+ 前面的代码都是 **`表达式`** ，表达式表达了一些事物本身\n",
    "+ **`语句`** 意味着**操作**， **`表达式`** 就是 **`语句`** 所操作的对象"
   ]
  },
  {
   "cell_type": "code",
   "execution_count": 13,
   "metadata": {},
   "outputs": [
    {
     "data": {
      "text/plain": [
       "4"
      ]
     },
     "execution_count": 13,
     "metadata": {},
     "output_type": "execute_result"
    }
   ],
   "source": [
    "# 表达式\n",
    "2 * 2"
   ]
  },
  {
   "cell_type": "code",
   "execution_count": 14,
   "metadata": {},
   "outputs": [
    {
     "name": "stdout",
     "output_type": "stream",
     "text": [
      "4\n"
     ]
    }
   ],
   "source": [
    "#  语句\n",
    "print(2 * 2)"
   ]
  },
  {
   "cell_type": "markdown",
   "metadata": {},
   "source": [
    "_[注] `print()` 其实是一个函数。在`python 2.x` 中， `print` 是一个语句，可以直接在其后输入需要打印输出的表达式_"
   ]
  },
  {
   "cell_type": "markdown",
   "metadata": {},
   "source": [
    "### 1.6 获取用户输入\n",
    "+ 介绍最基础的用户与程序的交互\n",
    "+ 主要介绍通过`input()` 函数获取用户输入"
   ]
  },
  {
   "cell_type": "code",
   "execution_count": 15,
   "metadata": {
    "collapsed": true
   },
   "outputs": [
    {
     "name": "stdout",
     "output_type": "stream",
     "text": [
      "x = 10\n",
      "x:10\n"
     ]
    }
   ],
   "source": [
    "x = input(\"x = \")\n",
    "print(\"x:\"+ x)"
   ]
  },
  {
   "cell_type": "markdown",
   "metadata": {},
   "source": [
    "### 1.7 函数\n",
    "+ 简单举例了几个基础函数"
   ]
  },
  {
   "cell_type": "code",
   "execution_count": 16,
   "metadata": {},
   "outputs": [
    {
     "name": "stdout",
     "output_type": "stream",
     "text": [
      "8\n",
      "8\n"
     ]
    }
   ],
   "source": [
    "# 使用符号表示幂乘\n",
    "print(2 ** 3)\n",
    "# 使用函数计算幂乘\n",
    "print(pow(2, 3))"
   ]
  },
  {
   "cell_type": "code",
   "execution_count": 17,
   "metadata": {
    "collapsed": true
   },
   "outputs": [
    {
     "name": "stdout",
     "output_type": "stream",
     "text": [
      "0\n",
      "1\n",
      "0\n"
     ]
    }
   ],
   "source": [
    "# 使用符号计算取整除法\n",
    "print(2 // 3)\n",
    "# 使用函数计算指定的取整出发计算\n",
    "print(round(2 / 3))\n",
    "import math\n",
    "print(math.floor(2 / 3))"
   ]
  },
  {
   "cell_type": "markdown",
   "metadata": {},
   "source": [
    "### 1.8 模块"
   ]
  },
  {
   "cell_type": "markdown",
   "metadata": {},
   "source": [
    "可将模块视为扩展，通过将其导入可以扩展python的性能。"
   ]
  },
  {
   "cell_type": "markdown",
   "metadata": {},
   "source": [
    "+ 🌟语法：`import`"
   ]
  },
  {
   "cell_type": "code",
   "execution_count": 4,
   "metadata": {},
   "outputs": [
    {
     "name": "stdout",
     "output_type": "stream",
     "text": [
      "32\n",
      "33\n",
      "1j\n"
     ]
    }
   ],
   "source": [
    "import math\n",
    "import cmath\n",
    "print(math.floor(32.9))\n",
    "print(math.ceil(32.9))\n",
    "\n",
    "print(cmath.sqrt(-1))"
   ]
  },
  {
   "cell_type": "markdown",
   "metadata": {},
   "source": [
    "+ 🐍回到未来:`__future__`模块\n",
    "\n",
    "对于Python当前不支持，但未来将成为标准组成部分的功能，你可从`__future__`模块进行导入"
   ]
  },
  {
   "cell_type": "markdown",
   "metadata": {},
   "source": [
    "### 1.9 保存并执行程序\n",
    "\n",
    "#### 🎁 海龟绘图法（turtle graphic）"
   ]
  },
  {
   "cell_type": "code",
   "execution_count": 19,
   "metadata": {},
   "outputs": [],
   "source": [
    "from turtle import *\n",
    "\n",
    "# draw a 8-edge-fig\n",
    "degree = 360 / 8\n",
    "\n",
    "for i in range(8):\n",
    "    forward(100)\n",
    "    left(degree)\n",
    "    \n",
    "done()"
   ]
  },
  {
   "cell_type": "markdown",
   "metadata": {},
   "source": [
    "#### 1.9.2 让脚本像普通程序一样\n",
    "\n",
    "+ UNIX提供了实现这种目标的标准方式：让脚本的第一行以字符序列#!（称为pound bang或shebang）开始，并在它后面指定用于对脚本进行解释的程序（这里是Python）的绝对路径。\n",
    "\n",
    "+ 将下面的代码作为脚本的第一行，就可在UNIX中轻松运行脚本*（如果你安装了多个版本的Python，可用更具体的可执行文件名（如python3）替换python）*："
   ]
  },
  {
   "cell_type": "code",
   "execution_count": null,
   "metadata": {},
   "outputs": [],
   "source": [
    "#!/usr/bin/env python"
   ]
  },
  {
   "cell_type": "markdown",
   "metadata": {},
   "source": [
    "### 1.10 字符串\n",
    "\n",
    "#### 1.10.1 单引号字符串以及对引号转义"
   ]
  },
  {
   "cell_type": "code",
   "execution_count": 5,
   "metadata": {},
   "outputs": [
    {
     "name": "stdout",
     "output_type": "stream",
     "text": [
      "let's go\n",
      "let's go\n"
     ]
    }
   ],
   "source": [
    "print(\"let's go\")\n",
    "#print('let's go')\n",
    "print('let\\'s go')"
   ]
  },
  {
   "cell_type": "markdown",
   "metadata": {},
   "source": [
    "#### 1.10.2 拼接字符串"
   ]
  },
  {
   "cell_type": "code",
   "execution_count": 23,
   "metadata": {
    "collapsed": true
   },
   "outputs": [
    {
     "data": {
      "text/plain": [
       "'let\\'s say\"hello, world\"'"
      ]
     },
     "execution_count": 23,
     "metadata": {},
     "output_type": "execute_result"
    }
   ],
   "source": [
    "\"let's say\"'\"hello, world\"'"
   ]
  },
  {
   "cell_type": "code",
   "execution_count": 24,
   "metadata": {
    "collapsed": true
   },
   "outputs": [
    {
     "name": "stdout",
     "output_type": "stream",
     "text": [
      "let's say\"hello, world\"\n"
     ]
    }
   ],
   "source": [
    "x = \"let's say\"\n",
    "y = '\"hello, world\"'\n",
    "#print(x y)\n",
    "print(x+y)"
   ]
  },
  {
   "cell_type": "markdown",
   "metadata": {},
   "source": [
    "#### 1.10.3 字符串表示str和repr\n",
    "使用`str`能以合理的方式将值转换为用户能够看懂的字符串。例如，尽可能将特殊字符编码转换为相应的字符。然而，使用`repr`时，通常会获得值的合法Python表达式表示。\n",
    "\n",
    "具体见下例："
   ]
  },
  {
   "cell_type": "code",
   "execution_count": 26,
   "metadata": {
    "collapsed": true
   },
   "outputs": [
    {
     "name": "stdout",
     "output_type": "stream",
     "text": [
      "<str>hello,\n",
      "world\n",
      "<repr>'hello,\\nworld'\n",
      "hello,\n",
      "world\n"
     ]
    }
   ],
   "source": [
    "print('<str>'+ str(\"hello,\\nworld\"))\n",
    "print('<repr>'+ repr(\"hello,\\nworld\"))\n",
    "print(\"hello,\\nworld\")"
   ]
  },
  {
   "cell_type": "markdown",
   "metadata": {},
   "source": [
    "#### 1.10.4 长字符串、原始字符串和字节\n",
    "\n",
    "1. **长字符串**\n",
    "\n",
    "要表示很长的字符串（跨越多行的字符串），可使用三引号`'''`或三双引号`\"\"\"`（而不是普通引号）"
   ]
  },
  {
   "cell_type": "code",
   "execution_count": 27,
   "metadata": {
    "collapsed": true
   },
   "outputs": [
    {
     "name": "stdout",
     "output_type": "stream",
     "text": [
      "This is a very long string. It continues here.\n",
      "And it's not over yet. \"Hello, world!\"\n",
      "Still here.\n",
      "This is a very long string. It continues here.\n",
      "And it's not over yet. \"Hello, world!\"\n",
      "Still here.\n"
     ]
    }
   ],
   "source": [
    "print('''This is a very long string. It continues here.\n",
    "And it's not over yet. \"Hello, world!\"\n",
    "Still here.''')\n",
    "print(\"\"\"This is a very long string. It continues here.\n",
    "And it's not over yet. \"Hello, world!\"\n",
    "Still here.\"\"\")"
   ]
  },
  {
   "cell_type": "markdown",
   "metadata": {},
   "source": [
    "2. **原始字符串**\n",
    "\n",
    "    + 原始字符串不以特殊方式处理反斜杠，因此在有些情况下很有用\n",
    "    + 原始字符串由前缀`r`表示\n",
    "    + 引号需要像通常那样进行转义\n",
    "    + 原始字符串的最后一个字符不能是反斜杠，除非你对其进行转义（但进行转义时，用于转义的反斜杠也将是字符串的一部分)"
   ]
  },
  {
   "cell_type": "code",
   "execution_count": 30,
   "metadata": {},
   "outputs": [
    {
     "name": "stdout",
     "output_type": "stream",
     "text": [
      "C:\\Program Files\\fnord\\foo\\bar\\baz\\frozz\\bozz\n",
      "let\\'s go\n",
      "hello, world\\\\\n"
     ]
    }
   ],
   "source": [
    "print(r'C:\\Program Files\\fnord\\foo\\bar\\baz\\frozz\\bozz')\n",
    "#print(r'let's go')\n",
    "print(r'let\\'s go')\n",
    "#print(r'hello,world\\')\n",
    "print(r'hello, world\\\\')"
   ]
  },
  {
   "cell_type": "markdown",
   "metadata": {},
   "source": [
    "3. **Unicode、bytes和bytearray**"
   ]
  },
  {
   "cell_type": "markdown",
   "metadata": {},
   "source": [
    "+ Unicode\n",
    "\n",
    "    - 大致而言，每个Unicode字符都用一个码点（code point）表示，而码点是Unicode标准给每个字符指定的数字。\n",
    "    - Unicode字符的通用机制：\n",
    "        + 前缀`\\u` 或 `\\U`\n",
    "        + 使用字符的Unicode名称：`\\N{name}`"
   ]
  },
  {
   "cell_type": "code",
   "execution_count": 31,
   "metadata": {
    "collapsed": true
   },
   "outputs": [
    {
     "name": "stdout",
     "output_type": "stream",
     "text": [
      "Æ\n",
      "😊\n",
      "This is a cat: 🐈\n"
     ]
    }
   ],
   "source": [
    "print(\"\\u00C6\")\n",
    "print(\"\\U0001F60A\")\n",
    "print(\"This is a cat: \\N{Cat}\")"
   ]
  },
  {
   "cell_type": "markdown",
   "metadata": {},
   "source": [
    "为与C语言互操作以及将文本写入文件或通过网络套接字发送出去，Python提供了两种类似的类型：不可变的bytes和可变的bytearray。\n",
    "+ 如果需要，可直接创建`bytes`对象（而不是字符串），方法是使用前缀`b`"
   ]
  },
  {
   "cell_type": "code",
   "execution_count": 32,
   "metadata": {
    "collapsed": true
   },
   "outputs": [
    {
     "name": "stdout",
     "output_type": "stream",
     "text": [
      "b'Hello, world!'\n"
     ]
    }
   ],
   "source": [
    "print(repr(b'Hello, world!'))"
   ]
  },
  {
   "cell_type": "markdown",
   "metadata": {},
   "source": [
    "+ 变长编码UTF-8\n",
    "\n",
    "    - UTF-32：定长`Unicode`编码\n",
    "    - UTF-8：Kenneth Thompson提出的变长编码——霍夫曼编码\n",
    "    - 可将字符串编码为`bytes`，同样也可将`bytes`解码为字符串\n",
    "    - 可由`bytes()`和`str()`直接创建`bytes`和`str`对象\n",
    "    - *由上条可见，`encode()`和`decode()`是`bytes`的类方法*"
   ]
  },
  {
   "cell_type": "code",
   "execution_count": 33,
   "metadata": {
    "collapsed": true
   },
   "outputs": [
    {
     "name": "stdout",
     "output_type": "stream",
     "text": [
      "b'Hello, world!'\n",
      "b'\\xff\\xfe\\x00\\x00H\\x00\\x00\\x00e\\x00\\x00\\x00l\\x00\\x00\\x00l\\x00\\x00\\x00o\\x00\\x00\\x00,\\x00\\x00\\x00 \\x00\\x00\\x00w\\x00\\x00\\x00o\\x00\\x00\\x00r\\x00\\x00\\x00l\\x00\\x00\\x00d\\x00\\x00\\x00!\\x00\\x00\\x00'\n",
      "b'Hello, world!'\n",
      "--------\n",
      "b'H\\\\xe6ll\\\\xe5, w\\\\xf8rld!'\n",
      "b'\\xff\\xfe\\x00\\x00H\\x00\\x00\\x00\\xe6\\x00\\x00\\x00l\\x00\\x00\\x00l\\x00\\x00\\x00\\xe5\\x00\\x00\\x00,\\x00\\x00\\x00 \\x00\\x00\\x00w\\x00\\x00\\x00\\xf8\\x00\\x00\\x00r\\x00\\x00\\x00l\\x00\\x00\\x00d\\x00\\x00\\x00!\\x00\\x00\\x00'\n",
      "b'H\\xc3\\xa6ll\\xc3\\xa5, w\\xc3\\xb8rld!'\n",
      "--------\n",
      "13\n",
      "56\n",
      "13\n",
      "--------\n",
      "10\n",
      "56\n",
      "16\n",
      "--------\n",
      "H\\xe6ll\\xe5, w\\xf8rld!\n",
      "Hællå, wørld!\n",
      "Hællå, wørld!\n",
      "--------\n",
      "b'H\\xc3\\xa6ll\\xc3\\xa5, w\\xc3\\xb8rld!'\n",
      "Hællå, wørld!\n"
     ]
    }
   ],
   "source": [
    "print(repr(\"Hello, world!\".encode(\"ASCII\")))\n",
    "print(repr(\"Hello, world!\".encode(\"utf-32\")))\n",
    "print(repr(\"Hello, world!\".encode(\"utf-8\")))\n",
    "print(\"--------\")\n",
    "print(repr(\"Hællå, wørld!\".encode(\"ASCII\", \"backslashreplace\")))\n",
    "print(repr(\"Hællå, wørld!\".encode(\"utf-32\")))\n",
    "print(repr(\"Hællå, wørld!\".encode(\"utf-8\")))\n",
    "print(\"--------\")\n",
    "print(len(\"Hello, world!\".encode(\"ASCII\")))\n",
    "print(len(\"Hello, world!\".encode(\"utf-32\")))\n",
    "print(len(\"Hello, world!\".encode(\"utf-8\")))\n",
    "print(\"--------\")\n",
    "print(len(\"Hællå, wørld!\".encode(\"ASCII\", \"ignore\")))\n",
    "print(len(\"Hællå, wørld!\".encode(\"utf-32\")))\n",
    "print(len(\"Hællå, wørld!\".encode(\"utf-8\")))\n",
    "print(\"--------\")\n",
    "print(b'H\\\\xe6ll\\\\xe5, w\\\\xf8rld!'.decode())\n",
    "print(b'\\xff\\xfe\\x00\\x00H\\x00\\x00\\x00\\xe6\\x00\\x00\\x00l\\x00\\x00\\x00l\\x00\\x00\\x00\\xe5\\x00\\x00\\x00,\\x00\\x00\\x00 \\x00\\x00\\x00w\\x00\\x00\\x00\\xf8\\x00\\x00\\x00r\\x00\\x00\\x00l\\x00\\x00\\x00d\\x00\\x00\\x00!\\x00\\x00\\x00'.decode(\"utf-32\"))\n",
    "print(b'H\\xc3\\xa6ll\\xc3\\xa5, w\\xc3\\xb8rld!'.decode(\"utf-8\"))\n",
    "print(\"--------\")\n",
    "print(bytes(\"Hællå, wørld!\", encoding=\"utf-8\"))\n",
    "print(str(b'H\\xc3\\xa6ll\\xc3\\xa5, w\\xc3\\xb8rld!', encoding=\"utf-8\"))"
   ]
  },
  {
   "cell_type": "markdown",
   "metadata": {},
   "source": [
    "*注：源代码也将被编码，且默认使用的也是UTF-8编码。如果你想使用其他编码（例如，如果\n",
    "你使用的文本编辑器使用其他编码来存储源代码），可使用特殊的注释来指定:*\n",
    "\n",
    "    _\\# -*- coding: encoding name -*-_\n",
    "*请将其中的`encoding name`替换为你要使用的编码（大小写都行），如`utf-8`或`latin-1`。*"
   ]
  },
  {
   "cell_type": "markdown",
   "metadata": {},
   "source": [
    "+ byte array\n",
    "    - 从某种意义上说，它就像是可修改的字符串——常规字符串是不能修改的\n",
    "    - 要替换其中的字符，必须将其指定为0～255的值*[间接说明byte array的大小是256字节]*\n",
    "    - 要插入字符，必须使用`ord`获取其序数值（ordinal value）。"
   ]
  },
  {
   "cell_type": "code",
   "execution_count": 34,
   "metadata": {},
   "outputs": [
    {
     "data": {
      "text/plain": [
       "bytearray(b'Holla!')"
      ]
     },
     "execution_count": 34,
     "metadata": {},
     "output_type": "execute_result"
    }
   ],
   "source": [
    "x = bytearray(b\"Hello!\")\n",
    "x[1] = ord(b'o')\n",
    "x[4] = ord(b'a')\n",
    "x"
   ]
  },
  {
   "cell_type": "markdown",
   "metadata": {},
   "source": [
    "# 🞂 つづく"
   ]
  }
 ],
 "metadata": {
  "kernelspec": {
   "display_name": "Python 3",
   "language": "python",
   "name": "python3"
  },
  "language_info": {
   "codemirror_mode": {
    "name": "ipython",
    "version": 3
   },
   "file_extension": ".py",
   "mimetype": "text/x-python",
   "name": "python",
   "nbconvert_exporter": "python",
   "pygments_lexer": "ipython3",
   "version": "3.6.6"
  }
 },
 "nbformat": 4,
 "nbformat_minor": 2
}
