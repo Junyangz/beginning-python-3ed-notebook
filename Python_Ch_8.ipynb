{
 "cells": [
  {
   "cell_type": "markdown",
   "metadata": {
    "colab_type": "text",
    "id": "ZP3NVk_bSgsD"
   },
   "source": [
    "# 🕮 8: 异常\n",
    "\n",
    "🖊本章将介绍如何创建和引发异常，以及各种异常处理方式。\n",
    "\n",
    "* 8.1 [异常是什么 ]()\n",
    "* 8.2 [让事情沿你指定的轨道出错 ]()\n",
    "* 8.3 [捕获异常](#8.3-捕获异常)\n",
    "* 8.4 [异常和函数](#8.4-异常和函数)\n",
    "* 8.5 [异常之禅](#8.5-异常之禅)\n",
    "* 8.6 [不那么异常的情况 ](#8.6-不那么异常的情况 )"
   ]
  },
  {
   "cell_type": "code",
   "execution_count": 1,
   "metadata": {
    "colab": {},
    "colab_type": "code",
    "collapsed": true,
    "id": "a7yb1sAO6eff"
   },
   "outputs": [
    {
     "ename": "ZeroDivisionError",
     "evalue": "division by zero",
     "output_type": "error",
     "traceback": [
      "\u001b[0;31m---------------------------------------------------------------------------\u001b[0m",
      "\u001b[0;31mZeroDivisionError\u001b[0m                         Traceback (most recent call last)",
      "\u001b[0;32m<ipython-input-1-62736effe722>\u001b[0m in \u001b[0;36m<module>\u001b[0;34m()\u001b[0m\n\u001b[1;32m      1\u001b[0m \u001b[0;31m#Traceback\u001b[0m\u001b[0;34m\u001b[0m\u001b[0;34m\u001b[0m\u001b[0m\n\u001b[0;32m----> 2\u001b[0;31m \u001b[0;36m1\u001b[0m \u001b[0;34m/\u001b[0m \u001b[0;36m0\u001b[0m\u001b[0;34m\u001b[0m\u001b[0m\n\u001b[0m\u001b[1;32m      3\u001b[0m \u001b[0;34m\u001b[0m\u001b[0m\n",
      "\u001b[0;31mZeroDivisionError\u001b[0m: division by zero"
     ]
    }
   ],
   "source": [
    "#Traceback\n",
    "1 / 0 \n",
    " "
   ]
  },
  {
   "cell_type": "code",
   "execution_count": 4,
   "metadata": {
    "colab": {},
    "colab_type": "code",
    "collapsed": true,
    "id": "erCbPR-WTwBS"
   },
   "outputs": [
    {
     "ename": "ArithmeticError",
     "evalue": "",
     "output_type": "error",
     "traceback": [
      "\u001b[0;31m---------------------------------------------------------------------------\u001b[0m",
      "\u001b[0;31mArithmeticError\u001b[0m                           Traceback (most recent call last)",
      "\u001b[0;32m<ipython-input-4-99ae7b633457>\u001b[0m in \u001b[0;36m<module>\u001b[0;34m()\u001b[0m\n\u001b[1;32m      1\u001b[0m \u001b[0;31m#raise Exception 引发异常\u001b[0m\u001b[0;34m\u001b[0m\u001b[0;34m\u001b[0m\u001b[0m\n\u001b[1;32m      2\u001b[0m \u001b[0;31m#raise Exception('hyperdrive overload')\u001b[0m\u001b[0;34m\u001b[0m\u001b[0;34m\u001b[0m\u001b[0m\n\u001b[0;32m----> 3\u001b[0;31m \u001b[0;32mraise\u001b[0m \u001b[0mArithmeticError\u001b[0m\u001b[0;34m\u001b[0m\u001b[0m\n\u001b[0m",
      "\u001b[0;31mArithmeticError\u001b[0m: "
     ]
    }
   ],
   "source": [
    "#raise Exception 引发异常\n",
    "#raise Exception('hyperdrive overload') \n",
    "raise ArithmeticError"
   ]
  },
  {
   "cell_type": "markdown",
   "metadata": {
    "colab_type": "text",
    "id": "m3pdrwoiUHvh"
   },
   "source": [
    "|类名| 描述|\n",
    "|---|---------------|\n",
    "|Exception          |几乎所有的异常类都是从它派生而来的 |\n",
    "|AttributeError     |引用属性或给它赋值失败时引发 |\n",
    "|OSError            |操作系统不能执行指定的任务（如打开文件）时引发，有多个子类 |\n",
    "|IndexError         |使用序列中不存在的索引时引发，为LookupError的子类 |\n",
    "|KeyError           |使用映射中不存在的键时引发，为LookupError的子类 |\n",
    "|NameError          |找不到名称（变量）时引发 |\n",
    "|SyntaxError        |代码不正确时引发 |\n",
    "|TypeError          |将内置操作或函数用于类型不正确的对象时引发 |\n",
    "|ValueError         |将内置操作或函数用于这样的对象时引发：其类型正确但包含的值不合适 |\n",
    "|ZeroDivisionError  |在除法或求模运算的第二个参数为零时引发|"
   ]
  },
  {
   "cell_type": "code",
   "execution_count": 0,
   "metadata": {
    "colab": {},
    "colab_type": "code",
    "id": "lSIY77rvUAjz"
   },
   "outputs": [],
   "source": [
    "#自定义异常类\n",
    "class SomeCustomException(Exception): pass "
   ]
  },
  {
   "cell_type": "markdown",
   "metadata": {
    "colab_type": "text",
    "id": "7g4PmZR7VV0H"
   },
   "source": [
    "## 8.3 捕获异常\n",
    " "
   ]
  },
  {
   "cell_type": "code",
   "execution_count": 5,
   "metadata": {
    "colab": {},
    "colab_type": "code",
    "collapsed": true,
    "id": "Cq4_HU3CVOyh"
   },
   "outputs": [
    {
     "name": "stdout",
     "output_type": "stream",
     "text": [
      "Enter the first number: 1\n",
      "Enter the second number: 0\n",
      "The second number can't be zero!\n"
     ]
    }
   ],
   "source": [
    "try:     \n",
    "  x = int(input('Enter the first number: '))    \n",
    "  y = int(input('Enter the second number: '))    \n",
    "  print(x / y) \n",
    "except ZeroDivisionError:    \n",
    "  print(\"The second number can't be zero!\")"
   ]
  },
  {
   "cell_type": "markdown",
   "metadata": {
    "colab_type": "text",
    "id": "aTruwl8XVtvf"
   },
   "source": [
    "\n",
    "\n",
    "---\n",
    "\n",
    "**注意**  \n",
    "    异常从函数向外传播到调用函数的地方。如果在这里也没有被捕获，异常将向程序的最顶层传播。这意味着你可使用try/except来捕获他人所编写函数引发的异常。 "
   ]
  },
  {
   "cell_type": "markdown",
   "metadata": {
    "colab_type": "text",
    "id": "ALhythu87NrF"
   },
   "source": [
    "### 8.3.1 不用提供参数\n",
    "\n",
    "简单来说就是仅调用`raise`不提供任何参数"
   ]
  },
  {
   "cell_type": "code",
   "execution_count": 4,
   "metadata": {
    "colab": {},
    "colab_type": "code",
    "id": "JdVIRKvJV61J"
   },
   "outputs": [],
   "source": [
    "class MuffledCalculator:     \n",
    "  muffled = False    \n",
    "  def calc(self, expr):  \n",
    "    try:   \n",
    "      return eval(expr)  \n",
    "    except ZeroDivisionError:   \n",
    "      if self.muffled:    \n",
    "        print('Division by zero is illegal')   \n",
    "      else:    \n",
    "        raise"
   ]
  },
  {
   "cell_type": "code",
   "execution_count": 11,
   "metadata": {
    "colab": {},
    "colab_type": "code",
    "id": "Coh73MfCVylA"
   },
   "outputs": [
    {
     "ename": "ZeroDivisionError",
     "evalue": "division by zero",
     "output_type": "error",
     "traceback": [
      "\u001b[0;31m---------------------------------------------------------------------------\u001b[0m",
      "\u001b[0;31mZeroDivisionError\u001b[0m                         Traceback (most recent call last)",
      "\u001b[0;32m<ipython-input-11-afe55f46c8cd>\u001b[0m in \u001b[0;36m<module>\u001b[0;34m()\u001b[0m\n\u001b[1;32m      1\u001b[0m \u001b[0mcalculator\u001b[0m \u001b[0;34m=\u001b[0m \u001b[0mMuffledCalculator\u001b[0m\u001b[0;34m(\u001b[0m\u001b[0;34m)\u001b[0m\u001b[0;34m\u001b[0m\u001b[0m\n\u001b[1;32m      2\u001b[0m \u001b[0mcalculator\u001b[0m\u001b[0;34m.\u001b[0m\u001b[0mcalc\u001b[0m\u001b[0;34m(\u001b[0m\u001b[0;34m'10 / 2'\u001b[0m\u001b[0;34m)\u001b[0m\u001b[0;34m\u001b[0m\u001b[0m\n\u001b[0;32m----> 3\u001b[0;31m \u001b[0mcalculator\u001b[0m\u001b[0;34m.\u001b[0m\u001b[0mcalc\u001b[0m\u001b[0;34m(\u001b[0m\u001b[0;34m'10 / 0'\u001b[0m\u001b[0;34m)\u001b[0m\u001b[0;34m\u001b[0m\u001b[0m\n\u001b[0m\u001b[1;32m      4\u001b[0m \u001b[0;34m\u001b[0m\u001b[0m\n\u001b[1;32m      5\u001b[0m \u001b[0;31m#calculator.muffled = True\u001b[0m\u001b[0;34m\u001b[0m\u001b[0;34m\u001b[0m\u001b[0m\n",
      "\u001b[0;32m<ipython-input-4-8b8fe0592e63>\u001b[0m in \u001b[0;36mcalc\u001b[0;34m(self, expr)\u001b[0m\n\u001b[1;32m      3\u001b[0m   \u001b[0;32mdef\u001b[0m \u001b[0mcalc\u001b[0m\u001b[0;34m(\u001b[0m\u001b[0mself\u001b[0m\u001b[0;34m,\u001b[0m \u001b[0mexpr\u001b[0m\u001b[0;34m)\u001b[0m\u001b[0;34m:\u001b[0m\u001b[0;34m\u001b[0m\u001b[0m\n\u001b[1;32m      4\u001b[0m     \u001b[0;32mtry\u001b[0m\u001b[0;34m:\u001b[0m\u001b[0;34m\u001b[0m\u001b[0m\n\u001b[0;32m----> 5\u001b[0;31m       \u001b[0;32mreturn\u001b[0m \u001b[0meval\u001b[0m\u001b[0;34m(\u001b[0m\u001b[0mexpr\u001b[0m\u001b[0;34m)\u001b[0m\u001b[0;34m\u001b[0m\u001b[0m\n\u001b[0m\u001b[1;32m      6\u001b[0m     \u001b[0;32mexcept\u001b[0m \u001b[0mZeroDivisionError\u001b[0m\u001b[0;34m:\u001b[0m\u001b[0;34m\u001b[0m\u001b[0m\n\u001b[1;32m      7\u001b[0m       \u001b[0;32mif\u001b[0m \u001b[0mself\u001b[0m\u001b[0;34m.\u001b[0m\u001b[0mmuffled\u001b[0m\u001b[0;34m:\u001b[0m\u001b[0;34m\u001b[0m\u001b[0m\n",
      "\u001b[0;32m<string>\u001b[0m in \u001b[0;36m<module>\u001b[0;34m()\u001b[0m\n",
      "\u001b[0;31mZeroDivisionError\u001b[0m: division by zero"
     ]
    }
   ],
   "source": [
    "calculator = MuffledCalculator() \n",
    "calculator.calc('10 / 2')\n",
    "calculator.calc('10 / 0')\n",
    "\n",
    "#calculator.muffled = True\n",
    "#calculator.calc('10 / 0')\n",
    "#print(calculator.calc('10 / 0'))"
   ]
  },
  {
   "cell_type": "markdown",
   "metadata": {
    "colab_type": "text",
    "id": "6IwXhqYR9xUo"
   },
   "source": [
    "\n",
    "\n",
    "---\n",
    "\n",
    "\n",
    "**注意** *发生除零行为时，如果启用了“抑制”功能，方法calc将（隐式地）返回None。换而言 之，如果启用了“抑制”功能，就不应依赖返回值*\n",
    "\n",
    "\n",
    "---\n",
    "\n"
   ]
  },
  {
   "cell_type": "code",
   "execution_count": 15,
   "metadata": {
    "colab": {},
    "colab_type": "code",
    "collapsed": true,
    "id": "cQynKWhQ98rY"
   },
   "outputs": [
    {
     "ename": "ValueError",
     "evalue": "",
     "output_type": "error",
     "traceback": [
      "\u001b[0;31m---------------------------------------------------------------------------\u001b[0m",
      "\u001b[0;31mValueError\u001b[0m                                Traceback (most recent call last)",
      "\u001b[0;32m<ipython-input-15-0aa148c02f0b>\u001b[0m in \u001b[0;36m<module>\u001b[0;34m()\u001b[0m\n\u001b[1;32m      3\u001b[0m \u001b[0;32mexcept\u001b[0m \u001b[0mZeroDivisionError\u001b[0m\u001b[0;34m:\u001b[0m\u001b[0;34m\u001b[0m\u001b[0m\n\u001b[1;32m      4\u001b[0m    \u001b[0;31m#raise ValueError #处理上述异常时，引发了另一个异常\u001b[0m\u001b[0;34m\u001b[0m\u001b[0;34m\u001b[0m\u001b[0m\n\u001b[0;32m----> 5\u001b[0;31m   \u001b[0;32mraise\u001b[0m \u001b[0mValueError\u001b[0m \u001b[0;32mfrom\u001b[0m \u001b[0;32mNone\u001b[0m \u001b[0;31m#提供异常上下文，用None禁用\u001b[0m\u001b[0;34m\u001b[0m\u001b[0m\n\u001b[0m",
      "\u001b[0;31mValueError\u001b[0m: "
     ]
    }
   ],
   "source": [
    "try:\n",
    "    1/0\n",
    "except ZeroDivisionError:\n",
    "   #raise ValueError #处理上述异常时，引发了另一个异常\n",
    "  raise ValueError from None #提供异常上下文，用None禁用"
   ]
  },
  {
   "cell_type": "markdown",
   "metadata": {
    "colab_type": "text",
    "id": "dXi9LSYX-4_t"
   },
   "source": [
    "### 8.3.2 多个except子句"
   ]
  },
  {
   "cell_type": "code",
   "execution_count": 17,
   "metadata": {
    "colab": {},
    "colab_type": "code",
    "collapsed": true,
    "id": "dBMhm7H5_h-Q"
   },
   "outputs": [
    {
     "name": "stdout",
     "output_type": "stream",
     "text": [
      "Enter the first number: 1\n",
      "Enter the second number: \"s\n",
      "That wasn't a number, was it?\n"
     ]
    }
   ],
   "source": [
    "try:     \n",
    "  x = int(input('Enter the first number: '))    \n",
    "  y = int(input('Enter the second number: '))    \n",
    "  print(x / y) \n",
    "except ZeroDivisionError:    \n",
    "  print(\"The second number can't be zero!\")\n",
    "except ValueError: #except TypeError:  原书\n",
    "  print(\"That wasn't a number, was it?\")"
   ]
  },
  {
   "cell_type": "markdown",
   "metadata": {
    "colab_type": "text",
    "id": "MjZHSGSZAxNx"
   },
   "source": [
    "* 一个`except`捕获多种异常"
   ]
  },
  {
   "cell_type": "code",
   "execution_count": 19,
   "metadata": {
    "colab": {
     "base_uri": "https://localhost:8080/",
     "height": 89
    },
    "colab_type": "code",
    "collapsed": true,
    "executionInfo": {
     "elapsed": 5080,
     "status": "ok",
     "timestamp": 1542548044930,
     "user": {
      "displayName": "去云",
      "photoUrl": "https://lh6.googleusercontent.com/-G5HGeFH-Jl4/AAAAAAAAAAI/AAAAAAAAyB8/qNqJG2dJZCc/s64/photo.jpg",
      "userId": "14347208552025545330"
     },
     "user_tz": -480
    },
    "id": "-JzhAcNFAvlt",
    "outputId": "505d7440-c5e6-4223-ea16-4d9bdd9ad593"
   },
   "outputs": [
    {
     "name": "stdout",
     "output_type": "stream",
     "text": [
      "Enter the first number: 1\n",
      "Enter the second number: s\n",
      "Your numbers were bogus ...\n",
      "invalid literal for int() with base 10: 's'\n"
     ]
    }
   ],
   "source": [
    "try:     \n",
    "  x = int(input('Enter the first number: '))    \n",
    "  y = int(input('Enter the second number: '))    \n",
    "  print(x / y) \n",
    "#except (ZeroDivisionError, TypeError, NameError, ValueError) as e:#  用元组指定多个异常\n",
    "except Exception as e: #常用\n",
    "  print('Your numbers were bogus ...') \n",
    "  print(e) #捕获对象"
   ]
  },
  {
   "cell_type": "code",
   "execution_count": 30,
   "metadata": {
    "colab": {},
    "colab_type": "code",
    "collapsed": true,
    "id": "tDKqYn_ECWfv"
   },
   "outputs": [
    {
     "name": "stdout",
     "output_type": "stream",
     "text": [
      "Enter the first number: 1\n",
      "Enter the second number: 1\n",
      "x / y is 1.0\n"
     ]
    }
   ],
   "source": [
    "while True:     \n",
    "  try:  \n",
    "    x = int(input('Enter the first number: '))  \n",
    "    y = int(input('Enter the second number: '))  \n",
    "    value = x / y  \n",
    "    print('x / y is', value)\n",
    "    #break\n",
    "  except Exception as e:     \n",
    "    print(e,' Please try again.')    \n",
    "  else:  #未出现异常时执行操作\n",
    "    break"
   ]
  },
  {
   "cell_type": "code",
   "execution_count": 22,
   "metadata": {
    "colab": {
     "base_uri": "https://localhost:8080/",
     "height": 263
    },
    "colab_type": "code",
    "collapsed": true,
    "executionInfo": {
     "elapsed": 868,
     "status": "error",
     "timestamp": 1542548902653,
     "user": {
      "displayName": "去云",
      "photoUrl": "https://lh6.googleusercontent.com/-G5HGeFH-Jl4/AAAAAAAAAAI/AAAAAAAAyB8/qNqJG2dJZCc/s64/photo.jpg",
      "userId": "14347208552025545330"
     },
     "user_tz": -480
    },
    "id": "BJoWtB56ELc9",
    "outputId": "d3f5dd91-6214-476d-fe76-9462a0f0c4f6"
   },
   "outputs": [
    {
     "name": "stdout",
     "output_type": "stream",
     "text": [
      "Cleaning up ...\n"
     ]
    },
    {
     "ename": "ZeroDivisionError",
     "evalue": "division by zero",
     "output_type": "error",
     "traceback": [
      "\u001b[0;31m---------------------------------------------------------------------------\u001b[0m",
      "\u001b[0;31mZeroDivisionError\u001b[0m                         Traceback (most recent call last)",
      "\u001b[0;32m<ipython-input-22-2ab899177bf4>\u001b[0m in \u001b[0;36m<module>\u001b[0;34m()\u001b[0m\n\u001b[1;32m      1\u001b[0m \u001b[0mx\u001b[0m \u001b[0;34m=\u001b[0m \u001b[0;32mNone\u001b[0m\u001b[0;34m\u001b[0m\u001b[0m\n\u001b[1;32m      2\u001b[0m \u001b[0;32mtry\u001b[0m\u001b[0;34m:\u001b[0m\u001b[0;34m\u001b[0m\u001b[0m\n\u001b[0;32m----> 3\u001b[0;31m   \u001b[0mx\u001b[0m \u001b[0;34m=\u001b[0m \u001b[0;36m1\u001b[0m \u001b[0;34m/\u001b[0m \u001b[0;36m0\u001b[0m\u001b[0;34m\u001b[0m\u001b[0m\n\u001b[0m\u001b[1;32m      4\u001b[0m \u001b[0;32mfinally\u001b[0m\u001b[0;34m:\u001b[0m    \u001b[0;31m#不管try子句中发生什么异常或不发生异常，都将执行finally子句\u001b[0m\u001b[0;34m\u001b[0m\u001b[0m\n\u001b[1;32m      5\u001b[0m   \u001b[0mprint\u001b[0m\u001b[0;34m(\u001b[0m\u001b[0;34m'Cleaning up ...'\u001b[0m\u001b[0;34m)\u001b[0m\u001b[0;34m\u001b[0m\u001b[0m\n",
      "\u001b[0;31mZeroDivisionError\u001b[0m: division by zero"
     ]
    }
   ],
   "source": [
    "x = None \n",
    "try:     \n",
    "  x = 1 / 0 \n",
    "finally:    #不管try子句中发生什么异常或不发生异常，都将执行finally子句\n",
    "  print('Cleaning up ...')    \n",
    "  del x\n",
    "  #在执行清理工作后崩溃"
   ]
  },
  {
   "cell_type": "code",
   "execution_count": 27,
   "metadata": {
    "colab": {
     "base_uri": "https://localhost:8080/",
     "height": 263
    },
    "colab_type": "code",
    "collapsed": true,
    "executionInfo": {
     "elapsed": 825,
     "status": "error",
     "timestamp": 1542548823839,
     "user": {
      "displayName": "去云",
      "photoUrl": "https://lh6.googleusercontent.com/-G5HGeFH-Jl4/AAAAAAAAAAI/AAAAAAAAyB8/qNqJG2dJZCc/s64/photo.jpg",
      "userId": "14347208552025545330"
     },
     "user_tz": -480
    },
    "id": "VMezXia5Erc6",
    "outputId": "03a47b47-dc75-418e-c928-1ec829a73194"
   },
   "outputs": [
    {
     "name": "stdout",
     "output_type": "stream",
     "text": [
      "1.0\n",
      "That went well!\n",
      "Cleaning up.\n"
     ]
    }
   ],
   "source": [
    "#在一条语句中同时包含try、except、finally和else\n",
    "try:\n",
    "  print(1 / 1)\n",
    "  #1 / 0 \n",
    "except NameError:     \n",
    "  print(\"Unknown variable\") \n",
    "else:     \n",
    "  print(\"That went well!\") \n",
    "finally:    \n",
    "  print(\"Cleaning up.\")"
   ]
  },
  {
   "cell_type": "markdown",
   "metadata": {
    "colab_type": "text",
    "id": "xvLUiTEfFa3Q"
   },
   "source": [
    "## 8.4 异常和函数\n",
    "\n",
    "如果不处理函数中引发的异常，它将向上传播到调用函数的地方。如果在那里也未得到处理，异常将继续传播，直至到达主程序（全局作用域）\n",
    "\n",
    "如果主程序 中也没有异常处理程序，程序将终止并显示栈跟踪消息"
   ]
  },
  {
   "cell_type": "markdown",
   "metadata": {
    "colab_type": "text",
    "id": "_L0_i9HKFq2t"
   },
   "source": [
    "## 8.5 异常之禅\n",
    "\n",
    "使用`try/except`检查对象是否包含特定的属性是一种比较优雅的方式。"
   ]
  },
  {
   "cell_type": "code",
   "execution_count": 31,
   "metadata": {
    "colab": {
     "base_uri": "https://localhost:8080/",
     "height": 35
    },
    "colab_type": "code",
    "collapsed": true,
    "executionInfo": {
     "elapsed": 880,
     "status": "ok",
     "timestamp": 1542549358225,
     "user": {
      "displayName": "去云",
      "photoUrl": "https://lh6.googleusercontent.com/-G5HGeFH-Jl4/AAAAAAAAAAI/AAAAAAAAyB8/qNqJG2dJZCc/s64/photo.jpg",
      "userId": "14347208552025545330"
     },
     "user_tz": -480
    },
    "id": "W4ByFdj5Gnnt",
    "outputId": "cddbc8f9-daf5-4369-c036-551ac4a376f8"
   },
   "outputs": [
    {
     "name": "stdout",
     "output_type": "stream",
     "text": [
      "name 'obj' is not defined\n"
     ]
    }
   ],
   "source": [
    "try:     \n",
    "  obj.write \n",
    "except Exception as e:     \n",
    "    print(e) \n",
    "else:  \n",
    "  print('The object is writeable') "
   ]
  },
  {
   "cell_type": "markdown",
   "metadata": {
    "colab_type": "text",
    "id": "tqAbhZLTGkR0"
   },
   "source": [
    "## 8.6 不那么异常的情况 \n",
    "\n"
   ]
  },
  {
   "cell_type": "code",
   "execution_count": 32,
   "metadata": {
    "colab": {
     "base_uri": "https://localhost:8080/",
     "height": 73
    },
    "colab_type": "code",
    "executionInfo": {
     "elapsed": 935,
     "status": "ok",
     "timestamp": 1542554191992,
     "user": {
      "displayName": "去云",
      "photoUrl": "https://lh6.googleusercontent.com/-G5HGeFH-Jl4/AAAAAAAAAAI/AAAAAAAAyB8/qNqJG2dJZCc/s64/photo.jpg",
      "userId": "14347208552025545330"
     },
     "user_tz": -480
    },
    "id": "QGL2oBqgZMmw",
    "outputId": "3cae83e7-7ffb-4c73-e9b4-bebd3f23c459"
   },
   "outputs": [
    {
     "name": "stderr",
     "output_type": "stream",
     "text": [
      "/usr/local/lib/python3.6/site-packages/ipykernel_launcher.py:2: UserWarning: I've got a bad feeling about this.\n",
      "  \n"
     ]
    }
   ],
   "source": [
    "from warnings import warn \n",
    "warn(\"I've got a bad feeling about this.\") "
   ]
  },
  {
   "cell_type": "code",
   "execution_count": 37,
   "metadata": {
    "colab": {},
    "colab_type": "code",
    "collapsed": true,
    "id": "Jl5VkdUkZUcj"
   },
   "outputs": [
    {
     "ename": "UserWarning",
     "evalue": "Something is very wrong!",
     "output_type": "error",
     "traceback": [
      "\u001b[0;31m---------------------------------------------------------------------------\u001b[0m",
      "\u001b[0;31mUserWarning\u001b[0m                               Traceback (most recent call last)",
      "\u001b[0;32m<ipython-input-37-f5f006fd83d8>\u001b[0m in \u001b[0;36m<module>\u001b[0;34m()\u001b[0m\n\u001b[1;32m      3\u001b[0m \u001b[0mwarn\u001b[0m\u001b[0;34m(\u001b[0m\u001b[0;34m\"Anyone out there?\"\u001b[0m\u001b[0;34m)\u001b[0m\u001b[0;34m\u001b[0m\u001b[0m\n\u001b[1;32m      4\u001b[0m \u001b[0mfilterwarnings\u001b[0m\u001b[0;34m(\u001b[0m\u001b[0;34m\"error\"\u001b[0m\u001b[0;34m)\u001b[0m\u001b[0;34m\u001b[0m\u001b[0m\n\u001b[0;32m----> 5\u001b[0;31m \u001b[0mwarn\u001b[0m\u001b[0;34m(\u001b[0m\u001b[0;34m\"Something is very wrong!\"\u001b[0m\u001b[0;34m)\u001b[0m\u001b[0;34m\u001b[0m\u001b[0m\n\u001b[0m\u001b[1;32m      6\u001b[0m \u001b[0mwarn\u001b[0m\u001b[0;34m(\u001b[0m\u001b[0;34m\"This function is really old...\"\u001b[0m\u001b[0;34m,\u001b[0m \u001b[0mDeprecationWarning\u001b[0m\u001b[0;34m)\u001b[0m\u001b[0;34m\u001b[0m\u001b[0m\n\u001b[1;32m      7\u001b[0m \u001b[0mfilterwarnings\u001b[0m\u001b[0;34m(\u001b[0m\u001b[0;34m\"ignore\"\u001b[0m\u001b[0;34m,\u001b[0m \u001b[0mcategory\u001b[0m\u001b[0;34m=\u001b[0m\u001b[0mDeprecationWarning\u001b[0m\u001b[0;34m)\u001b[0m  \u001b[0;31m#过滤掉特定类型\u001b[0m\u001b[0;34m\u001b[0m\u001b[0m\n",
      "\u001b[0;31mUserWarning\u001b[0m: Something is very wrong!"
     ]
    }
   ],
   "source": [
    "from warnings import filterwarnings \n",
    "filterwarnings(\"ignore\") \n",
    "warn(\"Anyone out there?\") \n",
    "filterwarnings(\"error\") \n",
    "warn(\"Something is very wrong!\") \n",
    "warn(\"This function is really old...\", DeprecationWarning) \n",
    "filterwarnings(\"ignore\", category=DeprecationWarning)  #过滤掉特定类型"
   ]
  },
  {
   "cell_type": "markdown",
   "metadata": {
    "colab_type": "text",
    "id": "69SHYOoKZ0-9"
   },
   "source": [
    "* 本章介绍的新函数\n",
    "\n",
    "|函数|描述|\n",
    "|:---|:---------------|\n",
    "|warnings.filterwarnings(action,category=Warning, ...) |用于过滤警告 |\n",
    "|warnings.warn(message, category=None) |用于发出警告|"
   ]
  }
 ],
 "metadata": {
  "colab": {
   "collapsed_sections": [],
   "name": "Python_Ch_8.ipynb",
   "provenance": [],
   "version": "0.3.2"
  },
  "kernelspec": {
   "display_name": "Python 3",
   "language": "python",
   "name": "python3"
  },
  "language_info": {
   "codemirror_mode": {
    "name": "ipython",
    "version": 3
   },
   "file_extension": ".py",
   "mimetype": "text/x-python",
   "name": "python",
   "nbconvert_exporter": "python",
   "pygments_lexer": "ipython3",
   "version": "3.6.6"
  }
 },
 "nbformat": 4,
 "nbformat_minor": 1
}
