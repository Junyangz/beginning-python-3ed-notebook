{
 "cells": [
  {
   "cell_type": "markdown",
   "metadata": {
    "colab_type": "text",
    "id": "jrudbDYabUDF"
   },
   "source": [
    "# 🕮 9: 魔法方法、特性和迭代器\n",
    "\n",
    "\n",
    "🖊本章将讨论几个重要的魔法方法以及两个相关主题：特性和迭代器。\n",
    "\n",
    "* 9.1 [如果你使用的不是 Python 3 ](#9.1-如果你使用的不是Python3)\n",
    "* 9.2 [构造函数 ](#9.2-构造函数)\n",
    "* 9.3 [元素访问](#9.3-元素访问)\n",
    "* 9.4 [其他魔法方法]()\n",
    "* 9.5 [特性](#9.5-特性)\n",
    "* 9.6 [迭代器](#9.6-迭代器)\n",
    "* 9.7 [生成器](#9.6-生成器)\n",
    "* 9.8 [八皇后问题 ](#9.8-八皇后问题 )"
   ]
  },
  {
   "cell_type": "markdown",
   "metadata": {
    "colab_type": "text",
    "id": "eITZUy_ececk"
   },
   "source": [
    "## 9.1 如果你使用的不是Python3\n",
    "\n",
    "Python 2中新式类要在模块开头包含赋值语句`__metaclass__ = type`"
   ]
  },
  {
   "cell_type": "code",
   "execution_count": 0,
   "metadata": {
    "colab": {},
    "colab_type": "code",
    "id": "VblKsDihaoZs"
   },
   "outputs": [],
   "source": [
    "#__metaclass__ = type\n",
    "class NewStyle(object):     \n",
    "  more_code_here \n",
    "class OldStyle:    \n",
    "  more_code_here \n",
    "  \n",
    "#书中并没有在所有示例中都显式地设置元类或继承object"
   ]
  },
  {
   "cell_type": "markdown",
   "metadata": {
    "colab_type": "text",
    "id": "-Wc5TDQvdZrC"
   },
   "source": [
    "## 9.2 构造函数\n",
    " \n",
    " 命名为`__init__` 在对象创建后自动调用。\n",
    " \n",
    " 用得最多的**魔法方法**..."
   ]
  },
  {
   "cell_type": "code",
   "execution_count": 1,
   "metadata": {
    "colab": {
     "base_uri": "https://localhost:8080/",
     "height": 53
    },
    "colab_type": "code",
    "collapsed": true,
    "executionInfo": {
     "elapsed": 838,
     "status": "ok",
     "timestamp": 1542555551291,
     "user": {
      "displayName": "去云",
      "photoUrl": "https://lh6.googleusercontent.com/-G5HGeFH-Jl4/AAAAAAAAAAI/AAAAAAAAyB8/qNqJG2dJZCc/s64/photo.jpg",
      "userId": "14347208552025545330"
     },
     "user_tz": -480
    },
    "id": "qkY_Qvegcd-W",
    "outputId": "f1c20408-95aa-40f9-ce5b-909c62f81a0f"
   },
   "outputs": [
    {
     "name": "stdout",
     "output_type": "stream",
     "text": [
      "42\n"
     ]
    },
    {
     "data": {
      "text/plain": [
       "'This is a constructor argument'"
      ]
     },
     "execution_count": 1,
     "metadata": {},
     "output_type": "execute_result"
    }
   ],
   "source": [
    "class FooBar:     \n",
    "  def __init__(self, value=42):  \n",
    "    self.somevar = value\n",
    "f = FooBar()\n",
    "print(f.somevar)\n",
    "g = FooBar('This is a constructor argument') \n",
    "g.somevar"
   ]
  },
  {
   "cell_type": "markdown",
   "metadata": {
    "colab_type": "text",
    "id": "N9Q5aBsbe3Rv"
   },
   "source": [
    "\n",
    "\n",
    "---\n",
    "\n",
    "\n",
    "**注意 ** *Python提供了魔法方法`__del__`，也称作析构函数（destructor）。这个方法在对象被销毁 （作为垃圾被收集）前被调用，但鉴于无法知道准确的调用时间，建议尽可能不要使 用`__del__`。 *\n",
    "\n",
    "---"
   ]
  },
  {
   "cell_type": "markdown",
   "metadata": {
    "colab_type": "text",
    "id": "JRaqn-zqf-Qx"
   },
   "source": [
    "### 9.2.1 重写普通方法和特殊的构造函数 "
   ]
  },
  {
   "cell_type": "code",
   "execution_count": 2,
   "metadata": {
    "colab": {
     "base_uri": "https://localhost:8080/",
     "height": 53
    },
    "colab_type": "code",
    "collapsed": true,
    "executionInfo": {
     "elapsed": 981,
     "status": "ok",
     "timestamp": 1542556002947,
     "user": {
      "displayName": "去云",
      "photoUrl": "https://lh6.googleusercontent.com/-G5HGeFH-Jl4/AAAAAAAAAAI/AAAAAAAAyB8/qNqJG2dJZCc/s64/photo.jpg",
      "userId": "14347208552025545330"
     },
     "user_tz": -480
    },
    "id": "QduEqsvdcc2I",
    "outputId": "6de3491f-86b6-4ea8-c132-3be6a3c3f8d1"
   },
   "outputs": [
    {
     "name": "stdout",
     "output_type": "stream",
     "text": [
      "Hello, I'm A.\n",
      "Hello, I'm B.\n"
     ]
    }
   ],
   "source": [
    "class A:     \n",
    "  def hello(self):  \n",
    "    print(\"Hello, I'm A.\") \n",
    "# class B(A):    \n",
    "#   pass \n",
    "class B(A):    \n",
    "  def hello(self):  \n",
    "    print(\"Hello, I'm B.\") \n",
    "\n",
    "a = A()\n",
    "b = B()\n",
    "a.hello()\n",
    "b.hello()"
   ]
  },
  {
   "cell_type": "markdown",
   "metadata": {
    "colab_type": "text",
    "id": "rtDShY0CgSUm"
   },
   "source": [
    "* 重写**构造函数**必须调用**超类**的构造函数"
   ]
  },
  {
   "cell_type": "code",
   "execution_count": 3,
   "metadata": {
    "colab": {
     "base_uri": "https://localhost:8080/",
     "height": 53
    },
    "colab_type": "code",
    "executionInfo": {
     "elapsed": 886,
     "status": "ok",
     "timestamp": 1542613426444,
     "user": {
      "displayName": "去云",
      "photoUrl": "https://lh6.googleusercontent.com/-G5HGeFH-Jl4/AAAAAAAAAAI/AAAAAAAAyB8/qNqJG2dJZCc/s64/photo.jpg",
      "userId": "14347208552025545330"
     },
     "user_tz": -480
    },
    "id": "olDpZPFmgfkM",
    "outputId": "722bb4b6-dcd4-49b1-cbe5-6127e43e4563"
   },
   "outputs": [
    {
     "name": "stdout",
     "output_type": "stream",
     "text": [
      "Aaaah ...\n",
      "No, thanks!\n"
     ]
    }
   ],
   "source": [
    "class Bird:     \n",
    "  def __init__(self):     \n",
    "    self.hungry = True    \n",
    "  def eat(self):\n",
    "    if self.hungry:   \n",
    "      print('Aaaah ...')   \n",
    "      self.hungry = False  \n",
    "    else:   \n",
    "      print('No, thanks!')\n",
    "\n",
    "b = Bird() \n",
    "b.eat()\n",
    "b.eat()"
   ]
  },
  {
   "cell_type": "code",
   "execution_count": 4,
   "metadata": {
    "colab": {},
    "colab_type": "code",
    "collapsed": true,
    "id": "h_tRoNy-haFD"
   },
   "outputs": [
    {
     "name": "stdout",
     "output_type": "stream",
     "text": [
      "Squawk!\n"
     ]
    },
    {
     "ename": "AttributeError",
     "evalue": "'SongBird' object has no attribute 'hungry'",
     "output_type": "error",
     "traceback": [
      "\u001b[0;31m---------------------------------------------------------------------------\u001b[0m",
      "\u001b[0;31mAttributeError\u001b[0m                            Traceback (most recent call last)",
      "\u001b[0;32m<ipython-input-4-2e804b727251>\u001b[0m in \u001b[0;36m<module>\u001b[0;34m()\u001b[0m\n\u001b[1;32m      7\u001b[0m \u001b[0msb\u001b[0m \u001b[0;34m=\u001b[0m \u001b[0mSongBird\u001b[0m\u001b[0;34m(\u001b[0m\u001b[0;34m)\u001b[0m\u001b[0;34m\u001b[0m\u001b[0m\n\u001b[1;32m      8\u001b[0m \u001b[0msb\u001b[0m\u001b[0;34m.\u001b[0m\u001b[0msing\u001b[0m\u001b[0;34m(\u001b[0m\u001b[0;34m)\u001b[0m\u001b[0;34m\u001b[0m\u001b[0m\n\u001b[0;32m----> 9\u001b[0;31m \u001b[0msb\u001b[0m\u001b[0;34m.\u001b[0m\u001b[0meat\u001b[0m\u001b[0;34m(\u001b[0m\u001b[0;34m)\u001b[0m\u001b[0;31m#重新了构造函数，不包含属性hungry的代码\u001b[0m\u001b[0;34m\u001b[0m\u001b[0m\n\u001b[0m",
      "\u001b[0;32m<ipython-input-3-41e86ebdef4b>\u001b[0m in \u001b[0;36meat\u001b[0;34m(self)\u001b[0m\n\u001b[1;32m      3\u001b[0m     \u001b[0mself\u001b[0m\u001b[0;34m.\u001b[0m\u001b[0mhungry\u001b[0m \u001b[0;34m=\u001b[0m \u001b[0;32mTrue\u001b[0m\u001b[0;34m\u001b[0m\u001b[0m\n\u001b[1;32m      4\u001b[0m   \u001b[0;32mdef\u001b[0m \u001b[0meat\u001b[0m\u001b[0;34m(\u001b[0m\u001b[0mself\u001b[0m\u001b[0;34m)\u001b[0m\u001b[0;34m:\u001b[0m\u001b[0;34m\u001b[0m\u001b[0m\n\u001b[0;32m----> 5\u001b[0;31m     \u001b[0;32mif\u001b[0m \u001b[0mself\u001b[0m\u001b[0;34m.\u001b[0m\u001b[0mhungry\u001b[0m\u001b[0;34m:\u001b[0m\u001b[0;34m\u001b[0m\u001b[0m\n\u001b[0m\u001b[1;32m      6\u001b[0m       \u001b[0mprint\u001b[0m\u001b[0;34m(\u001b[0m\u001b[0;34m'Aaaah ...'\u001b[0m\u001b[0;34m)\u001b[0m\u001b[0;34m\u001b[0m\u001b[0m\n\u001b[1;32m      7\u001b[0m       \u001b[0mself\u001b[0m\u001b[0;34m.\u001b[0m\u001b[0mhungry\u001b[0m \u001b[0;34m=\u001b[0m \u001b[0;32mFalse\u001b[0m\u001b[0;34m\u001b[0m\u001b[0m\n",
      "\u001b[0;31mAttributeError\u001b[0m: 'SongBird' object has no attribute 'hungry'"
     ]
    }
   ],
   "source": [
    "class SongBird(Bird):     \n",
    "  def __init__(self):     \n",
    "    self.sound = 'Squawk!'    \n",
    "  def sing(self): \n",
    "    print(self.sound)\n",
    "    \n",
    "sb = SongBird() \n",
    "sb.sing()\n",
    "sb.eat()#重新了构造函数，不包含属性hungry的代码"
   ]
  },
  {
   "cell_type": "markdown",
   "metadata": {
    "colab_type": "text",
    "id": "LWcm6Zmji0YI"
   },
   "source": [
    "* 调用未关联的超类构造函数 "
   ]
  },
  {
   "cell_type": "code",
   "execution_count": 5,
   "metadata": {
    "colab": {
     "base_uri": "https://localhost:8080/",
     "height": 245
    },
    "colab_type": "code",
    "executionInfo": {
     "elapsed": 812,
     "status": "error",
     "timestamp": 1542613422194,
     "user": {
      "displayName": "去云",
      "photoUrl": "https://lh6.googleusercontent.com/-G5HGeFH-Jl4/AAAAAAAAAAI/AAAAAAAAyB8/qNqJG2dJZCc/s64/photo.jpg",
      "userId": "14347208552025545330"
     },
     "user_tz": -480
    },
    "id": "2MDDRAAUiRrU",
    "outputId": "7df56b89-f95e-475a-82fc-543f84539942"
   },
   "outputs": [
    {
     "name": "stdout",
     "output_type": "stream",
     "text": [
      "Squawk!\n",
      "Aaaah ...\n"
     ]
    }
   ],
   "source": [
    "class SongBird(Bird):     \n",
    "  def __init__(self):     \n",
    "    Bird.__init__(self) #使用超类的构造函数初始化SongBird对象\n",
    "    self.sound = 'Squawk!'    \n",
    "  def sing(self): \n",
    "    print(self.sound)\n",
    "    \n",
    "sb = SongBird() \n",
    "sb.sing()\n",
    "sb.eat()#重新了构造函数，不包含属性hungry的代码"
   ]
  },
  {
   "cell_type": "markdown",
   "metadata": {
    "colab_type": "text",
    "id": "_DPv3TPYiQus"
   },
   "source": [
    "* 使用函数super **常用**"
   ]
  },
  {
   "cell_type": "code",
   "execution_count": 6,
   "metadata": {
    "colab": {
     "base_uri": "https://localhost:8080/",
     "height": 53
    },
    "colab_type": "code",
    "collapsed": true,
    "executionInfo": {
     "elapsed": 822,
     "status": "ok",
     "timestamp": 1542613431640,
     "user": {
      "displayName": "去云",
      "photoUrl": "https://lh6.googleusercontent.com/-G5HGeFH-Jl4/AAAAAAAAAAI/AAAAAAAAyB8/qNqJG2dJZCc/s64/photo.jpg",
      "userId": "14347208552025545330"
     },
     "user_tz": -480
    },
    "id": "mbA2gZsdjB3v",
    "outputId": "a775987b-d9e3-428c-df24-f2ceb6560dbf"
   },
   "outputs": [
    {
     "name": "stdout",
     "output_type": "stream",
     "text": [
      "Squawk!\n",
      "Aaaah ...\n"
     ]
    }
   ],
   "source": [
    "class SongBird(Bird):     \n",
    "  def __init__(self):     \n",
    "    super().__init__()  #使用super函数初始化SongBird对象\n",
    "    self.sound = 'Squawk!'    \n",
    "  def sing(self): \n",
    "    print(self.sound)\n",
    "    \n",
    "sb = SongBird() \n",
    "sb.sing()\n",
    "sb.eat()#重新了构造函数，不包含属性hungry的代码"
   ]
  },
  {
   "cell_type": "markdown",
   "metadata": {
    "colab_type": "text",
    "id": "hfiJCdn9iFu_"
   },
   "source": [
    "## 9.3 元素访问\n",
    "\n",
    "创建行为类似于序列或映射的对象"
   ]
  },
  {
   "cell_type": "markdown",
   "metadata": {
    "colab_type": "text",
    "id": "yR6butGR89ix"
   },
   "source": [
    "* ` __len__(self)`: 返回集合中的项数\n",
    "* `__getitem__(self, key)`：指定键关联的值\n",
    "* `__setitem__(self, key, value)`:设定指定键值\n",
    "* `__delitem__(self, key)`：删除指定项"
   ]
  },
  {
   "cell_type": "markdown",
   "metadata": {
    "colab_type": "text",
    "id": "iNoVDjTW_Ywn"
   },
   "source": [
    "* 从 `list`、`dict`、`str`派生\n"
   ]
  },
  {
   "cell_type": "code",
   "execution_count": 11,
   "metadata": {
    "colab": {},
    "colab_type": "code",
    "id": "BI9iSu_k_jiq"
   },
   "outputs": [],
   "source": [
    "class CounterList(list):     \n",
    "  def __init__(self, *args):  \n",
    "    super().__init__(*args)     \n",
    "    self.counter = 0    \n",
    "  def __getitem__(self, index):  \n",
    "    self.counter += 1  \n",
    "    return super().__getitem__(index) #super(CounterList, self).__getitem__(index)  "
   ]
  },
  {
   "cell_type": "code",
   "execution_count": 12,
   "metadata": {
    "colab": {
     "base_uri": "https://localhost:8080/",
     "height": 53
    },
    "colab_type": "code",
    "collapsed": true,
    "executionInfo": {
     "elapsed": 786,
     "status": "ok",
     "timestamp": 1542615033390,
     "user": {
      "displayName": "去云",
      "photoUrl": "https://lh6.googleusercontent.com/-G5HGeFH-Jl4/AAAAAAAAAAI/AAAAAAAAyB8/qNqJG2dJZCc/s64/photo.jpg",
      "userId": "14347208552025545330"
     },
     "user_tz": -480
    },
    "id": "PDWfyXaC_p9P",
    "outputId": "c43934a8-2487-4387-df80-0b571307a9b9"
   },
   "outputs": [
    {
     "name": "stdout",
     "output_type": "stream",
     "text": [
      "[9, 8, 7, 6, 5, 4, 3, 2, 1, 0]\n"
     ]
    },
    {
     "data": {
      "text/plain": [
       "2"
      ]
     },
     "execution_count": 12,
     "metadata": {},
     "output_type": "execute_result"
    }
   ],
   "source": [
    "cl = CounterList(range(10)) \n",
    "cl\n",
    "cl.reverse()\n",
    "print(cl)\n",
    "cl.counter\n",
    "cl[4] + cl[2]\n",
    "cl.counter"
   ]
  },
  {
   "cell_type": "markdown",
   "metadata": {
    "colab_type": "text",
    "id": "jLJOfbv1AUm-"
   },
   "source": [
    "## 9.5 特性\n",
    "\n",
    "Python中隐藏的存取方法即为特性（property）。 \n"
   ]
  },
  {
   "cell_type": "code",
   "execution_count": 13,
   "metadata": {
    "colab": {},
    "colab_type": "code",
    "id": "M54wRelgCL9-"
   },
   "outputs": [],
   "source": [
    "class Rectangle:     \n",
    "  def __init__(self):  \n",
    "    self.width = 0     \n",
    "    self.height = 0    \n",
    "  def set_size(self, size):  \n",
    "    self.width, self.height = size    \n",
    "  def get_size(self):  \n",
    "    return self.width, self.height "
   ]
  },
  {
   "cell_type": "code",
   "execution_count": 14,
   "metadata": {
    "colab": {
     "base_uri": "https://localhost:8080/",
     "height": 35
    },
    "colab_type": "code",
    "collapsed": true,
    "executionInfo": {
     "elapsed": 840,
     "status": "ok",
     "timestamp": 1542615455510,
     "user": {
      "displayName": "去云",
      "photoUrl": "https://lh6.googleusercontent.com/-G5HGeFH-Jl4/AAAAAAAAAAI/AAAAAAAAyB8/qNqJG2dJZCc/s64/photo.jpg",
      "userId": "14347208552025545330"
     },
     "user_tz": -480
    },
    "id": "R2sOjfxICR3t",
    "outputId": "43dc6bed-0e39-4219-962e-5eee7baa903d"
   },
   "outputs": [
    {
     "data": {
      "text/plain": [
       "(150, 100)"
      ]
     },
     "execution_count": 14,
     "metadata": {},
     "output_type": "execute_result"
    }
   ],
   "source": [
    "r = Rectangle()\n",
    "r.width = 10\n",
    "r.heigth = 5\n",
    "r.get_size()\n",
    "r.set_size((150, 100))\n",
    "r.get_size()"
   ]
  },
  {
   "cell_type": "markdown",
   "metadata": {
    "colab_type": "text",
    "id": "E9Jj1CAgDx6x"
   },
   "source": [
    "* 函数`property`\n",
    "\n",
    " `property(get_size, set_size)`  #获取方法在前，设定方法在后\n",
    " \n",
    " `property(fget, fset,  fdel, doc）` 可不指定参数，或用关键字参数指定特定参数\n",
    " "
   ]
  },
  {
   "cell_type": "code",
   "execution_count": 16,
   "metadata": {
    "colab": {},
    "colab_type": "code",
    "id": "9zBBZBs6DvVM"
   },
   "outputs": [],
   "source": [
    "class Rectangle:     \n",
    "  def __init__(self):  \n",
    "    self.width = 0     \n",
    "    self.height = 0    \n",
    "  def set_size(self, size):  \n",
    "    self.width, self.height = size    \n",
    "  def get_size(self):  \n",
    "    return self.width, self.height \n",
    "  size = property(get_size, set_size) #"
   ]
  },
  {
   "cell_type": "code",
   "execution_count": 19,
   "metadata": {
    "colab": {
     "base_uri": "https://localhost:8080/",
     "height": 35
    },
    "colab_type": "code",
    "collapsed": true,
    "executionInfo": {
     "elapsed": 792,
     "status": "ok",
     "timestamp": 1542615800395,
     "user": {
      "displayName": "去云",
      "photoUrl": "https://lh6.googleusercontent.com/-G5HGeFH-Jl4/AAAAAAAAAAI/AAAAAAAAyB8/qNqJG2dJZCc/s64/photo.jpg",
      "userId": "14347208552025545330"
     },
     "user_tz": -480
    },
    "id": "trean3cREHF_",
    "outputId": "fee1b226-df84-4a59-b2dc-ffae43585b08"
   },
   "outputs": [
    {
     "data": {
      "text/plain": [
       "150"
      ]
     },
     "execution_count": 19,
     "metadata": {},
     "output_type": "execute_result"
    }
   ],
   "source": [
    "r = Rectangle()\n",
    "r.width = 10\n",
    "r.heigth = 5\n",
    "#r.size\n",
    "r.size = 150, 100 # 看起来像普通属性一样\n",
    "r.width"
   ]
  },
  {
   "cell_type": "markdown",
   "metadata": {
    "colab_type": "text",
    "id": "mTEF50QoF9tS"
   },
   "source": [
    "***对于新式类应使用特性而不是存取方法***"
   ]
  },
  {
   "cell_type": "markdown",
   "metadata": {
    "colab_type": "text",
    "id": "S1twT0m3GThP"
   },
   "source": [
    "* 静态方法和类方法 \n",
    "\n",
    "静态方法没有参数self、类方法包含类似self的参数，通常被命名为cls\n"
   ]
  },
  {
   "cell_type": "code",
   "execution_count": 20,
   "metadata": {
    "colab": {},
    "colab_type": "code",
    "id": "5hieIDJGG6Ze"
   },
   "outputs": [],
   "source": [
    "class MyClass: \n",
    "  @staticmethod     #装饰器\n",
    "  def smeth():  \n",
    "    print('This is a static method') \n",
    "  @classmethod    \n",
    "  def cmeth(cls):  \n",
    "    print('This is a class method of', cls)"
   ]
  },
  {
   "cell_type": "code",
   "execution_count": 21,
   "metadata": {
    "colab": {
     "base_uri": "https://localhost:8080/",
     "height": 53
    },
    "colab_type": "code",
    "collapsed": true,
    "executionInfo": {
     "elapsed": 1071,
     "status": "ok",
     "timestamp": 1542616669927,
     "user": {
      "displayName": "去云",
      "photoUrl": "https://lh6.googleusercontent.com/-G5HGeFH-Jl4/AAAAAAAAAAI/AAAAAAAAyB8/qNqJG2dJZCc/s64/photo.jpg",
      "userId": "14347208552025545330"
     },
     "user_tz": -480
    },
    "id": "sbR6BysoE8xk",
    "outputId": "d44e9b92-2ad2-495c-aeb8-3d79e9012035"
   },
   "outputs": [
    {
     "name": "stdout",
     "output_type": "stream",
     "text": [
      "This is a static method\n",
      "This is a class method of <class '__main__.MyClass'>\n"
     ]
    }
   ],
   "source": [
    "MyClass.smeth() \n",
    "MyClass.cmeth() "
   ]
  },
  {
   "cell_type": "markdown",
   "metadata": {
    "colab_type": "text",
    "id": "xGiLVAM2Hr7l"
   },
   "source": [
    "###  **`__getattr__`、`__setattr__`**等方法 \n",
    "\n",
    "*  `__getattribute__(self, name)``：在属性被访问时自动调用（只适用于新式类）。\n",
    "\n",
    "* `__getattr__(self, name)`：在属性被访问而对象没有这样的属性时自动调用。 \n",
    "\n",
    "*  `__setattr__(self, name, value)`：试图给属性赋值时自动调用。 \n",
    "\n",
    "*  `__delattr__(self, name)`：试图删除属性时自动调用。\n"
   ]
  },
  {
   "cell_type": "code",
   "execution_count": 24,
   "metadata": {
    "colab": {},
    "colab_type": "code",
    "id": "wYcZ5Ru1Il4_"
   },
   "outputs": [],
   "source": [
    "class Rectangle:     \n",
    "  def __init__ (self):  \n",
    "    self.width = 0     \n",
    "    self.height = 0    \n",
    "  def __setattr__(self, name, value):  \n",
    "    if name == 'size':   \n",
    "      self.width, self.height = value  \n",
    "    else:   \n",
    "      self. __dict__[name] = value    \n",
    "  def __getattr__(self, name):  \n",
    "    if name == 'size':   \n",
    "        return self.width, self.height  \n",
    "    else:   \n",
    "      raise AttributeError()"
   ]
  },
  {
   "cell_type": "markdown",
   "metadata": {
    "colab_type": "text",
    "id": "DrjqGbXxJNTo"
   },
   "source": [
    "* 即便涉及的属性不是size，也将调用方法`__setattr__`\n",
    "* 仅当没有找到指定的属性时，才会调用方法`__getattr__`\n",
    "\n",
    "\n",
    "\n",
    "---\n",
    "\n"
   ]
  },
  {
   "cell_type": "markdown",
   "metadata": {
    "colab_type": "text",
    "id": "B9jU6mYkJexF"
   },
   "source": [
    "## 9.6 迭代器\n",
    "\n",
    "魔法方法`__iter__` 是迭代器的基础\n"
   ]
  },
  {
   "cell_type": "code",
   "execution_count": 25,
   "metadata": {
    "colab": {},
    "colab_type": "code",
    "id": "j_wDQappJNAg"
   },
   "outputs": [],
   "source": [
    "#使用迭代器而不是使用列表\n",
    "class Fibs:     \n",
    "  def __init__(self):  \n",
    "    self.a = 0     \n",
    "    self.b = 1    \n",
    "  def __next__(self):  \n",
    "    self.a, self.b = self.b, self.a + self.b  \n",
    "    return self.a    \n",
    "  def __iter__(self):     \n",
    "    return self"
   ]
  },
  {
   "cell_type": "code",
   "execution_count": 37,
   "metadata": {
    "colab": {
     "base_uri": "https://localhost:8080/",
     "height": 35
    },
    "colab_type": "code",
    "collapsed": true,
    "executionInfo": {
     "elapsed": 814,
     "status": "ok",
     "timestamp": 1542618342397,
     "user": {
      "displayName": "去云",
      "photoUrl": "https://lh6.googleusercontent.com/-G5HGeFH-Jl4/AAAAAAAAAAI/AAAAAAAAyB8/qNqJG2dJZCc/s64/photo.jpg",
      "userId": "14347208552025545330"
     },
     "user_tz": -480
    },
    "id": "SJANROD9NoO5",
    "outputId": "9da31e58-4673-470c-c05d-2bb26a4d9b86"
   },
   "outputs": [
    {
     "name": "stdout",
     "output_type": "stream",
     "text": [
      "1\n",
      "1\n",
      "2\n",
      "3\n",
      "5\n",
      "8\n",
      "13\n",
      "21\n",
      "34\n",
      "55\n",
      "89\n",
      "144\n",
      "233\n",
      "377\n",
      "610\n",
      "987\n",
      "1597\n",
      "1597\n"
     ]
    }
   ],
   "source": [
    "fibs = Fibs()\n",
    "\n",
    "for f in fibs:\n",
    "  print(f)\n",
    "  if f > 1000:\n",
    "    print(f)\n",
    "    break"
   ]
  },
  {
   "cell_type": "code",
   "execution_count": 28,
   "metadata": {
    "colab": {
     "base_uri": "https://localhost:8080/",
     "height": 35
    },
    "colab_type": "code",
    "collapsed": true,
    "executionInfo": {
     "elapsed": 999,
     "status": "ok",
     "timestamp": 1542618389712,
     "user": {
      "displayName": "去云",
      "photoUrl": "https://lh6.googleusercontent.com/-G5HGeFH-Jl4/AAAAAAAAAAI/AAAAAAAAyB8/qNqJG2dJZCc/s64/photo.jpg",
      "userId": "14347208552025545330"
     },
     "user_tz": -480
    },
    "id": "3_B02j5zOCQp",
    "outputId": "2fb65f34-3c03-4597-8bf6-1dc4caa690ba"
   },
   "outputs": [
    {
     "data": {
      "text/plain": [
       "1"
      ]
     },
     "execution_count": 28,
     "metadata": {},
     "output_type": "execute_result"
    }
   ],
   "source": [
    "it = iter([1, 2, 3])\n",
    "next(it)\n",
    "#next(it)"
   ]
  },
  {
   "cell_type": "markdown",
   "metadata": {
    "colab_type": "text",
    "id": "Mxny_XocDhHP"
   },
   "source": [
    "## 9.7 生成器\n",
    "\n",
    "`yield`返回一个**生成器**\n",
    "  \n",
    "  可以使代码很优雅但完全可以不使用。"
   ]
  },
  {
   "cell_type": "code",
   "execution_count": 44,
   "metadata": {
    "colab": {
     "base_uri": "https://localhost:8080/",
     "height": 125
    },
    "colab_type": "code",
    "collapsed": true,
    "executionInfo": {
     "elapsed": 767,
     "status": "ok",
     "timestamp": 1542619106426,
     "user": {
      "displayName": "去云",
      "photoUrl": "https://lh6.googleusercontent.com/-G5HGeFH-Jl4/AAAAAAAAAAI/AAAAAAAAyB8/qNqJG2dJZCc/s64/photo.jpg",
      "userId": "14347208552025545330"
     },
     "user_tz": -480
    },
    "id": "fYRHvL2cPBKZ",
    "outputId": "77fcc686-5172-4aa7-fcc4-a5487505a487"
   },
   "outputs": [
    {
     "name": "stdout",
     "output_type": "stream",
     "text": [
      "1\n",
      "2\n",
      "3\n",
      "4\n",
      "5\n",
      "2\n"
     ]
    },
    {
     "ename": "TypeError",
     "evalue": "'int' object is not iterable",
     "output_type": "error",
     "traceback": [
      "\u001b[0;31m---------------------------------------------------------------------------\u001b[0m",
      "\u001b[0;31mTypeError\u001b[0m                                 Traceback (most recent call last)",
      "\u001b[0;32m<ipython-input-44-72471d297c94>\u001b[0m in \u001b[0;36m<module>\u001b[0;34m()\u001b[0m\n\u001b[1;32m      6\u001b[0m       \u001b[0;31m#yield element #包含yield语句的函数都被称为生成器\u001b[0m\u001b[0;34m\u001b[0m\u001b[0;34m\u001b[0m\u001b[0m\n\u001b[1;32m      7\u001b[0m       \u001b[0mprint\u001b[0m \u001b[0;34m(\u001b[0m\u001b[0melement\u001b[0m\u001b[0;34m)\u001b[0m\u001b[0;34m\u001b[0m\u001b[0m\n\u001b[0;32m----> 8\u001b[0;31m \u001b[0mflatten\u001b[0m\u001b[0;34m(\u001b[0m\u001b[0mnested\u001b[0m\u001b[0;34m)\u001b[0m\u001b[0;34m\u001b[0m\u001b[0m\n\u001b[0m\u001b[1;32m      9\u001b[0m \u001b[0;31m# for num in flatten(nested):\u001b[0m\u001b[0;34m\u001b[0m\u001b[0;34m\u001b[0m\u001b[0m\n\u001b[1;32m     10\u001b[0m \u001b[0;31m#   print(num)\u001b[0m\u001b[0;34m\u001b[0m\u001b[0;34m\u001b[0m\u001b[0m\n",
      "\u001b[0;32m<ipython-input-44-72471d297c94>\u001b[0m in \u001b[0;36mflatten\u001b[0;34m(nested)\u001b[0m\n\u001b[1;32m      3\u001b[0m \u001b[0;32mdef\u001b[0m \u001b[0mflatten\u001b[0m\u001b[0;34m(\u001b[0m\u001b[0mnested\u001b[0m\u001b[0;34m)\u001b[0m\u001b[0;34m:\u001b[0m\u001b[0;34m\u001b[0m\u001b[0m\n\u001b[1;32m      4\u001b[0m   \u001b[0;32mfor\u001b[0m \u001b[0msublist\u001b[0m \u001b[0;32min\u001b[0m \u001b[0mnested\u001b[0m\u001b[0;34m:\u001b[0m\u001b[0;34m\u001b[0m\u001b[0m\n\u001b[0;32m----> 5\u001b[0;31m     \u001b[0;32mfor\u001b[0m \u001b[0melement\u001b[0m \u001b[0;32min\u001b[0m \u001b[0msublist\u001b[0m\u001b[0;34m:\u001b[0m\u001b[0;34m\u001b[0m\u001b[0m\n\u001b[0m\u001b[1;32m      6\u001b[0m       \u001b[0;31m#yield element #包含yield语句的函数都被称为生成器\u001b[0m\u001b[0;34m\u001b[0m\u001b[0;34m\u001b[0m\u001b[0m\n\u001b[1;32m      7\u001b[0m       \u001b[0mprint\u001b[0m \u001b[0;34m(\u001b[0m\u001b[0melement\u001b[0m\u001b[0;34m)\u001b[0m\u001b[0;34m\u001b[0m\u001b[0m\n",
      "\u001b[0;31mTypeError\u001b[0m: 'int' object is not iterable"
     ]
    }
   ],
   "source": [
    "nested = [[1, 2], [3, 4], [5], [2] ] \n",
    "#展开嵌套列表\n",
    "def flatten(nested):  \n",
    "  for sublist in nested:  \n",
    "    for element in sublist:\n",
    "      yield element #包含yield语句的函数都被称为生成器\n",
    "      #print (element)\n",
    "for num in flatten(nested):\n",
    "  print(num)"
   ]
  },
  {
   "cell_type": "markdown",
   "metadata": {
    "colab_type": "text",
    "id": "jyVr-KRYQso_"
   },
   "source": [
    "生成器不使用return返回一个值，而是可以生成多个值，每次一个。每次使用yield生成一个值后，函数都将冻结，即在此停止执行，等待被重新唤醒。被重新唤醒后，函数将从停止的地方开始继续执行"
   ]
  },
  {
   "cell_type": "code",
   "execution_count": 45,
   "metadata": {
    "colab": {
     "base_uri": "https://localhost:8080/",
     "height": 35
    },
    "colab_type": "code",
    "collapsed": true,
    "executionInfo": {
     "elapsed": 885,
     "status": "ok",
     "timestamp": 1542619468942,
     "user": {
      "displayName": "去云",
      "photoUrl": "https://lh6.googleusercontent.com/-G5HGeFH-Jl4/AAAAAAAAAAI/AAAAAAAAyB8/qNqJG2dJZCc/s64/photo.jpg",
      "userId": "14347208552025545330"
     },
     "user_tz": -480
    },
    "id": "ROnqcbSDRIlP",
    "outputId": "c5929b42-9bd6-4d11-c054-ca61778d721d"
   },
   "outputs": [
    {
     "data": {
      "text/plain": [
       "[1, 2, 3, 4, 5, 6, 7, 8]"
      ]
     },
     "execution_count": 45,
     "metadata": {},
     "output_type": "execute_result"
    }
   ],
   "source": [
    "def flatten(nested):    \n",
    "  try:  \n",
    "    for sublist in nested:   \n",
    "      for element in flatten(sublist):    \n",
    "        yield element    \n",
    "  except TypeError:  \n",
    "    yield nested\n",
    "list(flatten([[[1], 2], 3, 4, [5, [6, 7]], 8])) "
   ]
  },
  {
   "cell_type": "code",
   "execution_count": 46,
   "metadata": {
    "colab": {
     "base_uri": "https://localhost:8080/",
     "height": 35
    },
    "colab_type": "code",
    "collapsed": true,
    "executionInfo": {
     "elapsed": 1084,
     "status": "ok",
     "timestamp": 1542619799710,
     "user": {
      "displayName": "去云",
      "photoUrl": "https://lh6.googleusercontent.com/-G5HGeFH-Jl4/AAAAAAAAAAI/AAAAAAAAyB8/qNqJG2dJZCc/s64/photo.jpg",
      "userId": "14347208552025545330"
     },
     "user_tz": -480
    },
    "id": "c40SQkqjTI-y",
    "outputId": "ce58b6f7-46f6-4381-ceee-332e3a5e3944"
   },
   "outputs": [
    {
     "data": {
      "text/plain": [
       "['foo', 'bar', 'baz']"
      ]
     },
     "execution_count": 46,
     "metadata": {
      "tags": []
     },
     "output_type": "execute_result"
    }
   ],
   "source": [
    "def flatten(nested):    \n",
    "  try: \n",
    "     # 不迭代类似于字符串的对象：  \n",
    "    try: nested + ''  \n",
    "    except TypeError: pass  \n",
    "    else: raise TypeError \n",
    "    for sublist in nested:   \n",
    "      for element in flatten(sublist):    \n",
    "        yield element    \n",
    "  except TypeError:  \n",
    "    yield nested\n",
    "    \n",
    "list(flatten(['foo', ['bar', ['baz']]])) "
   ]
  },
  {
   "cell_type": "markdown",
   "metadata": {
    "colab_type": "text",
    "id": "7SqK7NUGT7jI"
   },
   "source": [
    "`yield`意味着应生成一个值，而`return`意味着生成器应停止执行"
   ]
  },
  {
   "cell_type": "markdown",
   "metadata": {
    "colab_type": "text",
    "id": "JYb2eXsxUXcQ"
   },
   "source": [
    "生成器由两个单独的部分组成：生成器的函数和生成器的迭代器。生成器的函数是由def语句定义的，其中包含yield。生成器的迭代器是这个函数返回的结果。用不太准确的话说，这两个实体通常被视为一个，通称为生成器。"
   ]
  },
  {
   "cell_type": "code",
   "execution_count": 60,
   "metadata": {
    "colab": {
     "base_uri": "https://localhost:8080/",
     "height": 35
    },
    "colab_type": "code",
    "executionInfo": {
     "elapsed": 771,
     "status": "ok",
     "timestamp": 1542620100668,
     "user": {
      "displayName": "去云",
      "photoUrl": "https://lh6.googleusercontent.com/-G5HGeFH-Jl4/AAAAAAAAAAI/AAAAAAAAyB8/qNqJG2dJZCc/s64/photo.jpg",
      "userId": "14347208552025545330"
     },
     "user_tz": -480
    },
    "id": "wIM3NHXuUd_L",
    "outputId": "5fde4c0a-0f99-4a2d-8e06-6041db490942"
   },
   "outputs": [
    {
     "data": {
      "text/plain": [
       "<generator object simple_generator at 0x7f20043d4ca8>"
      ]
     },
     "execution_count": 60,
     "metadata": {},
     "output_type": "execute_result"
    }
   ],
   "source": [
    "def simple_generator():   \n",
    "  yield 1 \n",
    "    \n",
    "simple_generator\n",
    "simple_generator()"
   ]
  },
  {
   "cell_type": "code",
   "execution_count": 57,
   "metadata": {
    "colab": {
     "base_uri": "https://localhost:8080/",
     "height": 35
    },
    "colab_type": "code",
    "collapsed": true,
    "executionInfo": {
     "elapsed": 1713,
     "status": "ok",
     "timestamp": 1542620356991,
     "user": {
      "displayName": "去云",
      "photoUrl": "https://lh6.googleusercontent.com/-G5HGeFH-Jl4/AAAAAAAAAAI/AAAAAAAAyB8/qNqJG2dJZCc/s64/photo.jpg",
      "userId": "14347208552025545330"
     },
     "user_tz": -480
    },
    "id": "yzrS3xi0Vdx8",
    "outputId": "b160f751-3c92-4a8a-924c-b1f898fa55af"
   },
   "outputs": [
    {
     "name": "stdout",
     "output_type": "stream",
     "text": [
      "1\n",
      "1\n"
     ]
    }
   ],
   "source": [
    "def repeater(value):  \n",
    "  while True:  \n",
    "    new = (yield value)  \n",
    "    if new is not None: value = new \n",
    "r = repeater(42)\n",
    "next(r)\n",
    "r.send(\"Hello, world!\") \n",
    "r.send(1)\n",
    "print(next(r))\n",
    "print(next(r))"
   ]
  },
  {
   "cell_type": "markdown",
   "metadata": {
    "colab_type": "text",
    "id": "O5rdakx5V8JI"
   },
   "source": [
    "**外部世界**：外部世界可访问生成器的方法`send`，这个方法类似于`next`，但接受一个参数（要发送的“消息”，可以是任何对象）。 \n",
    "\n",
    "**生成器**：在挂起的生成器内部，yield可能用作表达式而不是语句。换而言之，当生成器重新运行时，yield返回一个值——通过`send`从外部世界发送的值。如果使用的是`next`，` yield`将返回None。 \n",
    " \n",
    "**方法throw**：用于在生成器中（yield表达式处）引发异常，调用时可提供一个异常类型、一 个可选值和一个traceback对象。 \n",
    "\n",
    "**方法close**：用于停止生成器，调用时无需提供任何参数。 "
   ]
  },
  {
   "cell_type": "markdown",
   "metadata": {
    "colab_type": "text",
    "id": "SqN8-Br3WXr1"
   },
   "source": [
    "## 9.8 八皇后问题"
   ]
  },
  {
   "cell_type": "code",
   "execution_count": 63,
   "metadata": {
    "colab": {
     "base_uri": "https://localhost:8080/",
     "height": 161
    },
    "colab_type": "code",
    "executionInfo": {
     "elapsed": 6377,
     "status": "ok",
     "timestamp": 1542623222703,
     "user": {
      "displayName": "去云",
      "photoUrl": "https://lh6.googleusercontent.com/-G5HGeFH-Jl4/AAAAAAAAAAI/AAAAAAAAyB8/qNqJG2dJZCc/s64/photo.jpg",
      "userId": "14347208552025545330"
     },
     "user_tz": -480
    },
    "id": "H6cdOHUfWUSp",
    "outputId": "04d0463b-95c1-4adb-e31e-659e63967395"
   },
   "outputs": [
    {
     "name": "stdout",
     "output_type": "stream",
     "text": [
      ". . . . . . . 👑 \n",
      ". . . 👑 . . . . \n",
      "👑 . . . . . . . \n",
      "👑 . . . . . . . \n",
      ". . . . . . 👑 . \n",
      ". . . 👑 . . . . \n",
      "👑 . . . . . . . \n",
      ". . . . . 👑 . . \n"
     ]
    }
   ],
   "source": [
    "import random\n",
    "def conflict(state, nextX):   \n",
    "  nextY = len(state)  \n",
    "  for i in range(nextY):  \n",
    "    if abs(state[i] - nextX) in (0, nextY - i):   \n",
    "      return True    \n",
    "    return False\n",
    "\n",
    "def prettyprint(solution):    \n",
    "  def line(pos, length=len(solution)):     \n",
    "    return '. ' * (pos) + '👑 ' + '. ' * (length-pos-1)    \n",
    "  for pos in solution:  \n",
    "    print(line(pos))\n",
    "  \n",
    "  \n",
    "def queens(num=8, state=()):     \n",
    "  for pos in range(num):  \n",
    "    if not conflict(state, pos):  \n",
    "      if len(state) == num-1:     \n",
    "        yield (pos,)  \n",
    "      else:  \n",
    "        for result in queens(num, state + (pos,)):   \n",
    "          yield (pos,) + result \n",
    "# for solution in queens(4): \n",
    "#   print(solution)\n",
    "\n",
    "prettyprint(random.choice(list(queens(8)))) "
   ]
  },
  {
   "cell_type": "markdown",
   "metadata": {
    "colab_type": "text",
    "id": "DvOnbOWif3ya"
   },
   "source": []
  }
 ],
 "metadata": {
  "colab": {
   "collapsed_sections": [],
   "name": "Python_Ch_9.ipynb",
   "provenance": [],
   "version": "0.3.2"
  },
  "kernelspec": {
   "display_name": "Python 3",
   "language": "python",
   "name": "python3"
  },
  "language_info": {
   "codemirror_mode": {
    "name": "ipython",
    "version": 3
   },
   "file_extension": ".py",
   "mimetype": "text/x-python",
   "name": "python",
   "nbconvert_exporter": "python",
   "pygments_lexer": "ipython3",
   "version": "3.6.6"
  }
 },
 "nbformat": 4,
 "nbformat_minor": 1
}
