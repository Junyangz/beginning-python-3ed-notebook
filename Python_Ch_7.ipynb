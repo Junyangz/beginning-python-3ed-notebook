{
 "cells": [
  {
   "cell_type": "markdown",
   "metadata": {},
   "source": [
    "# 🕮 7: 再谈抽象\n",
    "\n",
    "🖊本章将介绍如何创建对象，还将学习多态、封装、方法、属性、超类和继承。\n",
    "\n",
    "本章内容如下：\n",
    "\n",
    "+ 7.1 [对象魔法](#7.1-对象魔法)\n",
    "+ 7.2 [类](#7.2-类)\n",
    "+ 7.3 [关于面向对象设计的一些思考](#7.3-关于面向对象设计的一些思考)"
   ]
  },
  {
   "cell_type": "markdown",
   "metadata": {},
   "source": [
    "### 7.1 对象魔法\n",
    "\n",
    "+ 在面向对象编程中，“对象”大致意味着一系列数据（属性）以及一套访问和操作这些数据的方法\n",
    "+ **多态**：可对不同类型的对象执行相同的操作\n",
    "+ **封装**：对外部隐藏有关对象工作原理的细节\n",
    "+ **继承**：可基于通用类创建出专用类"
   ]
  },
  {
   "cell_type": "markdown",
   "metadata": {},
   "source": [
    "#### 7.1.1 多态（略）\n",
    "+ 在开发中，你往往无法确定其他人或其他时间，接受到的对象具体的类型是什么。这意味着不能把代码写成只能针对某种类型数据并进行处理的形式\n",
    "#### 7.1.2 多态和方法\n",
    "+ 与对象属性相关联的函数称为**方法**\n",
    "+ 只要对象存在方法即可调用，而无需判断对象的类型\n",
    "    - *这一点其实是类决定的，并不是存在一个可以处理所有类型的函数，而是每个类在实现时都加入了这个同名方法，使得看上去它们好像是同一个函数，仅此而已*"
   ]
  },
  {
   "cell_type": "code",
   "execution_count": 81,
   "metadata": {
    "collapsed": true
   },
   "outputs": [
    {
     "data": {
      "text/plain": [
       "2"
      ]
     },
     "execution_count": 81,
     "metadata": {},
     "output_type": "execute_result"
    }
   ],
   "source": [
    "from random import choice\n",
    "x = choice(['Hello, world!', [1, 2, 'e', 'e', 4]])\n",
    "x.count('e')"
   ]
  },
  {
   "cell_type": "markdown",
   "metadata": {},
   "source": [
    "+ 多态形式多样\n",
    "+ 要破坏多态，唯一的办法是使用诸如type、issubclass等函数显式地执行类型检查，但你应尽可能避免以这种方式破坏多态\n",
    "+ 鸭子类型"
   ]
  },
  {
   "cell_type": "code",
   "execution_count": 1,
   "metadata": {
    "collapsed": true
   },
   "outputs": [
    {
     "name": "stdout",
     "output_type": "stream",
     "text": [
      "The length of 'Fnord' is 5\n"
     ]
    }
   ],
   "source": [
    "def length_message(x):\n",
    "    print(\"The length of\", repr(x), \"is\", len(x))\n",
    "\n",
    "length_message('Fnord')"
   ]
  },
  {
   "cell_type": "markdown",
   "metadata": {},
   "source": [
    "#### 7.1.3 封装\n",
    "\n",
    "+ **封装**指的是向外部隐藏不必要的细节\n",
    "    - 多态让你无需知道对象所属的类（对象的类型）就能调用其方法，而封装让你无需知道对象的构造就能使用它\n",
    "+ 将变量作为**属性**“封装”在类对象内部\n",
    "    - *这里其实讨论是作用域的问题。属性可以认为是私有成员变量，每个新建一个对象都将申请新的内存，随对象存在/消失。而全局变量存储在内存的另一区域，这个区域里的数据，无论哪个对象都能正常访问，也不随对象而存在/消失*\n",
    "    - *不知道python中有没有类静态变量*\n",
    "+ 每个对象有其自身的**状态**，其状态由其属性（如名称）描述（*其实可能就是指属性值*）\n",
    "+ 对象将一系列函数（方法）组合起来，并赋予它们访问一些变量（属性）的**权限**，而属性可用于在两次函数调用之间存储值"
   ]
  },
  {
   "cell_type": "markdown",
   "metadata": {},
   "source": [
    "#### 7.1.4 继承（在之后的小节中有详细描述）"
   ]
  },
  {
   "cell_type": "markdown",
   "metadata": {},
   "source": [
    "### 7.2 类\n",
    "#### 7.2.1 类到底是什么\n",
    "+ 类：一种对象\n",
    "+ 每个对象都是某个类的**实例**（instance）\n",
    "+ python使用**超类-子类**来描述具有继承关系的两个类\n",
    "    - python中约定使用名词单数并将首字母大写来表示该类\n",
    "+ 要定义子类，需要定义其较超类新增的方法，同时还有对超类一些方法的修改\n",
    "+ 注意：在较旧的python版本中，类型和类之间泾渭分明：**内置对象**是基于**类型**的，而**自定义对象**是基于__类__的。程序员可以创建类但不能创建类型。但在python 3中，已经**不做区分**了。"
   ]
  },
  {
   "cell_type": "markdown",
   "metadata": {},
   "source": [
    "#### 7.2.2 创建自定义类\n",
    "+ 关于旧式类和新式类：这两者是有区别的。在python 3之前，默认创建的是旧式类，要创建新式类，应在脚本或模块开头放置赋值语句\\_\\_metaclass\\_\\_ = type\n",
    "+ python 3中已经没有旧式类存在了，相关的详细信息可以参阅第9章"
   ]
  },
  {
   "cell_type": "code",
   "execution_count": 3,
   "metadata": {
    "collapsed": true
   },
   "outputs": [
    {
     "name": "stdout",
     "output_type": "stream",
     "text": [
      "Hello, world! I'm Luke Skywalker.\n",
      "Hello, world! I'm Anakin Skywalker.\n"
     ]
    },
    {
     "data": {
      "text/plain": [
       "'Luke Skywalker'"
      ]
     },
     "execution_count": 3,
     "metadata": {},
     "output_type": "execute_result"
    }
   ],
   "source": [
    "class Person:\n",
    "    def set_name(self, name): \n",
    "        self.name = name\n",
    "    def get_name(self):\n",
    "        return self.name\n",
    "    def greet(self):\n",
    "        print(\"Hello, world! I'm {}.\".format(self.name))\n",
    "        \n",
    "foo = Person()\n",
    "bar = Person()\n",
    "foo.set_name('Luke Skywalker')\n",
    "bar.set_name('Anakin Skywalker')\n",
    "\n",
    "foo.greet()\n",
    "bar.greet()\n",
    "\n",
    "foo.name"
   ]
  },
  {
   "cell_type": "markdown",
   "metadata": {},
   "source": [
    "+ **`self`**: self是一个变量名称，它可以是**任何**合法的变量名称，但**必定是第一个参数**，对象在调用方法时，都会将自己作为第一个参数传入方法的参数列表中\n",
    "+ 默认属性是**可以**在外部通过.运算符访问的"
   ]
  },
  {
   "cell_type": "markdown",
   "metadata": {
    "collapsed": true
   },
   "source": [
    "#### 7.2.3 属性、函数和方法\n",
    "+ *在python中，所有的名称都可以认为是一个别名/指针，它存储的是地址值，这个地址存储了一段可变/不可变的内容。包括函数名也是一个函数指针，因此python中的函数也可以实现赋值操作，即将这个函数名关联到另一个函数上*\n",
    "+ 对象方法也可以关联到一般函数上，但一旦这么做，其作用域会保留为函数的作用域而非对象方法的（即不能自动将对象传为第一个参数）"
   ]
  },
  {
   "cell_type": "code",
   "execution_count": 2,
   "metadata": {
    "collapsed": true
   },
   "outputs": [
    {
     "name": "stdout",
     "output_type": "stream",
     "text": [
      "self\n",
      "no self\n",
      "self\n",
      "self\n"
     ]
    }
   ],
   "source": [
    "class Class:\n",
    "    def method(self):\n",
    "        print('self')\n",
    "\n",
    "def method():\n",
    "    print('no self')\n",
    "\n",
    "c = Class()\n",
    "c.method()\n",
    "c.method = method\n",
    "c.method()\n",
    "\n",
    "cc = Class()\n",
    "cc.method()\n",
    "m = cc.method\n",
    "m()"
   ]
  },
  {
   "cell_type": "markdown",
   "metadata": {},
   "source": [
    "#### 7.2.4 再谈隐藏\n",
    "\n",
    "+ **私有**属性：私有属性不能从对象外部访问，而只能通过**存取器**方法（如get_name和set_name）来访问\n",
    "    - 第9章将介绍**特性（property）**，这是一种功能强大的存取器替代品\n",
    "+ python并**没有**为私有属性提供直接的支持\n",
    "+ 一个非标准的方法：要让方法或属性成为私有的（不能从外部访问），只需让其名称以`__`打头即可\n",
    "    - 在类定义中，对所有以两个下划线打头的名称都进行转换，即在开头加上一个下划线和类名\n",
    "    - 因此，可以利用这种转换来访问“私有”方法和属性\n",
    "+ 也可以用`_`表明“私有”的意图，这样做不能防止其他人不访问这部分资源，但在通过包引用到其他程序的时候会产生一定作用：\n",
    "    `from <module> import *`会屏蔽掉以`_`开头的属性和方法"
   ]
  },
  {
   "cell_type": "code",
   "execution_count": 4,
   "metadata": {
    "collapsed": true
   },
   "outputs": [
    {
     "name": "stdout",
     "output_type": "stream",
     "text": [
      "The secret message is:\n",
      "Bet you can't see me ...\n",
      "Bet you can't see me ...\n"
     ]
    }
   ],
   "source": [
    "class Secretive:\n",
    "    def __inaccessible(self):\n",
    "        print(\"Bet you can't see me ...\")\n",
    "    def accessible(self):\n",
    "        print(\"The secret message is:\")\n",
    "        self.__inaccessible()\n",
    "\n",
    "s = Secretive()\n",
    "s.accessible()\n",
    "s._Secretive__inaccessible()"
   ]
  },
  {
   "cell_type": "markdown",
   "metadata": {},
   "source": [
    "#### 7.2.5 类的命名空间\n",
    "+ 在class语句中定义的代码都是在一个特殊的**命名空间（类的命名空间）**内执行的，而类的所有成员都可访问这个命名空间\n",
    "+ 因此可以实现**类似**于C++中的**静态**变量和方法"
   ]
  },
  {
   "cell_type": "code",
   "execution_count": 6,
   "metadata": {
    "collapsed": true
   },
   "outputs": [
    {
     "name": "stdout",
     "output_type": "stream",
     "text": [
      "Welcome!\n",
      "2\n",
      "2\n",
      "test 2\n",
      "[1, 'Two', 3] [1, 'Two', 3]\n"
     ]
    }
   ],
   "source": [
    "class MemberCounter:\n",
    "    members = 0\n",
    "    ll = [1, 2, 3]\n",
    "    print(\"Welcome!\")\n",
    "    def init(self):\n",
    "        MemberCounter.members += 1\n",
    "\n",
    "m1 = MemberCounter()\n",
    "m2 = MemberCounter()\n",
    "\n",
    "m1.init()\n",
    "m2.init()\n",
    "print(MemberCounter.members)\n",
    "print(m1.members)\n",
    "\n",
    "m1.members = 'test'\n",
    "m1.ll[1] = 'Two'\n",
    "print(m1.members, m2.members)\n",
    "print(m1.ll, m2.ll)"
   ]
  },
  {
   "cell_type": "markdown",
   "metadata": {},
   "source": [
    "#### 7.2.6 指定超类\n",
    "+ 在class语句中的类名后加上超类名，用括号括起来：\n",
    "    - `class <subClass>(<superClass>)`\n",
    "+ 在子类的定义中，可以重写超类方法"
   ]
  },
  {
   "cell_type": "code",
   "execution_count": 7,
   "metadata": {
    "collapsed": true
   },
   "outputs": [
    {
     "name": "stdout",
     "output_type": "stream",
     "text": [
      "[1, 2, 3]\n",
      "['Filter']\n"
     ]
    }
   ],
   "source": [
    "class Filter:\n",
    "    def init(self):\n",
    "        self.blocked = []\n",
    "    def filter(self, sequence):\n",
    "        return [x for x in sequence if x not in self.blocked]\n",
    "\n",
    "class SPAMFilter(Filter):\n",
    "    def init(self):\n",
    "        self.blocked = ['SPAM']\n",
    "\n",
    "        \n",
    "f = Filter()\n",
    "f.init()\n",
    "print(f.filter([1, 2, 3]))\n",
    "\n",
    "s = SPAMFilter()\n",
    "s.init()\n",
    "print(s.filter(('SPAM', 'Filter')))"
   ]
  },
  {
   "cell_type": "markdown",
   "metadata": {},
   "source": [
    "+ 请注意SPAMFilter类的定义中有两个要点:\n",
    "    - 以提供新定义的方式重写了Filter类中方法init的定义\n",
    "    - 直接从Filter类继承了方法filter的定义，因此无需重新编写其定义"
   ]
  },
  {
   "cell_type": "markdown",
   "metadata": {},
   "source": [
    "#### 7.2.7 深入探讨继承\n",
    "+ 要确定一个类是否是另一个类的子类，可使用内置方法`issubclass`\n",
    "+ 想知道一个类的基类，可访问其特殊属性`__bases__`\n",
    "+ 要确定对象是否是特定类的实例，可使用内置方法`isinstance`"
   ]
  },
  {
   "cell_type": "code",
   "execution_count": 8,
   "metadata": {
    "collapsed": true
   },
   "outputs": [
    {
     "name": "stdout",
     "output_type": "stream",
     "text": [
      "True\n",
      "(<class '__main__.Filter'>,)\n",
      "(<class 'object'>,)\n",
      "True\n",
      "True\n",
      "<class '__main__.SPAMFilter'>\n"
     ]
    },
    {
     "data": {
      "text/plain": [
       "False"
      ]
     },
     "execution_count": 8,
     "metadata": {},
     "output_type": "execute_result"
    }
   ],
   "source": [
    "print(issubclass(SPAMFilter, Filter))\n",
    "\n",
    "print(SPAMFilter.__bases__)\n",
    "print(Filter.__bases__)\n",
    "\n",
    "print(isinstance(s, Filter))\n",
    "print(isinstance(s, SPAMFilter))\n",
    "print(type(s))\n",
    "isinstance(s, str)"
   ]
  },
  {
   "cell_type": "markdown",
   "metadata": {},
   "source": [
    "+ 所有子类的对象，都是其超类的一个实例\n",
    "+ 使用isinstance通常不是良好的做法，依赖多态在任何情况下都是更好的选择，一个例外是使用抽象基类和模块abc时\n",
    "+ 对于新式类（无论是通过使用\\_\\_metaclass\\_\\_ = type还是通过从object继承创建的）的实例，还可使用`type(s)`来获悉其所属的类。对于所有旧式类的实例，type都只是返回instance。"
   ]
  },
  {
   "cell_type": "markdown",
   "metadata": {},
   "source": [
    "#### 7.2.8 多个超类\n",
    "+ **多重继承**是一个功能强大的工具\n",
    "+ 除非万不得已，否则应避免使用多重继承，因为在有些情况下，它可能带来意外的“并发症”\n",
    "    - 如果多个超类以不同的方式实现了同一个方法，必须在class语句中小心排列这些超类，因为位于**前面**的类的方法将覆盖位于后面的类的方法\n",
    "+ 多个超类的超类相同时，查找特定方法或属性时访问超类的顺序称为**方法解析顺序（MRO）**，它使用的算法非常复杂"
   ]
  },
  {
   "cell_type": "code",
   "execution_count": 10,
   "metadata": {
    "collapsed": true
   },
   "outputs": [
    {
     "name": "stdout",
     "output_type": "stream",
     "text": [
      "a\n",
      "b\n",
      "c\n",
      "test\n",
      "This is class B\n",
      "This is function A\n",
      "This is function B\n"
     ]
    }
   ],
   "source": [
    "class ClassA:\n",
    "    a = 'a'\n",
    "    def init(self):\n",
    "        print(\"This is class A\")\n",
    "    def foo_A(self):\n",
    "        print(\"This is function A\")\n",
    "\n",
    "class ClassB(ClassA):\n",
    "    b = 'b'\n",
    "    def init(self):\n",
    "        print(\"This is class B\")\n",
    "    def foo_B(self):\n",
    "        print(\"This is function B\")\n",
    "\n",
    "class Classtest(ClassA):\n",
    "    t = 'test'\n",
    "\n",
    "#class ClassC(ClassA, ClassB):\n",
    "class ClassC(Classtest, ClassB):\n",
    "    c = 'c'\n",
    "    pass\n",
    "\n",
    "c = ClassC()\n",
    "print(c.a)\n",
    "print(c.b)\n",
    "print(c.c)\n",
    "print(c.t)\n",
    "c.init()\n",
    "c.foo_A()\n",
    "c.foo_B()"
   ]
  },
  {
   "cell_type": "markdown",
   "metadata": {},
   "source": [
    "#### 7.2.9 接口和内省\n",
    "+ 在Python中，**不显式**地指定对象必须包含哪些方法才能用作参数\n",
    "    - 例如，你不会像在Java中那样显式编写接口，而是假定对象能够完成你要求它完成的任务。\n",
    "+ 可非常灵活地提出要求：不是直接调用方法并期待一切顺利，而是检查所需的方法是否存在\n",
    "    - 内置函数`hasattr()`和`getattr()`\n",
    "    - 可使用内置函数`setattr()`为**对象**设置属性\n",
    "+ 要查看**对象**中存储的所有值，可检查其`__dict__`属性\n",
    "+ 要确定对象是由什么组成的，可在模块`inspect`中查找相关方法。这个模块主要供高级用户创建对象浏览器（让用户能够以图形方式浏览Python对象的程序）以及其他需要这种功能的类似程序（详细参考10.2节）"
   ]
  },
  {
   "cell_type": "code",
   "execution_count": 12,
   "metadata": {
    "collapsed": true
   },
   "outputs": [
    {
     "name": "stdout",
     "output_type": "stream",
     "text": [
      "True\n",
      "False\n",
      "a\n",
      "None\n",
      "setted\n",
      "{'set': 'setted'}\n",
      "{}\n"
     ]
    }
   ],
   "source": [
    "print(hasattr(c, 'a'))\n",
    "print(hasattr(c, 's'))\n",
    "\n",
    "print(getattr(c, 'a', None))\n",
    "print(getattr(c, 's', None))\n",
    "\n",
    "setattr(c, 'set', 'setted')\n",
    "d = ClassC()\n",
    "#print(d.set)\n",
    "print(c.set)\n",
    "\n",
    "print(c.__dict__)\n",
    "print(d.__dict__)"
   ]
  },
  {
   "cell_type": "markdown",
   "metadata": {},
   "source": [
    "#### 7.2.10 抽象基类\n",
    "+ python引入模块abc提供了在**接口**问题上的官方解决方案\n",
    "+ 这个模块为所谓的抽象基类提供了支持\n",
    "+ 一般而言，抽象类是**不能（至少是不应该）**实例化的类，其职责是定义子类应实现的一组抽象方法"
   ]
  },
  {
   "cell_type": "code",
   "execution_count": 14,
   "metadata": {},
   "outputs": [],
   "source": [
    "from abc import ABC, abstractmethod\n",
    "\n",
    "class Talker(ABC):\n",
    "    @abstractmethod\n",
    "    def talk(self):\n",
    "        pass"
   ]
  },
  {
   "cell_type": "markdown",
   "metadata": {},
   "source": [
    "+ 形如`@this`的东西被称为**装饰器**，其用法在第9章中详细介绍。使用装饰器标识的方法是**抽象方法**，这是一个在子类中必须实现的方法\n",
    "+ 另外，抽象类最重要的特征是**不能被实例化**，其中的抽象方法必须经过子类实现后才能通过子类实例化"
   ]
  },
  {
   "cell_type": "code",
   "execution_count": 16,
   "metadata": {
    "collapsed": true
   },
   "outputs": [
    {
     "data": {
      "text/plain": [
       "<__main__.Knigget at 0x7f29b09d66d8>"
      ]
     },
     "execution_count": 16,
     "metadata": {},
     "output_type": "execute_result"
    }
   ],
   "source": [
    "#Talker()\n",
    "\n",
    "class Knigget(Talker):\n",
    "    #pass\n",
    "    def talk(self):\n",
    "        pass\n",
    "\n",
    "Knigget()"
   ]
  },
  {
   "cell_type": "markdown",
   "metadata": {},
   "source": [
    "+ 可通过**注册**的方法将一个类注册为抽象类的子类：`<superclass>.register(<subclass>)`"
   ]
  },
  {
   "cell_type": "code",
   "execution_count": 17,
   "metadata": {
    "collapsed": true
   },
   "outputs": [
    {
     "data": {
      "text/plain": [
       "True"
      ]
     },
     "execution_count": 17,
     "metadata": {},
     "output_type": "execute_result"
    }
   ],
   "source": [
    "class Herring:\n",
    "    def talk():\n",
    "        print(\"Blub.\")\n",
    "\n",
    "Talker.register(Herring)\n",
    "h = Herring()\n",
    "isinstance(h, Talker)"
   ]
  },
  {
   "cell_type": "markdown",
   "metadata": {},
   "source": [
    "+ 这种做法的缺陷是，用于注册的子类不一定实现了抽象类中的抽象方法"
   ]
  },
  {
   "cell_type": "code",
   "execution_count": 18,
   "metadata": {
    "collapsed": true
   },
   "outputs": [
    {
     "name": "stdout",
     "output_type": "stream",
     "text": [
      "True\n"
     ]
    },
    {
     "ename": "AttributeError",
     "evalue": "'Clam' object has no attribute 'talk'",
     "output_type": "error",
     "traceback": [
      "\u001b[0;31m---------------------------------------------------------------------------\u001b[0m",
      "\u001b[0;31mAttributeError\u001b[0m                            Traceback (most recent call last)",
      "\u001b[0;32m<ipython-input-18-2e14127c691a>\u001b[0m in \u001b[0;36m<module>\u001b[0;34m()\u001b[0m\n\u001b[1;32m      6\u001b[0m \u001b[0mprint\u001b[0m\u001b[0;34m(\u001b[0m\u001b[0misinstance\u001b[0m\u001b[0;34m(\u001b[0m\u001b[0mclam\u001b[0m\u001b[0;34m,\u001b[0m \u001b[0mTalker\u001b[0m\u001b[0;34m)\u001b[0m\u001b[0;34m)\u001b[0m\u001b[0;34m\u001b[0m\u001b[0m\n\u001b[1;32m      7\u001b[0m \u001b[0;34m\u001b[0m\u001b[0m\n\u001b[0;32m----> 8\u001b[0;31m \u001b[0mclam\u001b[0m\u001b[0;34m.\u001b[0m\u001b[0mtalk\u001b[0m\u001b[0;34m(\u001b[0m\u001b[0;34m)\u001b[0m\u001b[0;34m\u001b[0m\u001b[0m\n\u001b[0m",
      "\u001b[0;31mAttributeError\u001b[0m: 'Clam' object has no attribute 'talk'"
     ]
    }
   ],
   "source": [
    "class Clam:\n",
    "    pass\n",
    "\n",
    "Talker.register(Clam)\n",
    "clam = Clam()\n",
    "print(isinstance(clam, Talker))\n",
    "\n",
    "clam.talk()"
   ]
  },
  {
   "cell_type": "markdown",
   "metadata": {},
   "source": [
    "+ 应将将`isinstance()`返回True视为一种意图表达，本着鸭子类型的精神，我们相信它能承担Talker的职责，但可悲的是它失败了。"
   ]
  },
  {
   "cell_type": "markdown",
   "metadata": {},
   "source": [
    "### 7.3 关于面向对象设计的一些思考\n",
    "\n",
    "+ 将相关的东西放在一起。如果一个函数操作一个全局变量，最好将它们作为一个类的属性和方法。\n",
    "+ 不要让对象之间过于亲密。方法应只关心其所属实例的属性，对于其他实例的状态，让它们自己去管理就好了。\n",
    "+ 慎用继承，尤其是多重继承。继承有时很有用，但在有些情况下可能带来不必要的复杂性。要正确地使用多重继承很难，要排除其中的bug更难。\n",
    "+ 保持简单。让方法短小紧凑。一般而言，应确保大多数方法都能在30秒内读完并理解。对于其余的方法，尽可能将其篇幅控制在一页或一屏内。\n",
    "\n",
    "确定需要哪些类以及这些类应包含哪些方法时，尝试像下面这样做：\n",
    "+ 将有关问题的描述（程序需要做什么）记录下来，并给所有的名词、动词和形容词加上标记。\n",
    "+ 在名词中找出可能的类。\n",
    "+ 在动词中找出可能的方法。\n",
    "+ 在形容词中找出可能的属性。\n",
    "+ 将找出的方法和属性分配给各个类。\n",
    "\n",
    "有了面向对象模型的草图后，还需考虑类和对象之间的关系（如继承或协作）以及它们的职责。为进一步改进模型，可像下面这样做：\n",
    "+ 记录（或设想）一系列用例，即使用程序的场景，并尽力确保这些用例涵盖了所有的功能。\n",
    "+ 透彻而仔细地考虑每个场景，确保模型包含了所需的一切。如果有遗漏，就加上；如果有不太对的地方，就修改。不断地重复这个过程，直到对模型满意为止。"
   ]
  },
  {
   "cell_type": "markdown",
   "metadata": {},
   "source": [
    "# 🞂 つづく"
   ]
  }
 ],
 "metadata": {
  "kernelspec": {
   "display_name": "Python 3",
   "language": "python",
   "name": "python3"
  },
  "language_info": {
   "codemirror_mode": {
    "name": "ipython",
    "version": 3
   },
   "file_extension": ".py",
   "mimetype": "text/x-python",
   "name": "python",
   "nbconvert_exporter": "python",
   "pygments_lexer": "ipython3",
   "version": "3.6.6"
  }
 },
 "nbformat": 4,
 "nbformat_minor": 2
}
