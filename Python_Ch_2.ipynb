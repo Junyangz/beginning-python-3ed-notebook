{
 "cells": [
  {
   "cell_type": "markdown",
   "metadata": {},
   "source": [
    "# 🕮 2: 列表与元组"
   ]
  },
  {
   "cell_type": "markdown",
   "metadata": {},
   "source": [
    "🖊 本章将引入一个新的概念：`数据结构`。在Python中，最基本的数据结构为`序列（sequence）`，`列表`与`元组`是最常见的序列结构。\n",
    "\n",
    "本章的内容如下：\n",
    "+ 2.1 [概述](#2.1-概述)\n",
    "+ 2.2 [通用的序列操作](#2.2-通用的序列操作)\n",
    "+ 2.3 [列表：Python的主力](#2.3-列表：Python的主力)\n",
    "+ 2.4 [元组：不可修改的序列](#2.4-元组：不可修改的序列)"
   ]
  },
  {
   "cell_type": "markdown",
   "metadata": {},
   "source": [
    "### 2.1 概述"
   ]
  },
  {
   "cell_type": "markdown",
   "metadata": {},
   "source": [
    "+ 列表和元组的主要不同在于，列表是可以修改的，而元组不可以\n",
    "+ 几乎在所有情况下都可使用列表来代替元组。一种例外情况是将元组用作字典键，因为字典键是不允许修改的。这将在第4章讨论"
   ]
  },
  {
   "cell_type": "code",
   "execution_count": 1,
   "metadata": {
    "collapsed": true
   },
   "outputs": [
    {
     "name": "stdout",
     "output_type": "stream",
     "text": [
      "[['Edward Gumby', 42], ['John Smith', 50]]\n"
     ]
    }
   ],
   "source": [
    "#list\n",
    "usr_1 = ['Edward Gumby', 42]\n",
    "usr_2 = ['John Smith', 50]\n",
    "db = [usr_1, usr_2]\n",
    "print(db)"
   ]
  },
  {
   "cell_type": "markdown",
   "metadata": {},
   "source": [
    "+ Python支持一种数据结构的基本概念，名为`容器（container)`\n",
    "+ 容器基本上就是__可包含其他对象的对象__\n",
    "+ 3种主要的容器是__`序列`__（如列表和元组），__`映射`__（如字典）和`集合（set）`\n",
    "+ 映射将在第4章详细讨论，集合将在第10章讨论"
   ]
  },
  {
   "cell_type": "markdown",
   "metadata": {},
   "source": [
    "### 2.2 通用的序列操作"
   ]
  },
  {
   "cell_type": "markdown",
   "metadata": {},
   "source": [
    "+ 有几种操作适用于所有序列，包括**`索引`**、**`切片`**、**`相加`**、**`相乘`**和**`成员资格检查`**\n",
    "+ 另外，Python还提供了一些**内置函数**，可用于确定序列的**`长度`**以及找出序列中**`最大`**和**`最小`**的元素\n",
    "+ 有一个重要的操作这里不会介绍，它就是**`迭代（iteration）`**, 它意味着对其每个元素都执行特定的操作，迭代将在5.5节中详细介绍。"
   ]
  },
  {
   "cell_type": "markdown",
   "metadata": {},
   "source": [
    "#### 2.2.1 索引\n",
    "+ 从`0`开始递增\n",
    "+ `字符串`也属于序列，因此也可以用索引的方式访问\n",
    "+ 当使用**负数索引**时，Python将从右（即从最后一个元素）开始往左数，因此`-1`是**最后一个元素**的位置\n",
    "+ **索引方式适用于所有的序列**\n",
    "+ 对于字符串字面量（以及其他的序列字面量），可直接对其执行索引操作，无需先将其赋给变量\n",
    "+ 如果**函数调用返回**一个序列，可直接对其执行索引操作"
   ]
  },
  {
   "cell_type": "code",
   "execution_count": 2,
   "metadata": {
    "collapsed": true
   },
   "outputs": [
    {
     "name": "stdout",
     "output_type": "stream",
     "text": [
      "H\n",
      "--------\n",
      "!\n",
      "--------\n",
      "Year:2018\n",
      "forth = 8\n"
     ]
    }
   ],
   "source": [
    "str = 'Hello, world!'\n",
    "print(str[0])\n",
    "print('--------')\n",
    "print('Hello, world!'[-1])\n",
    "print('--------')\n",
    "forth = input(\"Year:\")[3]\n",
    "print('forth = ' + forth)"
   ]
  },
  {
   "cell_type": "markdown",
   "metadata": {},
   "source": [
    "+ [代码清单2-1](../edit/2-1.py)"
   ]
  },
  {
   "cell_type": "markdown",
   "metadata": {},
   "source": [
    "#### 2.2.2 切片\n",
    "+ 使用__`切片（slicing）`__来访问**特定范围**内的元素\n",
    "    - 🌟语法：__`seq[<start> : <end> : <step>]`__\n",
    "+ 方法一：使用__2__个索引，并使用**`:`**分隔：`seq[a : b]`\n",
    "    - 注意，使用该方法时，__包括起始索引__，**不包括结束索引**\n",
    "+ 方法二：使用__1__个索引，用于标识 **起始** 或 **结束** 位置，搭配**`:`**完成切片：`seq[a : ]`或`seq[: b]`\n",
    "    - 注意，使用该方法时，当索引为__具体数值__时，**包括起始索引**，__不包括结束索引__\n",
    "+ 方法三：**不使用**索引，仅使用__`:`__可用于复制整个序列：`seq[:]`\n",
    "+ 当**`步长`**为**负数**时，切片会**从右至左提取内容**"
   ]
  },
  {
   "cell_type": "code",
   "execution_count": 4,
   "metadata": {
    "collapsed": true
   },
   "outputs": [
    {
     "name": "stdout",
     "output_type": "stream",
     "text": [
      "method 1 >>>>>\n",
      "Python web site\n",
      "method 2 >>>>>\n",
      "<a href=\"http://www.python.org\">\n",
      "</a>\n",
      "method 3 >>>>>\n",
      "[1, 3, 5]\n",
      "[5, 3, 1]\n",
      "[5]\n"
     ]
    }
   ],
   "source": [
    "tag = '<a href=\"http://www.python.org\">Python web site</a>'\n",
    "print(\"method 1 >>>>>\")\n",
    "print(tag[32 : -4])\n",
    "print(\"method 2 >>>>>\")\n",
    "print(tag[: 32])\n",
    "print(tag[-4 :])\n",
    "print(\"method 3 >>>>>\")\n",
    "arr = [1, 2, 3, 4, 5]\n",
    "print(arr[::2])\n",
    "print(arr[::-2])\n",
    "print(arr[:3:-2])"
   ]
  },
  {
   "cell_type": "markdown",
   "metadata": {},
   "source": [
    "#### 2.2.3 序列相加\n",
    "+ 可使用**`+`**来拼接序列\n",
    "+ 一般而言，不能拼接不同类型的序列"
   ]
  },
  {
   "cell_type": "code",
   "execution_count": 6,
   "metadata": {
    "collapsed": true
   },
   "outputs": [
    {
     "name": "stdout",
     "output_type": "stream",
     "text": [
      "a + b = \n",
      "[1, '2', 3, 4, 5, 6, 7]\n"
     ]
    }
   ],
   "source": [
    "a = [1, \"2\", 3]\n",
    "b = [4, 5, 6, 7]\n",
    "c = \"Hello, world!\"\n",
    "print(\"a + b = \")\n",
    "print(a + b)\n",
    "#print(\"b + c = \")\n",
    "#print(b + c)"
   ]
  },
  {
   "cell_type": "markdown",
   "metadata": {},
   "source": [
    "#### 2.2.4 乘法\n",
    "+ 将**序列**与**数**`x`相乘时，将**重复**这个序列`x`次来创建一个新序列\n",
    "+ 空列表：`[]`\n",
    "+ 元素值为空：`None`"
   ]
  },
  {
   "cell_type": "code",
   "execution_count": 8,
   "metadata": {
    "collapsed": true
   },
   "outputs": [
    {
     "name": "stdout",
     "output_type": "stream",
     "text": [
      "PythonPythonPythonPythonPython\n",
      "[7, 7, 7, 7, 7, 7, 7, 7, 7, 7]\n",
      "[None, None, None, None, None, None, None, None, None, None]\n",
      "[1, 2, 3, 1, 2, 3, 1, 2, 3, 1, 2, 3, 1, 2, 3, 1, 2, 3, 1, 2, 3, 1, 2, 3, 1, 2, 3, 1, 2, 3]\n",
      "[[1, 2, 3], [1, 2, 3], [1, 2, 3], [1, 2, 3], [1, 2, 3], [1, 2, 3], [1, 2, 3], [1, 2, 3], [1, 2, 3], [1, 2, 3]]\n"
     ]
    }
   ],
   "source": [
    "print('Python' * 5)\n",
    "print([7] * 10)\n",
    "print([None] * 10)\n",
    "print([1, 2, 3] * 10)\n",
    "print([[1, 2, 3]] * 10)"
   ]
  },
  {
   "cell_type": "markdown",
   "metadata": {},
   "source": [
    "+ [代码清单2-3](../edit/2-3.py)"
   ]
  },
  {
   "cell_type": "markdown",
   "metadata": {},
   "source": [
    "#### 2.2.5 成员资格\n",
    "+ 要检查特定的值是否包含在序列中，可使用运算符**`in`**，满足返回`true`，不满足返回`false`\n",
    "+ **布尔运算符**-**布尔值**\n",
    "+ 布尔表达式将在5.4节详细介绍"
   ]
  },
  {
   "cell_type": "code",
   "execution_count": 11,
   "metadata": {
    "collapsed": true
   },
   "outputs": [
    {
     "name": "stdout",
     "output_type": "stream",
     "text": [
      "Please input your name:Alice\n",
      "True\n",
      "Please input sub_str:th\n",
      "True\n"
     ]
    }
   ],
   "source": [
    "usr_list = ['Alice', 'Bob', 'Eve']\n",
    "s = 'Python'\n",
    "print(input(\"Please input your name:\") in usr_list)\n",
    "print(input(\"Please input sub_str:\") in s)"
   ]
  },
  {
   "cell_type": "markdown",
   "metadata": {},
   "source": [
    "+ [代码清单2-4](../edit/2-4.py)"
   ]
  },
  {
   "cell_type": "markdown",
   "metadata": {},
   "source": [
    "+ 长度：**`len()`**\n",
    "+ 最大值：**`max()`**\n",
    "+ 最小值：**`min()`**\n",
    "+ 对象比较将在5.4.6节的“比较运算符”部分详细介绍"
   ]
  },
  {
   "cell_type": "code",
   "execution_count": 12,
   "metadata": {
    "collapsed": true
   },
   "outputs": [
    {
     "name": "stdout",
     "output_type": "stream",
     "text": [
      "2\n"
     ]
    },
    {
     "ename": "TypeError",
     "evalue": "'>' not supported between instances of 'int' and 'str'",
     "output_type": "error",
     "traceback": [
      "\u001b[1;31m---------------------------------------------------------------------------\u001b[0m",
      "\u001b[1;31mTypeError\u001b[0m                                 Traceback (most recent call last)",
      "\u001b[1;32m<ipython-input-12-d024093ac195>\u001b[0m in \u001b[0;36m<module>\u001b[1;34m()\u001b[0m\n\u001b[0;32m      2\u001b[0m \u001b[0marr\u001b[0m \u001b[1;33m=\u001b[0m \u001b[1;33m[\u001b[0m\u001b[1;34m'Alice'\u001b[0m\u001b[1;33m,\u001b[0m \u001b[1;36m13\u001b[0m\u001b[1;33m]\u001b[0m\u001b[1;33m\u001b[0m\u001b[0m\n\u001b[0;32m      3\u001b[0m \u001b[0mprint\u001b[0m\u001b[1;33m(\u001b[0m\u001b[0mlen\u001b[0m\u001b[1;33m(\u001b[0m\u001b[0marr\u001b[0m\u001b[1;33m)\u001b[0m\u001b[1;33m)\u001b[0m\u001b[1;33m\u001b[0m\u001b[0m\n\u001b[1;32m----> 4\u001b[1;33m \u001b[0mprint\u001b[0m\u001b[1;33m(\u001b[0m\u001b[0mmax\u001b[0m\u001b[1;33m(\u001b[0m\u001b[0marr\u001b[0m\u001b[1;33m)\u001b[0m\u001b[1;33m)\u001b[0m\u001b[1;33m\u001b[0m\u001b[0m\n\u001b[0m\u001b[0;32m      5\u001b[0m \u001b[0mprint\u001b[0m\u001b[1;33m(\u001b[0m\u001b[0mmin\u001b[0m\u001b[1;33m(\u001b[0m\u001b[0marr\u001b[0m\u001b[1;33m)\u001b[0m\u001b[1;33m)\u001b[0m\u001b[1;33m\u001b[0m\u001b[0m\n",
      "\u001b[1;31mTypeError\u001b[0m: '>' not supported between instances of 'int' and 'str'"
     ]
    }
   ],
   "source": [
    "arr = ['Alice', 'Bob', 'Eve']\n",
    "#arr = ['Alice', 13]\n",
    "print(len(arr))\n",
    "print(max(arr))\n",
    "print(min(arr))"
   ]
  },
  {
   "cell_type": "markdown",
   "metadata": {},
   "source": [
    "### 2.3 列表：Python的主力"
   ]
  },
  {
   "cell_type": "markdown",
   "metadata": {},
   "source": [
    "#### 2.3.1函数list\n",
    "+ `字符串` -> `列表`\n",
    "    - **`list(<string>)`**\n",
    "+ `字符串列表` -> `字符串`\n",
    "    - **`''.join(<list>)`**"
   ]
  },
  {
   "cell_type": "code",
   "execution_count": 13,
   "metadata": {
    "collapsed": true
   },
   "outputs": [
    {
     "name": "stdout",
     "output_type": "stream",
     "text": [
      "['A', 'l', 'i', 'c', 'e']\n",
      "Alice\n"
     ]
    }
   ],
   "source": [
    "print(list(\"Alice\"))\n",
    "print(''.join(list(\"Alice\")))"
   ]
  },
  {
   "cell_type": "markdown",
   "metadata": {},
   "source": [
    "#### 2.3.2 基本的列表操作\n",
    "本节将介绍一些修改列表的方式\n",
    "+ 修改列表：给元素赋值\n",
    "    - 不能给不存在的元素赋值\n",
    "+ 删除元素\n",
    "    - 🌟语法：**`del lst[<index>]`**\n",
    "+ 给切片赋值\n",
    "    - 通过使用切片赋值，可将切片替换为长度与其不同的序列\n",
    "    - 使用切片赋值还可在不替换原有元素的情况下插入新元素"
   ]
  },
  {
   "cell_type": "code",
   "execution_count": 14,
   "metadata": {
    "collapsed": true
   },
   "outputs": [
    {
     "name": "stdout",
     "output_type": "stream",
     "text": [
      "Origin >>>>>\n",
      "[0, 4, 5, 7]\n",
      "Modify >>>>>\n",
      "[1, 4, 5, 7]\n",
      "Delete >>>>>\n",
      "[1, 4, 5]\n",
      "CutEval >>>>\n",
      "[1, 2, 3, 4, 5]\n"
     ]
    }
   ],
   "source": [
    "l = [0, 4, 5, 7]\n",
    "print(\"Origin >>>>>\")\n",
    "print(l)\n",
    "print(\"Modify >>>>>\")\n",
    "l[0] = 1\n",
    "print(l)\n",
    "print(\"Delete >>>>>\")\n",
    "del l[-1]\n",
    "print(l)\n",
    "print(\"CutEval >>>>\")\n",
    "l[1: 1] = [2, 3]\n",
    "print(l)"
   ]
  },
  {
   "cell_type": "markdown",
   "metadata": {},
   "source": [
    "#### 2.3.3 列表方法\n",
    "方法是与对象（列表、数、字符串等）联系紧密的函数。通常，像下面这样调用方法：\n",
    "\n",
    "`object.method(arguments)`"
   ]
  },
  {
   "cell_type": "markdown",
   "metadata": {},
   "source": [
    "1. **append**\n",
    "\n",
    "方法`append`用于将**一个**对象附加到列表末尾"
   ]
  },
  {
   "cell_type": "code",
   "execution_count": 15,
   "metadata": {
    "collapsed": true
   },
   "outputs": [
    {
     "name": "stdout",
     "output_type": "stream",
     "text": [
      "[1, 2, 3, 4, [5, 6]]\n"
     ]
    }
   ],
   "source": [
    "lst = [1, 2, 3]\n",
    "lst.append(4)\n",
    "lst.append([5, 6])\n",
    "print(lst)"
   ]
  },
  {
   "cell_type": "markdown",
   "metadata": {},
   "source": [
    "2. **clear**\n",
    "\n",
    "方法`clear`就地清空列表的内容"
   ]
  },
  {
   "cell_type": "code",
   "execution_count": 16,
   "metadata": {
    "collapsed": true
   },
   "outputs": [
    {
     "name": "stdout",
     "output_type": "stream",
     "text": [
      "[]\n"
     ]
    }
   ],
   "source": [
    "lst = [1, 2, 3]\n",
    "lst.clear()\n",
    "print(lst)"
   ]
  },
  {
   "cell_type": "markdown",
   "metadata": {},
   "source": [
    "3. **copy**\n",
    "\n",
    "    + 方法`copy`复制列表。`copy`方法是**深拷贝**\n",
    "    + 常规复制只是将另一个名称关联到列表,即**浅拷贝**\n",
    "    + 要让a和b指向不同的列表，就必须将b关联到a的副本*（使用`copy`方法）*"
   ]
  },
  {
   "cell_type": "code",
   "execution_count": 17,
   "metadata": {
    "collapsed": true
   },
   "outputs": [
    {
     "name": "stdout",
     "output_type": "stream",
     "text": [
      "a:\n",
      "[1, 2, 3, 'b']\n",
      "b:\n",
      "[1, 2, 3, 'b']\n",
      "c:\n",
      "[1, 2, 3, 'c']\n"
     ]
    }
   ],
   "source": [
    "a = [1, 2, 3]\n",
    "b = a\n",
    "c = a.copy()\n",
    "b.append('b')\n",
    "c.append('c')\n",
    "print('a:')\n",
    "print(a)\n",
    "print('b:')\n",
    "print(b)\n",
    "print('c:')\n",
    "print(c)"
   ]
  },
  {
   "cell_type": "markdown",
   "metadata": {},
   "source": [
    "4. **count**\n",
    "\n",
    "方法`count`计算指定的元素在列表中出现了多少次"
   ]
  },
  {
   "cell_type": "code",
   "execution_count": 20,
   "metadata": {
    "collapsed": true
   },
   "outputs": [
    {
     "name": "stdout",
     "output_type": "stream",
     "text": [
      "2\n",
      "1\n"
     ]
    }
   ],
   "source": [
    "x = [[1, 2], 1, 1, [2, 1, [1, 2]]]\n",
    "print(x.count(1))\n",
    "print(x.count([1, 2]))"
   ]
  },
  {
   "cell_type": "markdown",
   "metadata": {},
   "source": [
    "5. **extend**\n",
    "\n",
    "方法`extend`让你能够同时将多个值附加到列表末尾，即支持用一个列表来扩展另一个列表"
   ]
  },
  {
   "cell_type": "code",
   "execution_count": 21,
   "metadata": {
    "collapsed": true
   },
   "outputs": [
    {
     "name": "stdout",
     "output_type": "stream",
     "text": [
      "[[1, 2], [3, 4, 5], [6, 7], [8, 9], 'y']\n"
     ]
    }
   ],
   "source": [
    "x = [[1, 2], [3, 4, 5]]\n",
    "y = [[6, 7], [8, 9], 'y']\n",
    "x.extend(y)\n",
    "print(x)"
   ]
  },
  {
   "cell_type": "markdown",
   "metadata": {},
   "source": [
    "+ 注意：在使用`+`进行列表拼接时，需要分别创建两个进行拼接的列表的副本，因此相比于`a = a + b`，`a.extend(b)`的效率更高"
   ]
  },
  {
   "cell_type": "markdown",
   "metadata": {},
   "source": [
    "6. **index**\n",
    "\n",
    "方法`index`在列表中查找指定值第一次出现的索引"
   ]
  },
  {
   "cell_type": "code",
   "execution_count": 24,
   "metadata": {
    "collapsed": true
   },
   "outputs": [
    {
     "name": "stdout",
     "output_type": "stream",
     "text": [
      "1\n"
     ]
    }
   ],
   "source": [
    "lst = [\"we \", \"are! \", \"we \", \"are! \"]\n",
    "print(lst.index('are! '))\n",
    "#print(lst.index('We'))"
   ]
  },
  {
   "cell_type": "markdown",
   "metadata": {},
   "source": [
    "7. **insert**\n",
    "\n",
    "方法`insert`用于将**一个**对象插入列表"
   ]
  },
  {
   "cell_type": "code",
   "execution_count": 25,
   "metadata": {
    "collapsed": true
   },
   "outputs": [
    {
     "name": "stdout",
     "output_type": "stream",
     "text": [
      "[1, 2, 3, 4, 5, 6, 7, 'eight', 9]\n"
     ]
    }
   ],
   "source": [
    "numbers = [1, 2, 3, 4, 5, 6, 7, 9]\n",
    "numbers.insert(numbers.index(9), 'eight')\n",
    "print(numbers)"
   ]
  },
  {
   "cell_type": "markdown",
   "metadata": {},
   "source": [
    "+ 注：上述的很多方法都可通过切片操作完成，但从**效率**和**可读性**上来说，使用列表方法是更好的选择"
   ]
  },
  {
   "cell_type": "markdown",
   "metadata": {},
   "source": [
    "8. **pop**\n",
    "\n",
    "方法`pop`从列表中删除一个元素（末尾为最后一个元素），并返回这一元素"
   ]
  },
  {
   "cell_type": "code",
   "execution_count": 26,
   "metadata": {
    "collapsed": true
   },
   "outputs": [
    {
     "name": "stdout",
     "output_type": "stream",
     "text": [
      "4\n",
      "[1, 2, 3]\n"
     ]
    }
   ],
   "source": [
    "x = [1, 2, 3, 4]\n",
    "print(x.pop())\n",
    "print(x)"
   ]
  },
  {
   "cell_type": "markdown",
   "metadata": {},
   "source": [
    "+ `pop`和`append`共同实现了一个数据结构：**栈**\n",
    "+ 可以用这`pop`搭配`insert(0, <data>)`实现**队列**，不过关于**队列**，Python提供更好的实现，详细参考第10章"
   ]
  },
  {
   "cell_type": "markdown",
   "metadata": {},
   "source": [
    "9. **remove**\n",
    "\n",
    "方法`remove`用于删除**第一个**为指定值的元素"
   ]
  },
  {
   "cell_type": "code",
   "execution_count": 29,
   "metadata": {
    "collapsed": true
   },
   "outputs": [
    {
     "name": "stdout",
     "output_type": "stream",
     "text": [
      "[1, 2, 3, 0]\n",
      "None\n",
      "[1, 2, 3]\n"
     ]
    }
   ],
   "source": [
    "lst = [0, 1, 2, 3, 0]\n",
    "lst.remove(0)\n",
    "print(lst)\n",
    "print(lst.remove(0))\n",
    "print(lst)"
   ]
  },
  {
   "cell_type": "markdown",
   "metadata": {},
   "source": [
    "10. **reverse**\n",
    "\n",
    "方法`reverse`按相反的顺序排列列表中的元素"
   ]
  },
  {
   "cell_type": "code",
   "execution_count": 63,
   "metadata": {
    "collapsed": true
   },
   "outputs": [
    {
     "name": "stdout",
     "output_type": "stream",
     "text": [
      "['?', ' ', 'e', 'r', 'a', ' ', 'e', 'w', ' ', 'o', 'h', 'w', ' ', 'e', 'w', ' ', 'e', 'r', 'a']\n",
      "None\n",
      "['a', 'r', 'e', ' ', 'w', 'e', ' ', 'w', 'h', 'o', ' ', 'w', 'e', ' ', 'a', 'r', 'e', ' ', '?']\n"
     ]
    }
   ],
   "source": [
    "lst = list(\"are we who we are ?\")\n",
    "lst.reverse()\n",
    "print(lst)\n",
    "print(lst.reverse())\n",
    "print(lst)"
   ]
  },
  {
   "cell_type": "markdown",
   "metadata": {},
   "source": [
    "+ 注：如果要按相反的顺序迭代**序列**，可使用函数`reversed()`。这个函数不返回列表，而是返回一个**迭代器**（迭代器将在第9章详细介绍）"
   ]
  },
  {
   "cell_type": "code",
   "execution_count": 30,
   "metadata": {
    "collapsed": true
   },
   "outputs": [
    {
     "name": "stdout",
     "output_type": "stream",
     "text": [
      "[3, 2, 1]\n"
     ]
    }
   ],
   "source": [
    "lst = [1, 2, 3]\n",
    "print(list(reversed(lst)))"
   ]
  },
  {
   "cell_type": "markdown",
   "metadata": {},
   "source": [
    "11. **sort**\n",
    "\n",
    "方法`sort`用于对列表就地排序，这意味着和前面几个方法一样，这个方法**没有返回**"
   ]
  },
  {
   "cell_type": "code",
   "execution_count": 36,
   "metadata": {
    "collapsed": true
   },
   "outputs": [
    {
     "name": "stdout",
     "output_type": "stream",
     "text": [
      "[1, 2, 3, 4, 5, 6, 7, 8, 9]\n",
      "['Ace', 'Alice', 'Bob', 'Eve']\n"
     ]
    }
   ],
   "source": [
    "x = [9, 8, 7, 6, 5, 4, 3, 2, 1]\n",
    "y = [\"Eve\", \"Bob\", \"Alice\", \"Ace\"]\n",
    "x.sort()\n",
    "y.sort()\n",
    "print(x)\n",
    "print(y)"
   ]
  },
  {
   "cell_type": "markdown",
   "metadata": {},
   "source": [
    "+ 注：与`reverse`方法类似，`sort`方法也有对应的通用方法`sorted()`，可以返回排序后的序列\n",
    "+ 但注意，使用序列通用方法`sorted()`后，返回的数据类型为`list`\n",
    "+ 从Python2.3起，方法`sort`使用的是**稳定的**排序算法"
   ]
  },
  {
   "cell_type": "code",
   "execution_count": 37,
   "metadata": {
    "collapsed": true
   },
   "outputs": [
    {
     "name": "stdout",
     "output_type": "stream",
     "text": [
      "[1, 2, 3, 4, 5, 6, 7, 8, 9]\n"
     ]
    }
   ],
   "source": [
    "x = [9, 8, 7, 6, 5, 4, 3, 2, 1]\n",
    "y = sorted(x)\n",
    "print(y)"
   ]
  },
  {
   "cell_type": "markdown",
   "metadata": {},
   "source": [
    "12. **高级排序**\n",
    "\n",
    "方法`sort`接受两个可选参数：`key`和`reverse`，这两个参数通常是按名称指定的，称为关键字参数，将在第6章详细讨论\n",
    "+ 参数`key`类似于参数`cmp`,使用它来为每个元素创建一个键，再根据这些键对元素进行排序\n",
    "+ 参数`reverse`用以以指出是否要按**相反**的顺序对列表进行排序\n",
    "+ 函数`sorted()`也接受参数`key`和`reverse`。在很多情况下，将参数`key`设置为一个**自定义函数**很有用。第6章将介绍如何创建自定义函数。"
   ]
  },
  {
   "cell_type": "code",
   "execution_count": 38,
   "metadata": {
    "collapsed": true
   },
   "outputs": [
    {
     "name": "stdout",
     "output_type": "stream",
     "text": [
      "['Bob', 'Eve', 'Alice']\n",
      "[9, 8, 7, 6, 5, 4, 3, 2, 1]\n"
     ]
    }
   ],
   "source": [
    "x = ['Alice', 'Bob', 'Eve']\n",
    "y = [9, 8, 7, 6, 5, 4, 3, 2, 1]\n",
    "x.sort(key = len)\n",
    "y.sort(reverse = True)\n",
    "print(x)\n",
    "print(y)"
   ]
  },
  {
   "cell_type": "markdown",
   "metadata": {},
   "source": [
    "### 2.4 元组：不可修改的序列"
   ]
  },
  {
   "cell_type": "markdown",
   "metadata": {},
   "source": [
    "元组也是序列，唯一的差别在于元组是**不能修改**的。\n",
    "\n",
    "元组语法很简单，只要将一些值用`,`分隔，就能自动创建一个元组。一般在使用时会用`()`括起来。\n",
    "\n",
    "元组的切片也是元组，就像列表的切片也是列表一样。"
   ]
  },
  {
   "cell_type": "code",
   "execution_count": 39,
   "metadata": {
    "collapsed": true
   },
   "outputs": [
    {
     "data": {
      "text/plain": [
       "(1, 2, 3)"
      ]
     },
     "execution_count": 39,
     "metadata": {},
     "output_type": "execute_result"
    }
   ],
   "source": [
    "1, 2, 3"
   ]
  },
  {
   "cell_type": "markdown",
   "metadata": {},
   "source": [
    "+ 对于只有一个元素的元组，也**需要**在结尾加上`,`"
   ]
  },
  {
   "cell_type": "code",
   "execution_count": 40,
   "metadata": {
    "collapsed": true
   },
   "outputs": [
    {
     "data": {
      "text/plain": [
       "(1,)"
      ]
     },
     "execution_count": 40,
     "metadata": {},
     "output_type": "execute_result"
    }
   ],
   "source": [
    "1,"
   ]
  },
  {
   "cell_type": "markdown",
   "metadata": {},
   "source": [
    "+ `tuple()`函数与`list()`函数相似，它可将一个序列转换为元组"
   ]
  },
  {
   "cell_type": "code",
   "execution_count": 41,
   "metadata": {
    "collapsed": true
   },
   "outputs": [
    {
     "name": "stdout",
     "output_type": "stream",
     "text": [
      "(1, 2, 3)\n"
     ]
    }
   ],
   "source": [
    "print(tuple([1, 2, 3]))"
   ]
  },
  {
   "cell_type": "markdown",
   "metadata": {},
   "source": [
    "# 🞂 つづく"
   ]
  }
 ],
 "metadata": {
  "kernelspec": {
   "display_name": "Python 3",
   "language": "python",
   "name": "python3"
  },
  "language_info": {
   "codemirror_mode": {
    "name": "ipython",
    "version": 3
   },
   "file_extension": ".py",
   "mimetype": "text/x-python",
   "name": "python",
   "nbconvert_exporter": "python",
   "pygments_lexer": "ipython3",
   "version": "3.6.6"
  }
 },
 "nbformat": 4,
 "nbformat_minor": 2
}
