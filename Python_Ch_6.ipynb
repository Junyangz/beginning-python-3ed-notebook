{
 "cells": [
  {
   "cell_type": "markdown",
   "metadata": {},
   "source": [
    "# 🕮 6: 抽象\n",
    "\n",
    "🖊本章将介绍如何将语句组合成函数，这让你能够告诉计算机如何完成任务，且只需说一次，无需反复向计算机。\n",
    "\n",
    "本章内容如下：\n",
    "\n",
    "+ 6.1 [懒惰是一种美德](#6.1-懒惰是一种美德)\n",
    "+ 6.2 [抽象和结构](#6.2-抽象和结构)\n",
    "+ 6.3 [自定义函数](#6.3-自定义函数)\n",
    "+ 6.4 [参数魔法](#6.4-参数魔法)\n",
    "+ 6.5 [作用域](#6.5-作用域)\n",
    "+ 6.6 [递归](#6.6-递归)"
   ]
  },
  {
   "cell_type": "markdown",
   "metadata": {},
   "source": [
    "### 6.1 懒惰是一种美德\n",
    "\n",
    "（引入“抽象”的直观表述，略）"
   ]
  },
  {
   "cell_type": "markdown",
   "metadata": {},
   "source": [
    "### 6.2 抽象和结构\n",
    "\n",
    "+ 抽象是**程序能够被人理解的关键所在**"
   ]
  },
  {
   "cell_type": "markdown",
   "metadata": {},
   "source": [
    "### 6.3 自定义函数\n",
    "\n",
    "+ 函数执行特定的操作，并且在一般情况下会返回一个值\n",
    "    + 调用一般形式： `<函数名>（<参数列表>）`\n",
    "+ 一般而言，要判断某个对象是否可调用，可使用内置函数`callable`"
   ]
  },
  {
   "cell_type": "code",
   "execution_count": 4,
   "metadata": {
    "collapsed": true
   },
   "outputs": [
    {
     "name": "stdout",
     "output_type": "stream",
     "text": [
      "False\n"
     ]
    },
    {
     "data": {
      "text/plain": [
       "True"
      ]
     },
     "execution_count": 4,
     "metadata": {},
     "output_type": "execute_result"
    }
   ],
   "source": [
    "import math\n",
    "x = 1\n",
    "y = math.sqrt\n",
    "print(callable(x))\n",
    "callable(y)"
   ]
  },
  {
   "cell_type": "markdown",
   "metadata": {},
   "source": [
    "+ **函数定义**语句：`def`\n",
    "    + 一般格式：`def <函数名>(<参数列表>):  <操作>  return <返回值>`"
   ]
  },
  {
   "cell_type": "markdown",
   "metadata": {},
   "source": [
    "#### 6.3.1 给函数编写文档\n",
    "\n",
    "+ 以`#`开头的**注释**\n",
    "+ 添加**独立字符串**\n",
    "    - 位置：\n",
    "        + `def`语句的后面\n",
    "        + 模块和类的开头（第7章，第10章）\n",
    "    - 放在函数开头的字符串被称为**文档字符串(docstring)**，将作为函数的一部分存储起来\n",
    "+ 内置函数`help`可用来获取有关函数的信息，其中包括函数的文档字符串（第10章有更多相关内容）"
   ]
  },
  {
   "cell_type": "code",
   "execution_count": 5,
   "metadata": {
    "collapsed": true
   },
   "outputs": [
    {
     "name": "stdout",
     "output_type": "stream",
     "text": [
      "sqrt(x)\n",
      "\n",
      "Return the square root of x.\n",
      "square: Calculates the square of the number x.\n"
     ]
    }
   ],
   "source": [
    "import math as m\n",
    "print(m.sqrt.__doc__)# 使用__doc__属性来访问这个函数的文档字符串。__doc__是一种“魔法属性”，详细在第9章介绍\n",
    "\n",
    "def square(num):\n",
    "    'Calculates the square of the number x.'\n",
    "    return num * num\n",
    "\n",
    "print('square:', square.__doc__)"
   ]
  },
  {
   "cell_type": "code",
   "execution_count": 6,
   "metadata": {
    "collapsed": true
   },
   "outputs": [
    {
     "name": "stdout",
     "output_type": "stream",
     "text": [
      "Help on built-in function sqrt in module math:\n",
      "\n",
      "sqrt(...)\n",
      "    sqrt(x)\n",
      "    \n",
      "    Return the square root of x.\n",
      "\n"
     ]
    }
   ],
   "source": [
    "import math as m\n",
    "help(m.sqrt)"
   ]
  },
  {
   "cell_type": "markdown",
   "metadata": {},
   "source": [
    "#### 6.3.2 其实并不是函数的函数\n",
    "\n",
    "+ 第一个“函数”指function，是数学意义上的函数，一定会有返回值；后一个“函数”是python意义上的“函数”\n",
    "+ python意义上的函数意味着这个函数不一定要有**返回值**\n",
    "+ **无返回值**的函数不包含`return`语句，或者包含`return`语句，但没有跟在后面的返回值"
   ]
  },
  {
   "cell_type": "code",
   "execution_count": 7,
   "metadata": {
    "collapsed": true
   },
   "outputs": [
    {
     "name": "stdout",
     "output_type": "stream",
     "text": [
      "This is printed\n",
      "None\n"
     ]
    }
   ],
   "source": [
    "def test():\n",
    "    print('This is printed')\n",
    "    return\n",
    "    print('This is not')\n",
    "\n",
    "x = test()\n",
    "print(x)"
   ]
  },
  {
   "cell_type": "markdown",
   "metadata": {},
   "source": [
    "**注意**：不要让这种默认行为带来麻烦。如果你在if之类的语句中返回值，务必确保其他分支也返回值，以免在调用者期望函数返回一个序列时（举个例子），不小心返回了None。"
   ]
  },
  {
   "cell_type": "markdown",
   "metadata": {},
   "source": [
    "### 6.4 参数魔法\n",
    "\n",
    "#### 6.4.1 值从哪里来\n",
    "\n",
    "+ 编写函数的职责：确保它在提供的参数正确时完成任务，在参数不对时以**显而易见**的方式失败。（为此通常用断言或异常。异常将在第8章详细介绍）\n",
    "    - 在`def`语句中，位于*函数名后面*的变量通常称为**形参**，而*调用函数时*提供的值称为**实参**（本书称为“值”）"
   ]
  },
  {
   "cell_type": "markdown",
   "metadata": {},
   "source": [
    "#### 6.4.2 我能修改参数吗\n",
    "\n",
    "+ 在函数内部给参数**赋值**对外部没有任何影响\n",
    "+ 参数存储在**局部作用域**\n",
    "+ *能否通过**赋值**操作对外部变量，是根据该类变量本身的赋值操作的情况而定的*\n",
    "    + *对于不变量，如元组和字符串，它们在进行赋值操作时，本身就相当于指向一处新的内存空间*\n",
    "    + *对于变量，如列表，它们在进行赋值操作时，类似于做指针的赋值操作，只是让一个新的指针指向了原地址空间*\n",
    "+ 对于可变的数据结构参数，需在函数作用域内建立参数的**副本**来避免函数的操作影响外部变量"
   ]
  },
  {
   "cell_type": "code",
   "execution_count": 8,
   "metadata": {
    "collapsed": true
   },
   "outputs": [
    {
     "name": "stdout",
     "output_type": "stream",
     "text": [
      "test string deleted\n",
      "test string\n",
      "test string\n",
      "test string\n"
     ]
    }
   ],
   "source": [
    "def del_list(ll):\n",
    "    print(ll , \"deleted\")\n",
    "    del ll\n",
    "    \n",
    "x = 'test string'\n",
    "y = x\n",
    "\n",
    "del_list(x)\n",
    "print(x)\n",
    "print(y)\n",
    "\n",
    "del x\n",
    "print(y)"
   ]
  },
  {
   "cell_type": "code",
   "execution_count": 28,
   "metadata": {
    "collapsed": true
   },
   "outputs": [
    {
     "name": "stdout",
     "output_type": "stream",
     "text": [
      "Mrs. Entity\n",
      "Mrs. Entity\n"
     ]
    }
   ],
   "source": [
    "#####以下两段代码等价（不考虑作用域）#######\n",
    "#代码段1#\n",
    "def try_to_change(n):\n",
    "    n = 'Mr. Gumby'\n",
    "\n",
    "name = 'Mrs. Entity'\n",
    "try_to_change(name)\n",
    "print(name)\n",
    "\n",
    "#代码段2#\n",
    "name = 'Mrs. Entity'\n",
    "n = name\n",
    "n = 'Mr. Gumby'\n",
    "print(name)"
   ]
  },
  {
   "cell_type": "code",
   "execution_count": 9,
   "metadata": {
    "collapsed": true
   },
   "outputs": [
    {
     "name": "stdout",
     "output_type": "stream",
     "text": [
      "['Mr. Gumby', 'Mrs. Thing']\n",
      "['Mrs. Entity', 'Mrs. Thing']\n",
      "['Mrs. Entity', 'Mrs. Thing']\n"
     ]
    }
   ],
   "source": [
    "#####当参数是可变数据结构时#######\n",
    "\n",
    "def change(n):\n",
    "    n[0] = 'Mr. Gumby'\n",
    "\n",
    "names = ['Mrs. Entity', 'Mrs. Thing']\n",
    "change(names)\n",
    "print(names)\n",
    "\n",
    "def change_n(n):\n",
    "    nn = n[:]\n",
    "    nn[0] = 'Mr. Gumby'\n",
    "    \n",
    "names = ['Mrs. Entity', 'Mrs. Thing']\n",
    "change_n(names)\n",
    "print(names)\n",
    "change(names[:])\n",
    "print(names)"
   ]
  },
  {
   "cell_type": "markdown",
   "metadata": {},
   "source": [
    "+ **模块化编程**\n",
    "    - 对于可变的参数，充分利用函数对其进行修改，这时函数可以不返回\n",
    "    - 对于不可变的参数，只能通过返回值的方法对外部参数进行改变"
   ]
  },
  {
   "cell_type": "code",
   "execution_count": 10,
   "metadata": {
    "collapsed": true
   },
   "outputs": [
    {
     "data": {
      "text/plain": [
       "['Magnus Lie Hetland']"
      ]
     },
     "execution_count": 10,
     "metadata": {},
     "output_type": "execute_result"
    }
   ],
   "source": [
    "storage = {}\n",
    "storage['first'] = {}\n",
    "storage['middle'] = {}\n",
    "storage['last'] = {}\n",
    "\n",
    "me = 'Magnus Lie Hetland'\n",
    "storage['first']['Magnus'] = [me]\n",
    "storage['middle']['Lie'] = [me]\n",
    "storage['last']['Hetland'] = [me]\n",
    "\n",
    "#添加新成员的时候很繁琐\n",
    "\n",
    "my_sister = 'Anne Lie Hetland'\n",
    "storage['first'].setdefault('Anne', []).append(my_sister)\n",
    "storage['middle'].setdefault('Lie', []).append(my_sister)\n",
    "storage['last'].setdefault('Hetland', []).append(my_sister)\n",
    "\n",
    "#使用函数使得代码变得清晰\n",
    "\n",
    "def init(data):\n",
    "    data['first'] = {}\n",
    "    data['middle'] = {}\n",
    "    data['last'] = {}\n",
    "    \n",
    "def lookup(data, lable, name):\n",
    "    return data[lable].get(name)\n",
    "\n",
    "def store(data, full_name):\n",
    "    '''(1) 将参数data和full_name提供给这个函数。这些参数被设置为从外部获得的值。\n",
    "(2) 通过拆分full_name创建一个名为names的列表。\n",
    "(3) 如果names的长度为2（只有名字和姓），就将中间名设置为空字符串。\n",
    "(4) 将'first'、'middle'和'last'存储在元组labels中（也可使用列表，这里使用元组只是为\n",
    "了省略方括号）。\n",
    "(5) 使用函数zip将标签和对应的名字合并，以便对每个标签-名字对执行如下操作：\n",
    " 获取属于该标签和名字的列表；\n",
    " 将full_name附加到该列表末尾或插入一个新列表。'''\n",
    "    names = full_name.split()\n",
    "    if len(names) == 2: names.insert(1, '')\n",
    "        \n",
    "    labels = 'first', 'middle', 'last'\n",
    "    for label, name in zip(labels, names):\n",
    "        people = lookup(data, label, name)\n",
    "        if people:\n",
    "            people.append(full_name)\n",
    "        else:\n",
    "            data[label][name] = [full_name]\n",
    "\n",
    "            \n",
    "MyNames = {}\n",
    "init(MyNames)\n",
    "store(MyNames, 'Magnus Lie Hetland')\n",
    "lookup(MyNames, 'middle', 'Lie')\n",
    "\n",
    "\n",
    "#这种程序非常适合使用面向对象编程，这将在下一章介绍。"
   ]
  },
  {
   "cell_type": "markdown",
   "metadata": {},
   "source": [
    "#### 6.4.3 关键字参数和默认值\n",
    "\n",
    "+ 上文提及的参数都是**位置参数**\n",
    "+ 使用**名称**而非序位指定的参数称为**关键字参数**。关键字参数与顺序无关\n",
    "+ 关键字参数可以指定默认值\n",
    "+ 关键字参数和位置参数并存时，**必须先指定所有的位置参数**\n",
    "    - 注意：通常不应结合使用位置参数和关键字参数，除非你知道这样做的后果。一般而言，除非必不可少的参数很少，而带默认值的可选参数很多，否则不应结合使用关键字参数和位置参数"
   ]
  },
  {
   "cell_type": "code",
   "execution_count": 12,
   "metadata": {
    "collapsed": true
   },
   "outputs": [
    {
     "ename": "SyntaxError",
     "evalue": "non-default argument follows default argument (<ipython-input-12-f3426dff15fe>, line 2)",
     "output_type": "error",
     "traceback": [
      "\u001b[0;36m  File \u001b[0;32m\"<ipython-input-12-f3426dff15fe>\"\u001b[0;36m, line \u001b[0;32m2\u001b[0m\n\u001b[0;31m    def hello_4(greeting='Hello',name, punctuation='!'):\u001b[0m\n\u001b[0m               ^\u001b[0m\n\u001b[0;31mSyntaxError\u001b[0m\u001b[0;31m:\u001b[0m non-default argument follows default argument\n"
     ]
    }
   ],
   "source": [
    "#def hello_4(name, greeting='Hello', punctuation='!'):\n",
    "#def hello_4(greeting='Hello',name, punctuation='!'):\n",
    "#def hello_4(name, greeting='Hello',punctuation='!', test):\n",
    "    print('{}, {}{}'.format(greeting, name, punctuation))\n",
    "#    print(test)\n",
    "\n",
    "hello_4('Mars')"
   ]
  },
  {
   "cell_type": "markdown",
   "metadata": {},
   "source": [
    "#### 6.4.3 收集参数\n",
    "\n",
    "+ 与[序列解包](../Python_Ch_5.ipynb#5.2.1-序列解包)类似，在参数名前加`*`便可收集参数\n",
    "+ 与赋值时一样，带星号的参数数也可放在其他位置（而不是最后），但不同的是，在这种情况下你需要做些额外的工作：**使用名称来指定后续参数**\n",
    "+ `*`不会收集关键字参数，`**`才能**收集关键字参数**，此时得到的是**字典**而不是元组"
   ]
  },
  {
   "cell_type": "code",
   "execution_count": 14,
   "metadata": {
    "collapsed": true
   },
   "outputs": [
    {
     "name": "stdout",
     "output_type": "stream",
     "text": [
      "([1, 2, 3],)\n",
      "(1, 2, 3)\n",
      "Params:\n",
      "(1, 2, 3)\n",
      "Nothing:\n",
      "()\n",
      "1 (2, 3, 4, 5) 7\n",
      "{'x': 1, 'y': 2, 'z': 3}\n",
      "1 2 3\n",
      "(4, 5, 6)\n",
      "{'r': 7, 's': 8, 't': 9}\n"
     ]
    },
    {
     "data": {
      "text/plain": [
       "['Luke Skywalker', 'Anakin Skywalker']"
      ]
     },
     "execution_count": 14,
     "metadata": {},
     "output_type": "execute_result"
    }
   ],
   "source": [
    "def print_params(*params):\n",
    "    print(params)\n",
    "\n",
    "print_params([1, 2, 3])\n",
    "print_params(1, 2, 3)\n",
    "\n",
    "def print_params_2(title, *params):\n",
    "    print(title)\n",
    "    print(params)\n",
    "    \n",
    "print_params_2('Params:', 1, 2, 3)\n",
    "print_params_2('Nothing:',)\n",
    "\n",
    "def in_the_middle(x, *y, z):\n",
    "    print(x, y, z)\n",
    "\n",
    "in_the_middle(1, 2, 3, 4, 5, z=7)\n",
    "#in_the_middle(1, 2, 3, 4, 5, 7)\n",
    "\n",
    "def print_params_3(**params):\n",
    "    print(params)\n",
    "    \n",
    "print_params_3(x = 1, y = 2, z = 3)\n",
    "\n",
    "#def print_params_4(x, y, z=3, *pospar, **keypar):\n",
    "def print_params_4(x, y, *pospar, z=3, **keypar):\n",
    "    print(x, y, z)\n",
    "    print(pospar)\n",
    "    print(keypar)\n",
    "\n",
    "print_params_4(1, 2, 4, 5, 6, r = 7, s = 8, t = 9)\n",
    "\n",
    "#使用这个方法改进姓名存储示例：\n",
    "def store(data, *full_names):\n",
    "    for full_name in full_names:\n",
    "        names = full_name.split()\n",
    "        if len(names) == 2: names.insert(1, '')\n",
    "        labels = 'first', 'middle', 'last'\n",
    "        for label, name in zip(labels, names):\n",
    "            people = lookup(data, label, name)\n",
    "            if people:\n",
    "                people.append(full_name)\n",
    "            else:\n",
    "                data[label][name] = [full_name]\n",
    "                \n",
    "d = {}\n",
    "init(d)\n",
    "store(d, 'Luke Skywalker', 'Anakin Skywalker')\n",
    "lookup(d, 'last', 'Skywalker')"
   ]
  },
  {
   "cell_type": "markdown",
   "metadata": {},
   "source": [
    "#### 6.4.5 分配参数\n",
    "\n",
    "+ 在调用时使用`*`或`**`实现\n",
    "+ 在定义和调用时同时使用，则相当于传递数据（元组或字典）本身\n",
    "+ 使用拆分运算符来传递参数在调用超类的构造函数时特别有用（第9章）"
   ]
  },
  {
   "cell_type": "code",
   "execution_count": 18,
   "metadata": {
    "collapsed": true
   },
   "outputs": [
    {
     "name": "stdout",
     "output_type": "stream",
     "text": [
      "Well met, Sir Robin !\n",
      "Well met, Sir Robin !\n"
     ]
    }
   ],
   "source": [
    "def hello_3(name, greeting = 'Hi', punc = '!'):\n",
    "    print('{}, {} {}'.format(greeting, name, punc))\n",
    "\n",
    "params = {'name': 'Sir Robin', 'greeting': 'Well met'}\n",
    "hello_3(**params)\n",
    "hello_3(name = 'Sir Robin', greeting = 'Well met')"
   ]
  },
  {
   "cell_type": "markdown",
   "metadata": {},
   "source": [
    "### 6.5 作用域\n",
    "\n",
    "+ 变量可视为**指向值的名称**\n",
    "+ 这类似于字典。实际上可以调用内置函数`vars()`返回查看这个不可见的字典\n",
    "    - 不建议修改`vars()`返回的字典的值，这样做的结果是不确定的\n",
    "+ 这个“字典”被称为**命名空间**或**作用域**\n",
    "+ 除全局作用域外，**每个函数调用都将创建一个命名空间**\n",
    "+ **谨慎使用全局变量**"
   ]
  },
  {
   "cell_type": "code",
   "execution_count": 19,
   "metadata": {
    "collapsed": true
   },
   "outputs": [
    {
     "name": "stdout",
     "output_type": "stream",
     "text": [
      "['Mr. Gumby']\n",
      "Shrubberry\n"
     ]
    }
   ],
   "source": [
    "def change(n_t):\n",
    "    n_t[0] = 'Mr. Gumby'\n",
    "\n",
    "name = ['test']\n",
    "change(name)\n",
    "print(name)\n",
    "#print(n_t)\n",
    "\n",
    "#如果只是想读取这种变量的值（不重新关联它），通常不会有问题：\n",
    "def combine(parameter): print(parameter + external)\n",
    "    \n",
    "external = 'berry'\n",
    "combine('Shrub')"
   ]
  },
  {
   "cell_type": "markdown",
   "metadata": {},
   "source": [
    "+ 如果有一个局部变量或参数与你要访问的全局变量同名，就无法直接访问全局变量，因为它被局部变量**遮住**了\n",
    "+ 如果需要，可使用函数globals来访问全局变量。这个函数类似于vars，返回一个包含全局变量的**字典**\n",
    "+ locals返回一个包含局部变量的字典。"
   ]
  },
  {
   "cell_type": "markdown",
   "metadata": {},
   "source": [
    "+ **重新关联**全局变量（使其指向新值）是另一码事\n",
    "+ 在函数内部赋值时，默认是局部变量\n",
    "+ 使用`global`关键字定义全局变量"
   ]
  },
  {
   "cell_type": "code",
   "execution_count": 20,
   "metadata": {
    "collapsed": true
   },
   "outputs": [
    {
     "name": "stdout",
     "output_type": "stream",
     "text": [
      "Hello\n"
     ]
    }
   ],
   "source": [
    "def change(n_t):\n",
    "    n_t[0] = 'Mr. Gumby'\n",
    "    global test_1\n",
    "    test_1 = 'Hello'\n",
    "\n",
    "change(['I'])\n",
    "print(test_1)\n",
    "#print(n_t)"
   ]
  },
  {
   "cell_type": "markdown",
   "metadata": {},
   "source": [
    "+ **作用域嵌套**\n",
    "    + 嵌套通常用于使用一个函数来创建另一个函数"
   ]
  },
  {
   "cell_type": "code",
   "execution_count": 81,
   "metadata": {},
   "outputs": [],
   "source": [
    "def multiplier(factor):\n",
    "    def multiplyByFactor(number):\n",
    "        return number * factor\n",
    "    return multiplyByFactor"
   ]
  },
  {
   "cell_type": "markdown",
   "metadata": {},
   "source": [
    "   + 在这里，一个函数位于另一个函数中，且外面的函数返回里面的函数。也就是返回一个函数，而不是调用它\n",
    "   + 返回的函数能够访问其定义所在的作用域。换而言之，它携带着自己所在的环境（和相关的局部变量）"
   ]
  },
  {
   "cell_type": "code",
   "execution_count": 21,
   "metadata": {
    "collapsed": true
   },
   "outputs": [
    {
     "name": "stdout",
     "output_type": "stream",
     "text": [
      "10\n",
      "10\n",
      "50\n"
     ]
    }
   ],
   "source": [
    "def multiplier(factor):\n",
    "    def multiplyByFactor(number):\n",
    "        return number * factor\n",
    "    return multiplyByFactor\n",
    "\n",
    "double = multiplier(2)\n",
    "print(double(5))\n",
    "print(multiplier(2)(5))\n",
    "\n",
    "def multiplier_1(factor):\n",
    "    def multiplyByFactor(number):\n",
    "        nonlocal factor\n",
    "        factor = 10\n",
    "        return number * factor\n",
    "    return multiplyByFactor\n",
    "print(multiplier_1(2)(5))"
   ]
  },
  {
   "cell_type": "markdown",
   "metadata": {},
   "source": [
    "   + 像`multiplyByFactor`这样存储其所在作用域的函数称为**闭包**\n",
    "   + 可以使用`nonlocal`关键字给**外部作用域**内的变量赋值"
   ]
  },
  {
   "cell_type": "markdown",
   "metadata": {},
   "source": [
    "### 6.6 递归\n",
    "\n",
    "+ 递归式函数定义：\n",
    "    - `def recursion(): return recursion()`\n",
    "    + 基线条件（针对最小问题）：满足这种条件时函数将直接返回一个值\n",
    "    + 递归条件：包含一个或多个调用，这些调用旨在解决**问题的一部分**"
   ]
  },
  {
   "cell_type": "markdown",
   "metadata": {},
   "source": [
    "#### 6.6.1 阶乘和幂"
   ]
  },
  {
   "cell_type": "code",
   "execution_count": 22,
   "metadata": {},
   "outputs": [
    {
     "name": "stdout",
     "output_type": "stream",
     "text": [
      "120\n",
      "8\n"
     ]
    }
   ],
   "source": [
    "def factorial(n):\n",
    "    if n == 1:\n",
    "        return 1\n",
    "    else:\n",
    "        return n * factorial(n - 1)\n",
    "\n",
    "print(factorial(5))\n",
    "\n",
    "def power(x, n):\n",
    "    if n == 1:\n",
    "        return x\n",
    "    else:\n",
    "        return x * power(x, n - 1)\n",
    "\n",
    "print(power(2, 3))"
   ]
  },
  {
   "cell_type": "markdown",
   "metadata": {},
   "source": [
    "#### 6.6.2 二分查找"
   ]
  },
  {
   "cell_type": "code",
   "execution_count": 23,
   "metadata": {
    "collapsed": true
   },
   "outputs": [
    {
     "name": "stdout",
     "output_type": "stream",
     "text": [
      "2\n"
     ]
    }
   ],
   "source": [
    "def search(sequence, number, lower = 0, upper = None):\n",
    "    if upper is None: upper = len(sequence) - 1\n",
    "    if lower == upper:\n",
    "        assert number == sequence[upper]\n",
    "        return upper\n",
    "    else:\n",
    "        middle = (lower + upper) // 2\n",
    "        if number > sequence[middle]:\n",
    "            return search(sequence, number, middle + 1, upper)\n",
    "        else:\n",
    "            return search(sequence, number, lower, middle)\n",
    "\n",
    "seq = [34, 67, 8, 123, 4, 100, 95]\n",
    "seq.sort()\n",
    "print(search(seq, 34))"
   ]
  },
  {
   "cell_type": "markdown",
   "metadata": {},
   "source": [
    "#### 函数式编程\n",
    "+ Python提供了一些有助于进行这种函数式编程的函数：`map`、`filter`和`reduce`\n",
    "+ python中的`lambda`表达式"
   ]
  },
  {
   "cell_type": "code",
   "execution_count": 24,
   "metadata": {
    "collapsed": true
   },
   "outputs": [
    {
     "name": "stdout",
     "output_type": "stream",
     "text": [
      "['0', '1', '2', '3', '4', '5', '6', '7', '8', '9']\n",
      "['foo', 'x41']\n",
      "['foo', 'x41']\n",
      "['foo', 'x41']\n"
     ]
    },
    {
     "data": {
      "text/plain": [
       "1161"
      ]
     },
     "execution_count": 24,
     "metadata": {},
     "output_type": "execute_result"
    }
   ],
   "source": [
    "#可使用map将序列的所有元素传递给函数\n",
    "print(list(map(str, range(10)))) # 与[str(i) for i in range(10)]等价\n",
    "\n",
    "#可使用filter根据布尔函数的返回值来对元素进行过滤\n",
    "def func(x):\n",
    "    return x.isalnum()\n",
    "\n",
    "seq = [\"foo\", \"x41\", \"?!\", \"***\"]\n",
    "print(list(filter(func, seq)))\n",
    "\n",
    "print(list(x for x in seq if x.isalnum()))#与上述的filter等价\n",
    "\n",
    "#lambda表达式创建内嵌的简单函数，主要供map，filter和reduce使用\n",
    "print(list(filter(lambda x: x.isalnum(), seq)))\n",
    "\n",
    "#reduce：reduce使用指定的函数（可使用lamda定义）将序列的前两个元素合二为一，再将结果与第3个元素合二为一，递推直到处理完整个队列得到一个结果\n",
    "numbers = [72, 101, 108, 108, 111, 44, 32, 119, 111, 114, 108, 100, 33]\n",
    "from functools import reduce\n",
    "reduce(lambda x, y: x + y, numbers)"
   ]
  },
  {
   "cell_type": "markdown",
   "metadata": {},
   "source": [
    "# 🞂 つづく"
   ]
  }
 ],
 "metadata": {
  "kernelspec": {
   "display_name": "Python 3",
   "language": "python",
   "name": "python3"
  },
  "language_info": {
   "codemirror_mode": {
    "name": "ipython",
    "version": 3
   },
   "file_extension": ".py",
   "mimetype": "text/x-python",
   "name": "python",
   "nbconvert_exporter": "python",
   "pygments_lexer": "ipython3",
   "version": "3.6.6"
  }
 },
 "nbformat": 4,
 "nbformat_minor": 2
}
