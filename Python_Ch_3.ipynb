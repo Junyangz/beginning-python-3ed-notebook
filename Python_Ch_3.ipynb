{
 "cells": [
  {
   "cell_type": "markdown",
   "metadata": {},
   "source": [
    "# 🕮 3: 字符串\n",
    "\n",
    "🖊本章将介绍如何使用字符串来设置其他值的格式（比如便于打印），并大致了解使用字符串方法可完成的重要任务，如拆分、合并和查找等。\n",
    "\n",
    "本章内容如下：\n",
    "\n",
    "+ 3.1 [字符串基本操作](#3.1-字符串基本操作)\n",
    "+ 3.2 [设置字符串的格式：精简版](#3.2-设置字符串的格式：精简版)\n",
    "+ 3.3 [设置字符串的格式：完整版](#3.3-设置字符串的格式：完整版)\n",
    "+ 3.4 [字符串方法](#3.4-字符串方法)"
   ]
  },
  {
   "cell_type": "markdown",
   "metadata": {},
   "source": [
    "### 3.1 字符串基本操作\n",
    "\n",
    "所有标准序列操作都适用于字符串，但是字符串是**不可变**的，因此所有的**元素赋值**和**切片赋值**都是非法的。"
   ]
  },
  {
   "cell_type": "markdown",
   "metadata": {},
   "source": [
    "### 3.2 设置字符串的格式：精简版\n",
    "\n",
    "+ 格式设置运算符：**`%`**\n",
    "+ 在**`%`**左边指定一个字符串（_格式字符串_），并在右边指定要设置其格式的值。\n",
    "+ 指定要设置其格式的值时，可使用**单个值**（如字符串或数字），可使用**元组**（如果要设置多个值的格式），还可使用**字典**（这将在下一章讨论），其中最常见的是**元组**。"
   ]
  },
  {
   "cell_type": "code",
   "execution_count": 65,
   "metadata": {
    "collapsed": true
   },
   "outputs": [
    {
     "data": {
      "text/plain": [
       "'Hello, world. 35 enough for ya?'"
      ]
     },
     "execution_count": 65,
     "metadata": {},
     "output_type": "execute_result"
    }
   ],
   "source": [
    "format = \"Hello, %s. %s enough for ya?\"\n",
    "values = ('world', 'Hot')\n",
    "values = ('world', 35)\n",
    "format % values"
   ]
  },
  {
   "cell_type": "markdown",
   "metadata": {},
   "source": [
    "+ `%s`称为**转换说明符**\n",
    "+ `s`意味着将值视为**`字符串`**，对于非字符串的值，使用`str()`将其转换为字符串"
   ]
  },
  {
   "cell_type": "markdown",
   "metadata": {},
   "source": [
    "+ **模板字符串**\n",
    "+ 类似于shell中的用法，使用`$`作为标识符"
   ]
  },
  {
   "cell_type": "code",
   "execution_count": 66,
   "metadata": {
    "collapsed": true
   },
   "outputs": [
    {
     "data": {
      "text/plain": [
       "'Hello, Mars! Dusty enough for ya?'"
      ]
     },
     "execution_count": 66,
     "metadata": {},
     "output_type": "execute_result"
    }
   ],
   "source": [
    "from string import Template\n",
    "\n",
    "tmpl = Template(\"Hello, $who! $what enough for ya?\")\n",
    "tmpl.substitute(who = \"Mars\", what = \"Dusty\")"
   ]
  },
  {
   "cell_type": "markdown",
   "metadata": {},
   "source": [
    "+ 用字符串方法`format`\n",
    "+ 替代字段用`{}`括起，其中可能包含**名称**，还可能包含有关如何对相应的值进行**转换**和**格式设置**的信息\n",
    "+ 字符串中的花括号使用`{{}}`替代"
   ]
  },
  {
   "cell_type": "code",
   "execution_count": 67,
   "metadata": {
    "collapsed": true
   },
   "outputs": [
    {
     "name": "stdout",
     "output_type": "stream",
     "text": [
      "to be, or not to be\n",
      "π is approximately 3.14\n"
     ]
    }
   ],
   "source": [
    "from math import pi\n",
    "\n",
    "print(\"{0} {1}, {2} {3} {0} {1}\".format(\"to\", \"be\", \"or\", \"not\"))\n",
    "print(\"{name} is approximately {value:.2f}\".format(name = \"π\", value = pi))"
   ]
  },
  {
   "cell_type": "markdown",
   "metadata": {},
   "source": [
    "+ 最后，在Python 3.6中，如果变量与替换字段同名，还可使用一种简写。在这种情况下，可使用`f`字符串——在字符串前面加上`f`"
   ]
  },
  {
   "cell_type": "code",
   "execution_count": 68,
   "metadata": {
    "collapsed": true
   },
   "outputs": [
    {
     "name": "stdout",
     "output_type": "stream",
     "text": [
      "π is approximately 3.14\n",
      "0 times called\n"
     ]
    }
   ],
   "source": [
    "from math import pi\n",
    "cnt = 0\n",
    "print(f'π is approximately {pi:.2f}')\n",
    "print(f'{cnt} times called')"
   ]
  },
  {
   "cell_type": "markdown",
   "metadata": {},
   "source": [
    "### 3.3 设置字符串的格式：完整版\n",
    "\n",
    "+ 基本思想是对字符串调用方法`format`，并提供要设置其格式的值\n",
    "+ 字符串包含**如何设置格式**的信息，这些信息是使用一种**微型格式指定语言（mini-language）**指定的\n",
    "+ 每个值都被插入字符串中，以替换用`{}`括起的**替换字段**"
   ]
  },
  {
   "cell_type": "markdown",
   "metadata": {},
   "source": [
    "+ **替换字段**由如下部分组成\n",
    "    - **字段名**：包括**名称**和**索引**\n",
    "        + **指定名称**的字段和**未指定字段名**的字段可以混合使用\n",
    "        + **指定索引**的字段和**未指定字段名**的字段**不可以**混合使用——引起顺序编号混乱\n",
    "        + 可使用**索引**，还可使用**句点表示法**来**访问**导入的模块中的**方法**、**属性**、**变量**和**函数**\n",
    "    - **转换标志**\n",
    "        + 指定要在字段中包含的值后，就可添加有关如何设置其格式的指令\n",
    "        + **转换标志**：`!` `:`\n",
    "        \n",
    "    - **格式说明符**"
   ]
  },
  {
   "cell_type": "code",
   "execution_count": 70,
   "metadata": {
    "collapsed": true
   },
   "outputs": [
    {
     "name": "stdout",
     "output_type": "stream",
     "text": [
      "name :\n",
      "4 3 2 1\n",
      "The math module defines the value 3.141592653589793 for π\n",
      "trans :\n",
      "π 'π' '\\u03c0'\n",
      "42.000\n",
      "101010\n",
      "42.00%\n"
     ]
    }
   ],
   "source": [
    "print(\"name :\")\n",
    "print(\"{foo} {} {bar} {}\".format(3, 1, foo = 4, bar = 2))\n",
    "#print(\"{foo} {} {bar} {}\".format(foo = 4, bar = 2, 3, 1))\n",
    "import math\n",
    "print(\"The {mod.__name__} module defines the value {mod.pi} for π\".format(mod = math))\n",
    "print(\"trans :\")\n",
    "print(\"{pi!s} {pi!r} {pi!a}\".format(pi = \"π\"))\n",
    "print(\"{num:.3f}\".format(num = 42))\n",
    "print(\"{num:b}\".format(num = 42))\n",
    "print(\"{num:.2%}\".format(num = 0.42))"
   ]
  },
  {
   "cell_type": "markdown",
   "metadata": {},
   "source": [
    "_附表3-1：字符串格式设置中的类型说明符_\n",
    "\n",
    "|类型 | 含义 |\n",
    "|:--  | :- |\n",
    "|b   |将整数表示为二进制数 |\n",
    "|c   |将整数解读为Unicode码点 |\n",
    "|d   |将整数视为十进制数进行处理，这是整数默认使用的说明符 |\n",
    "|e   |使用科学表示法来表示小数（用e来表示指数） |\n",
    "|E   |与e相同，但使用E来表示指数 |\n",
    "|f   |将小数表示为定点数 |\n",
    "|F   |与f相同，但对于特殊值（nan和inf），使用大写表示 |\n",
    "|g   |自动在定点表示法和科学表示法之间做出选择。这是默认用于小数的说明符，但在默认情况下至少有1位小数 |\n",
    "|G   |与g相同，但使用大写来表示指数和特殊值 |\n",
    "|n   |与g相同，但插入随区域而异的数字分隔符 |\n",
    "|o   |将整数表示为八进制数 |\n",
    "|s   |保持字符串的格式不变，这是默认用于字符串的说明符 |\n",
    "|x   |将整数表示为十六进制数并使用小写字母 |\n",
    "|X   |与x相同，但使用大写字母 |\n",
    "|%   |将数表示为百分比值（乘以100，按说明符f设置格式，再在后面加上%） |"
   ]
  },
  {
   "cell_type": "markdown",
   "metadata": {},
   "source": [
    "#### 3.3.3 宽度、精度和千位分隔符\n",
    "\n",
    "+ **宽度**：使用**`整数`**指定\n",
    "+ **精度**：使用**`.整数`**指定\n",
    "+ **千位分隔符**：使用**`,`**指定"
   ]
  },
  {
   "cell_type": "code",
   "execution_count": 71,
   "metadata": {
    "collapsed": true
   },
   "outputs": [
    {
     "name": "stdout",
     "output_type": "stream",
     "text": [
      "number 20181029\n",
      "number 20181029.000\n",
      "number 20,181,029\n"
     ]
    }
   ],
   "source": [
    "print(\"number {num:5}\".format(num = 20181029))\n",
    "print(\"number {num:.3f}\".format(num = 20181029))\n",
    "print(\"number {num:,}\".format(num = 20181029))"
   ]
  },
  {
   "cell_type": "markdown",
   "metadata": {},
   "source": [
    "#### 3.3.4 符号、对齐和用0填充\n",
    "\n",
    "+ **符号**与**对齐**：在指定宽度和精度的数前面可添加标志\n",
    "    - **对齐**包括：左对齐`<`，右对齐`>`和居中`^`\n",
    "    - 还有更具体的说明符`=`，它指定将填充字符放在**符号**和**数字**之间_(使用`=`后默认右对齐)_\n",
    "    - 如果要给正数加上符号，可使用说明符`+`（将其放在对齐说明符后面），而不是默认的`-`。如果将符号说明符指定为` `，会在正数前面加上空格而不是+\n",
    "    - **`#`**：将其放在**符号说明符**和**宽度**之间（如果指定了这两种设置），指定随数据**类型**而定的转换方式"
   ]
  },
  {
   "cell_type": "code",
   "execution_count": 74,
   "metadata": {
    "collapsed": true
   },
   "outputs": [
    {
     "name": "stdout",
     "output_type": "stream",
     "text": [
      "number 🌟🌟🌟🌟🌟🌟20,181,029.000\n",
      "number -🌟🌟🌟🌟🌟20,181,029.000\n",
      "3.14\n",
      "-3.14\n",
      "---------\n",
      " 3.14\n",
      "-3.14\n",
      "---------\n",
      "+3.14\n",
      "-3.14\n",
      "---------\n",
      "0b11111100010 10.0000 0x1d\n",
      "11111100010 10 1d\n"
     ]
    }
   ],
   "source": [
    "print(\"number {num:🌟>20,.3f}\".format(num = 20181029))\n",
    "print(\"number {num:🌟=20,.3f}\".format(num = -20181029))\n",
    "from math import pi\n",
    "print(\"{0:.2f}\\n{1:.2f}\".format(pi, -pi))\n",
    "print(\"---------\")\n",
    "print(\"{0: .2f}\\n{1: .2f}\".format(pi, -pi))\n",
    "print(\"---------\")\n",
    "print(\"{0:+.2f}\\n{1:+.2f}\".format(pi, -pi))\n",
    "print(\"---------\")\n",
    "print(\"{:#b} {:#g} {:#x}\".format(2018, 10, 29))\n",
    "print(\"{:b} {:g} {:x}\".format(2018, 10, 29))"
   ]
  },
  {
   "cell_type": "markdown",
   "metadata": {},
   "source": [
    "+ [代码清单3-1](../edit/3-1.py)"
   ]
  },
  {
   "cell_type": "markdown",
   "metadata": {},
   "source": [
    "### 3.4 字符串方法\n",
    "\n",
    "很多字符串方法都是从模块`string`中**继承**而来的。`string`模块现在仍提供一些特殊用途的方法。"
   ]
  },
  {
   "cell_type": "markdown",
   "metadata": {},
   "source": [
    "#### 3.4.1 center\n",
    "\n",
    "+ 方法`center`通过在两边添加填充字符（默认为_空格_）让字符串**居中**\n",
    "+ 其他控制对齐的方法还有`ljust`，`rjust`和`zfill`"
   ]
  },
  {
   "cell_type": "code",
   "execution_count": 3,
   "metadata": {
    "collapsed": true
   },
   "outputs": [
    {
     "data": {
      "text/plain": [
       "'*************************The Middle by Jimmy Eat World**************************'"
      ]
     },
     "execution_count": 3,
     "metadata": {},
     "output_type": "execute_result"
    }
   ],
   "source": [
    "\"The Middle by Jimmy Eat World\".center(80, \"*\")"
   ]
  },
  {
   "cell_type": "markdown",
   "metadata": {},
   "source": [
    "#### 3.4.2 find\n",
    "\n",
    "方法`find`在字符串中查找子串。如果找到，就返回子串的**第一个字符**的**索引**，否则返回`-1`。\n",
    "\n",
    "+ 🌟语法：`\"<str>\".find('<substr>', start, end)`"
   ]
  },
  {
   "cell_type": "code",
   "execution_count": 4,
   "metadata": {
    "collapsed": true
   },
   "outputs": [
    {
     "name": "stdout",
     "output_type": "stream",
     "text": [
      "0\n",
      "3\n",
      "4\n",
      "-1\n",
      "11\n",
      "11\n",
      "True\n"
     ]
    }
   ],
   "source": [
    "s = \"Are we who we are?\"\n",
    "print(s.find(\"Are\"))\n",
    "print(s.find(\" \"))\n",
    "print(s.find(\"we\"))\n",
    "print(s.find(\"be\"))\n",
    "\n",
    "print(s.find(\"we\", -7, -1))\n",
    "print(s.rfind(\"we\"))\n",
    "print(s.endswith(\"are?\"))"
   ]
  },
  {
   "cell_type": "markdown",
   "metadata": {},
   "source": [
    "+ 相关方法：`rfind`、`index`、`rindex`、`count`、`startswith`、`endswith`"
   ]
  },
  {
   "cell_type": "markdown",
   "metadata": {},
   "source": [
    "#### 3.4.3 join\n",
    "\n",
    "`join`是一个非常重要的字符串方法，其作用与[split](#3.4.6-split)相反，用于**合并**序列的元素。"
   ]
  },
  {
   "cell_type": "code",
   "execution_count": 5,
   "metadata": {
    "collapsed": true
   },
   "outputs": [
    {
     "name": "stdout",
     "output_type": "stream",
     "text": [
      "1+2+3+4+5\n",
      "------------------------------------------------------------------------------------\n",
      "https://jupyter.junyangz.com/notebooks/Python基础教程（第三版）/Python_Ch_3.ipynb\n"
     ]
    }
   ],
   "source": [
    "#seq = [1, 2, 3, 4, 5]\n",
    "seq = [\"1\", \"2\", \"3\", \"4\", \"5\"]\n",
    "sep = '+'\n",
    "print(sep.join(seq))\n",
    "print(\"------------------------------------------------------------------------------------\")\n",
    "dirs = \"jupyter.junyangz.com\", \"notebooks\", \"Python基础教程（第三版）\", \"Python_Ch_3.ipynb\"\n",
    "proxy = \"https\"\n",
    "prefix = \"://\"\n",
    "slash = \"/\"\n",
    "print(proxy + prefix + slash.join(dirs))"
   ]
  },
  {
   "cell_type": "markdown",
   "metadata": {},
   "source": [
    "#### 3.4.4 lower\n",
    "\n",
    "方法`lower`返回字符串的**小写**版本\n",
    "\n",
    "+ 相关方法：`islower`、`istitle`、`isupper`、`translate`、`capitalize`、`casefold`、`swapcase`、`title`、`upper`"
   ]
  },
  {
   "cell_type": "code",
   "execution_count": 7,
   "metadata": {
    "collapsed": true
   },
   "outputs": [
    {
     "name": "stdout",
     "output_type": "stream",
     "text": [
      "Who am I serving:alice\n",
      "Welcome, Alice San.\n"
     ]
    }
   ],
   "source": [
    "usrname = input(\"Who am I serving:\")\n",
    "usrlist = [\"Alice\", \"Bob\", \"Cavin\", \"David\", \"Eve\", \"Sakamoto\", \"Zhang\"]\n",
    "for name in usrlist:\n",
    "    usrlist[usrlist.index(name)] = name.lower()\n",
    "if usrname.lower() in usrlist : print(\"Welcome, {} San.\".format(usrname.title()))"
   ]
  },
  {
   "cell_type": "markdown",
   "metadata": {},
   "source": [
    "+ 🎁 **首字母大写**\n",
    "+ `title`方法：所有单词首字母大写：对单词的划分存在问题\n",
    "+ `capwords()`方法：以标题格式首字母大写"
   ]
  },
  {
   "cell_type": "code",
   "execution_count": 39,
   "metadata": {
    "collapsed": true
   },
   "outputs": [
    {
     "name": "stdout",
     "output_type": "stream",
     "text": [
      "Harry Potter And The Azkaban'S Prisoner\n",
      "Harry Potter And The Azkaban's Prisoner\n"
     ]
    }
   ],
   "source": [
    "import string\n",
    "\n",
    "book = \"Harry Potter and the Azkaban's Prisoner\"\n",
    "print(book.title())\n",
    "print(string.capwords(book))"
   ]
  },
  {
   "cell_type": "markdown",
   "metadata": {},
   "source": [
    "#### 3.4.5 replace\n",
    "\n",
    "方法`replace`将指定子串**都替换**为另一个字符串，并返回替换后的结果。"
   ]
  },
  {
   "cell_type": "code",
   "execution_count": 9,
   "metadata": {
    "collapsed": true
   },
   "outputs": [
    {
     "name": "stdout",
     "output_type": "stream",
     "text": [
      "TO be, or not TO be\n",
      "to be, or not to be\n"
     ]
    }
   ],
   "source": [
    "words = \"to be, or not to be\"\n",
    "print(words.replace(\"to\", \"TO\"))\n",
    "print(words)"
   ]
  },
  {
   "cell_type": "markdown",
   "metadata": {},
   "source": [
    "+ 相关方法：[translate](#3.4.8-translate)、`expandtabs`"
   ]
  },
  {
   "cell_type": "markdown",
   "metadata": {},
   "source": [
    "#### 3.4.6 split\n",
    "\n",
    "`split`是一个非常重要的字符串方法，其作用与[join](#3.4.3-join)相反，用于将字符串**拆分**为**序列**"
   ]
  },
  {
   "cell_type": "code",
   "execution_count": 6,
   "metadata": {
    "collapsed": true
   },
   "outputs": [
    {
     "name": "stdout",
     "output_type": "stream",
     "text": [
      "['https:', '', 'jupyter.junyangz.com', 'notebooks', 'Python基础教程（第三版）', 'Python_Ch_3.ipynb#3.4.6-split']\n"
     ]
    }
   ],
   "source": [
    "url = \"https://jupyter.junyangz.com/notebooks/Python基础教程（第三版）/Python_Ch_3.ipynb#3.4.6-split\"\n",
    "url_items = url.split(\"/\")\n",
    "print(url_items)"
   ]
  },
  {
   "cell_type": "markdown",
   "metadata": {},
   "source": [
    "+ 相关方法：`partition`、`rpartition`、`rsplit`、`splitlines`"
   ]
  },
  {
   "cell_type": "markdown",
   "metadata": {},
   "source": [
    "#### 3.4.7 strip\n",
    "\n",
    "方法`strip`将字符串**开头**和**末尾**的**空白（但不包括中间的空白）**删除，并返回删除后的结果\n",
    "+ 🌟语法：`'<str>'.strip('<chars>')`"
   ]
  },
  {
   "cell_type": "code",
   "execution_count": null,
   "metadata": {},
   "outputs": [],
   "source": [
    "sentence = \"    Time: 2018/10/30 15:38    \"\n",
    "print(\"{:<}\".format(sentence.strip()))\n",
    "print(\"------------------------------\")\n",
    "sentence_lst = list(sentence)\n",
    "wrapped_sentence = \"🌟\".join(sentence_lst)\n",
    "print(\"{:>60}\".format(wrapped_sentence))\n",
    "print(\"{:>60}\".format(wrapped_sentence.strip(' 🌟')))"
   ]
  },
  {
   "cell_type": "markdown",
   "metadata": {},
   "source": [
    "+ 相关方法：`lstrip`、`rstrip`"
   ]
  },
  {
   "cell_type": "markdown",
   "metadata": {},
   "source": [
    "#### 3.4.8 translate\n",
    "\n",
    "方法`translate`与[replace](#3.4.5-replace)一样**替换**字符串的特定部分，但不同的是[replace](#3.4.5-replace)只能进行单字符替换。这个方法的优势在于能够同时替换**多个**字符，因此效率比[replace](#3.4.5-replace)高\n",
    "\n",
    "+ 使用`translate`前必须创建一个**转换表**:\n",
    "\n",
    "    `str.maketrans('<replaced chars>', '<replacing chars>')`\n",
    "+ 调用方法`maketrans`时，还可提供可选的**第三个参数**，指定要将哪些字符**删除**\n",
    "    \n",
    "    `str.maketrans('<replaced chars>', '<replacing chars>', '<deleted chars>')`"
   ]
  },
  {
   "cell_type": "code",
   "execution_count": 10,
   "metadata": {
    "collapsed": true
   },
   "outputs": [
    {
     "name": "stdout",
     "output_type": "stream",
     "text": [
      "{99: 107, 115: 122, 32: None}\n",
      "American: this is a test\n",
      "German: thizizatezt\n"
     ]
    }
   ],
   "source": [
    "table = str.maketrans('cs', 'kz', ' ')\n",
    "print(table)\n",
    "test = 'this is a test'\n",
    "print(\"American: {}\".format(test))\n",
    "print(\"German: {}\".format(test.translate(table)))"
   ]
  },
  {
   "cell_type": "markdown",
   "metadata": {},
   "source": [
    "+ 相关方法：[replace](#3.4.5-replace)、[lower](#3.4.4)"
   ]
  },
  {
   "cell_type": "markdown",
   "metadata": {},
   "source": [
    "#### 3.4.9 判断字符串是否满足特定的条件\n",
    "\n",
    "以`is`开头的很多方法，都用于判断字符串是否符合某条件，返回为**布尔值**\n",
    "\n",
    "+ 相关函数：`isalnum`、`isalpha`、`isdecimal`、`isdigit`、`isidentifier`、`islower`、`isnumeric`、`isprintable`、`isspace`、`istitle`、`isupper`"
   ]
  },
  {
   "cell_type": "markdown",
   "metadata": {},
   "source": [
    "# 🞂 つづく"
   ]
  }
 ],
 "metadata": {
  "kernelspec": {
   "display_name": "Python 3",
   "language": "python",
   "name": "python3"
  },
  "language_info": {
   "codemirror_mode": {
    "name": "ipython",
    "version": 3
   },
   "file_extension": ".py",
   "mimetype": "text/x-python",
   "name": "python",
   "nbconvert_exporter": "python",
   "pygments_lexer": "ipython3",
   "version": "3.6.6"
  }
 },
 "nbformat": 4,
 "nbformat_minor": 2
}
